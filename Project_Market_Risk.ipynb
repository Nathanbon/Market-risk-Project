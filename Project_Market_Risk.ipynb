{
  "nbformat": 4,
  "nbformat_minor": 0,
  "metadata": {
    "colab": {
      "provenance": [],
      "toc_visible": true
    },
    "kernelspec": {
      "name": "python3",
      "display_name": "Python 3"
    },
    "language_info": {
      "name": "python"
    }
  },
  "cells": [
    {
      "cell_type": "markdown",
      "source": [
        "#Imports"
      ],
      "metadata": {
        "id": "X54rZIDPW04I"
      }
    },
    {
      "cell_type": "code",
      "source": [
        "import numpy as np\n",
        "import matplotlib.pyplot as plt\n",
        "import pandas as pd\n",
        "from datetime import datetime\n",
        "from scipy.stats import norm\n",
        "import math\n",
        "import statsmodels.api as sm"
      ],
      "metadata": {
        "id": "X7-MG9TYW7Kt"
      },
      "execution_count": 1,
      "outputs": []
    },
    {
      "cell_type": "code",
      "source": [
        "data_natixis = pd.read_csv('Natixis stock (dataset TD12).txt', delimiter=\"\\t\", header=None)\n",
        "print(data_natixis.shape)"
      ],
      "metadata": {
        "colab": {
          "base_uri": "https://localhost:8080/"
        },
        "id": "rw2jZLWuW26J",
        "outputId": "9208c22f-9a74-4249-fece-77823ca63152"
      },
      "execution_count": null,
      "outputs": [
        {
          "output_type": "stream",
          "name": "stdout",
          "text": [
            "(1023, 2)\n"
          ]
        }
      ]
    },
    {
      "cell_type": "markdown",
      "source": [
        "#Data processing"
      ],
      "metadata": {
        "id": "0cNTjCWNkUyy"
      }
    },
    {
      "cell_type": "code",
      "source": [
        "data_natixis = data_natixis.rename(columns={0:\"date\",1:\"stock_value\"})\n",
        "data_natixis['date'] = pd.to_datetime(data_natixis['date'])\n",
        "data_natixis[\"stock_value\"] = data_natixis[\"stock_value\"].str.replace(',', '.').astype(float)\n",
        "stock_values = data_natixis['stock_value']\n",
        "returns = np.zeros(len(stock_values))\n",
        "for i in range(1, len(stock_values)):\n",
        "    returns[i] = (stock_values[i] - stock_values[i-1]) / stock_values[i-1]\n",
        "data_natixis['returns'] = returns\n",
        "data_natixis['returns'] = data_natixis['returns'].round(5)"
      ],
      "metadata": {
        "colab": {
          "base_uri": "https://localhost:8080/"
        },
        "id": "YRwBzEs6j2GP",
        "outputId": "578a6c07-b80c-4b9b-ba7c-e6ad38b8b2a7"
      },
      "execution_count": null,
      "outputs": [
        {
          "output_type": "stream",
          "name": "stderr",
          "text": [
            "<ipython-input-3-ff178ec7ffbd>:2: UserWarning: Parsing dates in DD/MM/YYYY format when dayfirst=False (the default) was specified. This may lead to inconsistently parsed dates! Specify a format to ensure consistent parsing.\n",
            "  data_natixis['date'] = pd.to_datetime(data_natixis['date'])\n"
          ]
        }
      ]
    },
    {
      "cell_type": "code",
      "source": [
        "data_natixis.head()"
      ],
      "metadata": {
        "colab": {
          "base_uri": "https://localhost:8080/",
          "height": 206
        },
        "id": "birmTTvckDW4",
        "outputId": "af27af7b-df52-4f2b-c4ee-a5d264cb75c4"
      },
      "execution_count": null,
      "outputs": [
        {
          "output_type": "execute_result",
          "data": {
            "text/plain": [
              "        date  stock_value  returns\n",
              "0 2015-02-01        5.621  0.00000\n",
              "1 2015-05-01        5.424 -0.03505\n",
              "2 2015-06-01        5.329 -0.01751\n",
              "3 2015-07-01        5.224 -0.01970\n",
              "4 2015-08-01        5.453  0.04384"
            ],
            "text/html": [
              "\n",
              "  <div id=\"df-ae09b90c-a004-443e-95b8-393f756a730f\" class=\"colab-df-container\">\n",
              "    <div>\n",
              "<style scoped>\n",
              "    .dataframe tbody tr th:only-of-type {\n",
              "        vertical-align: middle;\n",
              "    }\n",
              "\n",
              "    .dataframe tbody tr th {\n",
              "        vertical-align: top;\n",
              "    }\n",
              "\n",
              "    .dataframe thead th {\n",
              "        text-align: right;\n",
              "    }\n",
              "</style>\n",
              "<table border=\"1\" class=\"dataframe\">\n",
              "  <thead>\n",
              "    <tr style=\"text-align: right;\">\n",
              "      <th></th>\n",
              "      <th>date</th>\n",
              "      <th>stock_value</th>\n",
              "      <th>returns</th>\n",
              "    </tr>\n",
              "  </thead>\n",
              "  <tbody>\n",
              "    <tr>\n",
              "      <th>0</th>\n",
              "      <td>2015-02-01</td>\n",
              "      <td>5.621</td>\n",
              "      <td>0.00000</td>\n",
              "    </tr>\n",
              "    <tr>\n",
              "      <th>1</th>\n",
              "      <td>2015-05-01</td>\n",
              "      <td>5.424</td>\n",
              "      <td>-0.03505</td>\n",
              "    </tr>\n",
              "    <tr>\n",
              "      <th>2</th>\n",
              "      <td>2015-06-01</td>\n",
              "      <td>5.329</td>\n",
              "      <td>-0.01751</td>\n",
              "    </tr>\n",
              "    <tr>\n",
              "      <th>3</th>\n",
              "      <td>2015-07-01</td>\n",
              "      <td>5.224</td>\n",
              "      <td>-0.01970</td>\n",
              "    </tr>\n",
              "    <tr>\n",
              "      <th>4</th>\n",
              "      <td>2015-08-01</td>\n",
              "      <td>5.453</td>\n",
              "      <td>0.04384</td>\n",
              "    </tr>\n",
              "  </tbody>\n",
              "</table>\n",
              "</div>\n",
              "    <div class=\"colab-df-buttons\">\n",
              "\n",
              "  <div class=\"colab-df-container\">\n",
              "    <button class=\"colab-df-convert\" onclick=\"convertToInteractive('df-ae09b90c-a004-443e-95b8-393f756a730f')\"\n",
              "            title=\"Convert this dataframe to an interactive table.\"\n",
              "            style=\"display:none;\">\n",
              "\n",
              "  <svg xmlns=\"http://www.w3.org/2000/svg\" height=\"24px\" viewBox=\"0 -960 960 960\">\n",
              "    <path d=\"M120-120v-720h720v720H120Zm60-500h600v-160H180v160Zm220 220h160v-160H400v160Zm0 220h160v-160H400v160ZM180-400h160v-160H180v160Zm440 0h160v-160H620v160ZM180-180h160v-160H180v160Zm440 0h160v-160H620v160Z\"/>\n",
              "  </svg>\n",
              "    </button>\n",
              "\n",
              "  <style>\n",
              "    .colab-df-container {\n",
              "      display:flex;\n",
              "      gap: 12px;\n",
              "    }\n",
              "\n",
              "    .colab-df-convert {\n",
              "      background-color: #E8F0FE;\n",
              "      border: none;\n",
              "      border-radius: 50%;\n",
              "      cursor: pointer;\n",
              "      display: none;\n",
              "      fill: #1967D2;\n",
              "      height: 32px;\n",
              "      padding: 0 0 0 0;\n",
              "      width: 32px;\n",
              "    }\n",
              "\n",
              "    .colab-df-convert:hover {\n",
              "      background-color: #E2EBFA;\n",
              "      box-shadow: 0px 1px 2px rgba(60, 64, 67, 0.3), 0px 1px 3px 1px rgba(60, 64, 67, 0.15);\n",
              "      fill: #174EA6;\n",
              "    }\n",
              "\n",
              "    .colab-df-buttons div {\n",
              "      margin-bottom: 4px;\n",
              "    }\n",
              "\n",
              "    [theme=dark] .colab-df-convert {\n",
              "      background-color: #3B4455;\n",
              "      fill: #D2E3FC;\n",
              "    }\n",
              "\n",
              "    [theme=dark] .colab-df-convert:hover {\n",
              "      background-color: #434B5C;\n",
              "      box-shadow: 0px 1px 3px 1px rgba(0, 0, 0, 0.15);\n",
              "      filter: drop-shadow(0px 1px 2px rgba(0, 0, 0, 0.3));\n",
              "      fill: #FFFFFF;\n",
              "    }\n",
              "  </style>\n",
              "\n",
              "    <script>\n",
              "      const buttonEl =\n",
              "        document.querySelector('#df-ae09b90c-a004-443e-95b8-393f756a730f button.colab-df-convert');\n",
              "      buttonEl.style.display =\n",
              "        google.colab.kernel.accessAllowed ? 'block' : 'none';\n",
              "\n",
              "      async function convertToInteractive(key) {\n",
              "        const element = document.querySelector('#df-ae09b90c-a004-443e-95b8-393f756a730f');\n",
              "        const dataTable =\n",
              "          await google.colab.kernel.invokeFunction('convertToInteractive',\n",
              "                                                    [key], {});\n",
              "        if (!dataTable) return;\n",
              "\n",
              "        const docLinkHtml = 'Like what you see? Visit the ' +\n",
              "          '<a target=\"_blank\" href=https://colab.research.google.com/notebooks/data_table.ipynb>data table notebook</a>'\n",
              "          + ' to learn more about interactive tables.';\n",
              "        element.innerHTML = '';\n",
              "        dataTable['output_type'] = 'display_data';\n",
              "        await google.colab.output.renderOutput(dataTable, element);\n",
              "        const docLink = document.createElement('div');\n",
              "        docLink.innerHTML = docLinkHtml;\n",
              "        element.appendChild(docLink);\n",
              "      }\n",
              "    </script>\n",
              "  </div>\n",
              "\n",
              "\n",
              "<div id=\"df-f4cd1b49-8824-451f-b453-681571d4834b\">\n",
              "  <button class=\"colab-df-quickchart\" onclick=\"quickchart('df-f4cd1b49-8824-451f-b453-681571d4834b')\"\n",
              "            title=\"Suggest charts\"\n",
              "            style=\"display:none;\">\n",
              "\n",
              "<svg xmlns=\"http://www.w3.org/2000/svg\" height=\"24px\"viewBox=\"0 0 24 24\"\n",
              "     width=\"24px\">\n",
              "    <g>\n",
              "        <path d=\"M19 3H5c-1.1 0-2 .9-2 2v14c0 1.1.9 2 2 2h14c1.1 0 2-.9 2-2V5c0-1.1-.9-2-2-2zM9 17H7v-7h2v7zm4 0h-2V7h2v10zm4 0h-2v-4h2v4z\"/>\n",
              "    </g>\n",
              "</svg>\n",
              "  </button>\n",
              "\n",
              "<style>\n",
              "  .colab-df-quickchart {\n",
              "      --bg-color: #E8F0FE;\n",
              "      --fill-color: #1967D2;\n",
              "      --hover-bg-color: #E2EBFA;\n",
              "      --hover-fill-color: #174EA6;\n",
              "      --disabled-fill-color: #AAA;\n",
              "      --disabled-bg-color: #DDD;\n",
              "  }\n",
              "\n",
              "  [theme=dark] .colab-df-quickchart {\n",
              "      --bg-color: #3B4455;\n",
              "      --fill-color: #D2E3FC;\n",
              "      --hover-bg-color: #434B5C;\n",
              "      --hover-fill-color: #FFFFFF;\n",
              "      --disabled-bg-color: #3B4455;\n",
              "      --disabled-fill-color: #666;\n",
              "  }\n",
              "\n",
              "  .colab-df-quickchart {\n",
              "    background-color: var(--bg-color);\n",
              "    border: none;\n",
              "    border-radius: 50%;\n",
              "    cursor: pointer;\n",
              "    display: none;\n",
              "    fill: var(--fill-color);\n",
              "    height: 32px;\n",
              "    padding: 0;\n",
              "    width: 32px;\n",
              "  }\n",
              "\n",
              "  .colab-df-quickchart:hover {\n",
              "    background-color: var(--hover-bg-color);\n",
              "    box-shadow: 0 1px 2px rgba(60, 64, 67, 0.3), 0 1px 3px 1px rgba(60, 64, 67, 0.15);\n",
              "    fill: var(--button-hover-fill-color);\n",
              "  }\n",
              "\n",
              "  .colab-df-quickchart-complete:disabled,\n",
              "  .colab-df-quickchart-complete:disabled:hover {\n",
              "    background-color: var(--disabled-bg-color);\n",
              "    fill: var(--disabled-fill-color);\n",
              "    box-shadow: none;\n",
              "  }\n",
              "\n",
              "  .colab-df-spinner {\n",
              "    border: 2px solid var(--fill-color);\n",
              "    border-color: transparent;\n",
              "    border-bottom-color: var(--fill-color);\n",
              "    animation:\n",
              "      spin 1s steps(1) infinite;\n",
              "  }\n",
              "\n",
              "  @keyframes spin {\n",
              "    0% {\n",
              "      border-color: transparent;\n",
              "      border-bottom-color: var(--fill-color);\n",
              "      border-left-color: var(--fill-color);\n",
              "    }\n",
              "    20% {\n",
              "      border-color: transparent;\n",
              "      border-left-color: var(--fill-color);\n",
              "      border-top-color: var(--fill-color);\n",
              "    }\n",
              "    30% {\n",
              "      border-color: transparent;\n",
              "      border-left-color: var(--fill-color);\n",
              "      border-top-color: var(--fill-color);\n",
              "      border-right-color: var(--fill-color);\n",
              "    }\n",
              "    40% {\n",
              "      border-color: transparent;\n",
              "      border-right-color: var(--fill-color);\n",
              "      border-top-color: var(--fill-color);\n",
              "    }\n",
              "    60% {\n",
              "      border-color: transparent;\n",
              "      border-right-color: var(--fill-color);\n",
              "    }\n",
              "    80% {\n",
              "      border-color: transparent;\n",
              "      border-right-color: var(--fill-color);\n",
              "      border-bottom-color: var(--fill-color);\n",
              "    }\n",
              "    90% {\n",
              "      border-color: transparent;\n",
              "      border-bottom-color: var(--fill-color);\n",
              "    }\n",
              "  }\n",
              "</style>\n",
              "\n",
              "  <script>\n",
              "    async function quickchart(key) {\n",
              "      const quickchartButtonEl =\n",
              "        document.querySelector('#' + key + ' button');\n",
              "      quickchartButtonEl.disabled = true;  // To prevent multiple clicks.\n",
              "      quickchartButtonEl.classList.add('colab-df-spinner');\n",
              "      try {\n",
              "        const charts = await google.colab.kernel.invokeFunction(\n",
              "            'suggestCharts', [key], {});\n",
              "      } catch (error) {\n",
              "        console.error('Error during call to suggestCharts:', error);\n",
              "      }\n",
              "      quickchartButtonEl.classList.remove('colab-df-spinner');\n",
              "      quickchartButtonEl.classList.add('colab-df-quickchart-complete');\n",
              "    }\n",
              "    (() => {\n",
              "      let quickchartButtonEl =\n",
              "        document.querySelector('#df-f4cd1b49-8824-451f-b453-681571d4834b button');\n",
              "      quickchartButtonEl.style.display =\n",
              "        google.colab.kernel.accessAllowed ? 'block' : 'none';\n",
              "    })();\n",
              "  </script>\n",
              "</div>\n",
              "    </div>\n",
              "  </div>\n"
            ]
          },
          "metadata": {},
          "execution_count": 4
        }
      ]
    },
    {
      "cell_type": "markdown",
      "source": [
        "#Data visualization"
      ],
      "metadata": {
        "id": "9RaaguQ7kd9c"
      }
    },
    {
      "cell_type": "code",
      "source": [
        "plt.plot(data_natixis['stock_value'], color='lightsteelblue')\n",
        "plt.title(\"Natixis returns distribution\")\n",
        "plt.xlabel(\"Return\")\n",
        "plt.grid(True)\n",
        "plt.ylabel(\"Frequency\")\n",
        "plt.xlim(0,1024)\n",
        "plt.show()"
      ],
      "metadata": {
        "colab": {
          "base_uri": "https://localhost:8080/",
          "height": 472
        },
        "id": "3Lk-dPBCkfcW",
        "outputId": "ebf68bd1-6253-4a1b-e3a8-041f6a89185c"
      },
      "execution_count": null,
      "outputs": [
        {
          "output_type": "display_data",
          "data": {
            "text/plain": [
              "<Figure size 640x480 with 1 Axes>"
            ],
            "image/png": "[encoded data removed]"
          },
          "metadata": {}
        }
      ]
    },
    {
      "cell_type": "code",
      "source": [
        "plt.hist(data_natixis['returns'], bins=40, color='lightsteelblue', edgecolor=\"grey\")\n",
        "plt.title(\"Natixis returns distribution\")\n",
        "plt.xlim(-0.1,0.1)\n",
        "plt.xlabel(\"Return\")\n",
        "plt.grid(True)\n",
        "plt.ylabel(\"Frequency\")\n",
        "plt.show()"
      ],
      "metadata": {
        "colab": {
          "base_uri": "https://localhost:8080/",
          "height": 472
        },
        "id": "rG9iM6rqkjFK",
        "outputId": "36a9da2a-b4e1-4996-fe23-ad07c9f28695"
      },
      "execution_count": null,
      "outputs": [
        {
          "output_type": "display_data",
          "data": {
            "text/plain": [
              "<Figure size 640x480 with 1 Axes>"
            ],
            "image/png": "[encoded data removed]"
          },
          "metadata": {}
        }
      ]
    },
    {
      "cell_type": "markdown",
      "source": [
        "#Question A : Value at Risk"
      ],
      "metadata": {
        "id": "DHI-GECzXF3W"
      }
    },
    {
      "cell_type": "markdown",
      "source": [
        "##1) Non parametric VaR"
      ],
      "metadata": {
        "id": "QVXruE-gXH1-"
      }
    },
    {
      "cell_type": "code",
      "source": [
        "data2015_2016 = data_natixis[(data_natixis[\"date\"] >= datetime(2015,1,1)) & (data_natixis[\"date\"] <= datetime(2016,12,31))]\n",
        "rdt = data2015_2016['returns']"
      ],
      "metadata": {
        "id": "qrIOfc4eXWkb"
      },
      "execution_count": null,
      "outputs": []
    },
    {
      "cell_type": "markdown",
      "source": [
        "###a) Kernel pdf"
      ],
      "metadata": {
        "id": "0Nr26VIzXW88"
      }
    },
    {
      "cell_type": "code",
      "source": [
        "def get_scott_bandwidth(data, sigma):\n",
        "    n = len(data)\n",
        "    bandwidth = 1.06 * sigma * n**(-0.2)\n",
        "    return bandwidth"
      ],
      "metadata": {
        "id": "rR4mKtcMl9cF"
      },
      "execution_count": null,
      "outputs": []
    },
    {
      "cell_type": "code",
      "source": [
        "def biweight(u):\n",
        "    return (15/16) * (1 - u**2)**2 * (np.abs(u) <= 1)"
      ],
      "metadata": {
        "id": "8hEDjJvck4CK"
      },
      "execution_count": null,
      "outputs": []
    },
    {
      "cell_type": "code",
      "source": [
        "def kernel_density_estimate(data, x, bandwidth):\n",
        "    kernel_vals = 0\n",
        "    for i in range(len(data)):\n",
        "        kernel_vals += biweight((x - data.iloc[i]) / bandwidth)\n",
        "    return kernel_vals / (len(data) * bandwidth)"
      ],
      "metadata": {
        "id": "6WNFAjgFlZIv"
      },
      "execution_count": null,
      "outputs": []
    },
    {
      "cell_type": "code",
      "source": [
        "mean = round((np.sum(rdt))/len(rdt),5)\n",
        "std = round(((np.sum((rdt - mean)**2))/(len(rdt)-1))**0.5,5)"
      ],
      "metadata": {
        "id": "queT2mi_mKPS"
      },
      "execution_count": null,
      "outputs": []
    },
    {
      "cell_type": "code",
      "source": [
        "x_values = np.linspace(np.min(rdt)-0.1, np.max(rdt)+0.1, 1000)\n",
        "scott_h = get_scott_bandwidth(rdt, std)\n",
        "PDF = [kernel_density_estimate(rdt, x, scott_h) for x in x_values]"
      ],
      "metadata": {
        "id": "V31z1Mtsl3EG"
      },
      "execution_count": null,
      "outputs": []
    },
    {
      "cell_type": "code",
      "source": [
        "print(scott_h)"
      ],
      "metadata": {
        "colab": {
          "base_uri": "https://localhost:8080/"
        },
        "id": "UZ-BuD0Pln4n",
        "outputId": "d8d88259-b575-4529-efed-66f132ef4cb0"
      },
      "execution_count": null,
      "outputs": [
        {
          "output_type": "stream",
          "name": "stdout",
          "text": [
            "0.0072602709985179\n"
          ]
        }
      ]
    },
    {
      "cell_type": "code",
      "source": [
        "kernel_bi = biweight(np.linspace(-1.5, 1.5, 300))\n",
        "plt.plot(np.linspace(-1.5, 1.5, 300), kernel_bi, color='firebrick')\n",
        "plt.title('Biweight (Quartic) Kernel')\n",
        "plt.xlabel('x')\n",
        "plt.ylabel('y')\n",
        "plt.grid(True)\n",
        "plt.show()"
      ],
      "metadata": {
        "colab": {
          "base_uri": "https://localhost:8080/",
          "height": 472
        },
        "id": "VO5tRC5VWmoy",
        "outputId": "0d9de48e-1694-4d1f-b37e-9b3a15040bb3"
      },
      "execution_count": null,
      "outputs": [
        {
          "output_type": "display_data",
          "data": {
            "text/plain": [
              "<Figure size 640x480 with 1 Axes>"
            ],
            "image/png": "[encoded data removed]"
          },
          "metadata": {}
        }
      ]
    },
    {
      "cell_type": "code",
      "source": [
        "plt.plot(x_values, PDF,color ='firebrick')\n",
        "plt.hist(rdt, bins=40, density=True,edgecolor='dimgrey',label='gains',color='lightsteelblue',alpha=0.5)\n",
        "plt.xlabel('x')\n",
        "plt.ylabel('Density')\n",
        "plt.grid(True)\n",
        "plt.title(\"Biweight Kernel density (2015-2016)\")\n",
        "plt.xlim(-0.10, 0.10)\n",
        "plt.show()"
      ],
      "metadata": {
        "colab": {
          "base_uri": "https://localhost:8080/",
          "height": 472
        },
        "id": "BpGEwj6NoIA-",
        "outputId": "25751aef-229c-483d-ca27-8d5f55172c44"
      },
      "execution_count": null,
      "outputs": [
        {
          "output_type": "display_data",
          "data": {
            "text/plain": [
              "<Figure size 640x480 with 1 Axes>"
            ],
            "image/png": "[encoded data removed]"
          },
          "metadata": {}
        }
      ]
    },
    {
      "cell_type": "markdown",
      "source": [
        "###b) Kernel cdf"
      ],
      "metadata": {
        "id": "f5pdniveXa9V"
      }
    },
    {
      "cell_type": "code",
      "source": [
        "integration_step = x_values[1] - x_values[0]\n",
        "CDF = np.cumsum(PDF) * integration_step"
      ],
      "metadata": {
        "id": "aUzfFQ7W4zXr"
      },
      "execution_count": null,
      "outputs": []
    },
    {
      "cell_type": "code",
      "source": [
        "plt.plot(x_values, CDF,color ='firebrick')\n",
        "plt.xlabel('x')\n",
        "plt.ylabel('Density')\n",
        "plt.xlim(-0.15,0.15)\n",
        "plt.grid(True)\n",
        "plt.title(\"Biweight Kernel CDF\")\n",
        "plt.show()"
      ],
      "metadata": {
        "colab": {
          "base_uri": "https://localhost:8080/",
          "height": 472
        },
        "id": "HyxcVNYW458a",
        "outputId": "9aa9ceab-ae7e-457d-a4db-8826b0a66631"
      },
      "execution_count": null,
      "outputs": [
        {
          "output_type": "display_data",
          "data": {
            "text/plain": [
              "<Figure size 640x480 with 1 Axes>"
            ],
            "image/png": "[encoded data removed]"
          },
          "metadata": {}
        }
      ]
    },
    {
      "cell_type": "markdown",
      "source": [
        "###c) VaR calculation"
      ],
      "metadata": {
        "id": "9eM_QbrsXdnO"
      }
    },
    {
      "cell_type": "code",
      "source": [
        "def get_Non_Param_VaR(data, alpha):\n",
        "  min = np.argmin((CDF - alpha)**2)\n",
        "  return round(x_values[min],5)"
      ],
      "metadata": {
        "id": "mLsTrVKc6J_x"
      },
      "execution_count": null,
      "outputs": []
    },
    {
      "cell_type": "code",
      "source": [
        "Non_parametric_VaR = get_Non_Param_VaR(rdt, 0.05)\n",
        "print(\"Non-parametric Value at Risk :\",Non_parametric_VaR)"
      ],
      "metadata": {
        "colab": {
          "base_uri": "https://localhost:8080/"
        },
        "id": "GRKs3E5e7Hab",
        "outputId": "e84ecbab-babf-4a5b-da3e-8e90db27df62"
      },
      "execution_count": null,
      "outputs": [
        {
          "output_type": "stream",
          "name": "stdout",
          "text": [
            "Non-parametric Value at Risk : -0.03812\n"
          ]
        }
      ]
    },
    {
      "cell_type": "code",
      "source": [
        "plt.hist(rdt, bins=40, density=True,edgecolor='dimgrey',color='lightsteelblue',alpha=0.5, label=\"returns\")\n",
        "plt.axvline(Non_parametric_VaR, color='violet', linestyle='--', label='non_parametric_VaR')\n",
        "plt.plot(x_values, PDF,color ='firebrick',label='kernel density estimate')\n",
        "plt.xlabel('x')\n",
        "plt.ylabel('Density')\n",
        "plt.grid(True)\n",
        "plt.legend()\n",
        "plt.title(\"Biweight Kernel density (2015-2016) and VaR\")\n",
        "plt.xlim(-0.10, 0.10)\n",
        "plt.show()"
      ],
      "metadata": {
        "colab": {
          "base_uri": "https://localhost:8080/",
          "height": 472
        },
        "id": "oyYKBz1y7d_N",
        "outputId": "40f96dce-32d1-4973-d5a2-7cf3299a376c"
      },
      "execution_count": null,
      "outputs": [
        {
          "output_type": "display_data",
          "data": {
            "text/plain": [
              "<Figure size 640x480 with 1 Axes>"
            ],
            "image/png": "[encoded data removed]"
          },
          "metadata": {}
        }
      ]
    },
    {
      "cell_type": "markdown",
      "source": [
        "##2) VaR validation"
      ],
      "metadata": {
        "id": "tgl9GJXG8kBS"
      }
    },
    {
      "cell_type": "code",
      "source": [
        "data2017_2018 = data_natixis[(data_natixis['date'] >=  datetime(2017, 1, 1)) & (data_natixis['date'] <= datetime(2018, 12, 31))]\n",
        "rdt2 = data2017_2018['returns']"
      ],
      "metadata": {
        "id": "4hLi61wH8nIC"
      },
      "execution_count": null,
      "outputs": []
    },
    {
      "cell_type": "markdown",
      "source": [
        "###a) In sample"
      ],
      "metadata": {
        "id": "C-czql9RXzT7"
      }
    },
    {
      "cell_type": "code",
      "source": [
        "NpVaR_exceeding = (rdt <= Non_parametric_VaR).sum()\n",
        "NpVaR_proportion = round(NpVaR_exceeding  / len(rdt),4)\n",
        "print(\"With Non-parametric VaR:\")\n",
        "print(NpVaR_exceeding,\" returns on \", len(rdt), \" exceed the VaR threshold\")\n",
        "print(\"Corresponding to\",round(NpVaR_proportion*100,5),\"%, for a risk level of 5%\")"
      ],
      "metadata": {
        "colab": {
          "base_uri": "https://localhost:8080/"
        },
        "id": "tPPwIoQUX30G",
        "outputId": "c865082c-cf1b-4dde-f984-84f738fc8e8d"
      },
      "execution_count": null,
      "outputs": [
        {
          "output_type": "stream",
          "name": "stdout",
          "text": [
            "With Non-parametric VaR:\n",
            "26  returns on  513  exceed the VaR threshold\n",
            "Corresponding to 5.07 %, for a risk level of 5%\n"
          ]
        }
      ]
    },
    {
      "cell_type": "markdown",
      "source": [
        "###b) Out of sample"
      ],
      "metadata": {
        "id": "EIo1_-MgX3-2"
      }
    },
    {
      "cell_type": "code",
      "source": [
        "mean2 = round((np.sum(rdt2))/len(rdt2),5)\n",
        "std2 = round(((np.sum((rdt2 - mean2)**2))/(len(rdt2)-1))**0.5,5)\n",
        "x_values2 = np.linspace(np.min(rdt2)-0.1, np.max(rdt2)+0.1, 1000)\n",
        "scott_h = get_scott_bandwidth(rdt2, std2)\n",
        "PDF2 = [kernel_density_estimate(rdt2, x, scott_h) for x in x_values2]"
      ],
      "metadata": {
        "id": "DlljMPSG9NUM"
      },
      "execution_count": null,
      "outputs": []
    },
    {
      "cell_type": "code",
      "source": [
        "NpVaR_exceeding2 = (rdt2 <= Non_parametric_VaR).sum()\n",
        "NpVaR_proportion2 = round(NpVaR_exceeding2 / len(rdt2),4)\n",
        "print(\"With Non-parametric VaR:\")\n",
        "print(NpVaR_exceeding2,\" returns on \", len(rdt2), \" exceed the VaR threshold\")\n",
        "print(\"Corresponding to\",round(NpVaR_proportion2*100,5),\"%, for a risk level of 5%\")"
      ],
      "metadata": {
        "colab": {
          "base_uri": "https://localhost:8080/"
        },
        "id": "WWF4G5AuYKYm",
        "outputId": "3d60ccac-4c45-4d1e-b112-4bf6776a5f1b"
      },
      "execution_count": null,
      "outputs": [
        {
          "output_type": "stream",
          "name": "stdout",
          "text": [
            "With Non-parametric VaR:\n",
            "8  returns on  510  exceed the VaR threshold\n",
            "Corresponding to 1.57 %, for a risk level of 5%\n"
          ]
        }
      ]
    },
    {
      "cell_type": "code",
      "source": [
        "plt.hist(rdt2, bins=40, density=True,edgecolor='dimgrey',color='lightsteelblue',alpha=0.5, label=\"returns\")\n",
        "plt.axvline(Non_parametric_VaR, color='violet', linestyle='--', label='non_parametric_VaR')\n",
        "plt.plot(x_values2, PDF2,color ='firebrick',label='kernel density estimate')\n",
        "plt.xlabel('x')\n",
        "plt.ylabel('Density')\n",
        "plt.grid(True)\n",
        "plt.legend()\n",
        "plt.title(\"Biweight Kernel density (2017-2018) and VaR\")\n",
        "plt.xlim(-0.10, 0.10)\n",
        "plt.show()"
      ],
      "metadata": {
        "colab": {
          "base_uri": "https://localhost:8080/",
          "height": 472
        },
        "id": "I5OB_cGTYQo1",
        "outputId": "3576b151-4dae-418c-fce3-59e25e3db220"
      },
      "execution_count": null,
      "outputs": [
        {
          "output_type": "display_data",
          "data": {
            "text/plain": [
              "<Figure size 640x480 with 1 Axes>"
            ],
            "image/png": "[encoded data removed]"
          },
          "metadata": {}
        }
      ]
    },
    {
      "cell_type": "markdown",
      "source": [
        "###c) Comparison"
      ],
      "metadata": {
        "id": "uQKvkM_aYNBr"
      }
    },
    {
      "cell_type": "code",
      "source": [
        "plt.hist(rdt, bins=40, color='lightsteelblue', edgecolor=\"grey\", label='2015-2016')\n",
        "plt.hist(rdt2, bins=40, color='violet', alpha=0.5, edgecolor=\"grey\", label='2017-2018')\n",
        "plt.axvline(Non_parametric_VaR, color='orange', linestyle='--', label='non_parametric_VaR')\n",
        "plt.title(\"Return distributions and VaR\")\n",
        "plt.xlim(-0.1,0.1)\n",
        "plt.xlabel(\"Return\")\n",
        "plt.grid(True)\n",
        "plt.legend()\n",
        "plt.ylabel(\"Frequency\")\n",
        "plt.show()"
      ],
      "metadata": {
        "colab": {
          "base_uri": "https://localhost:8080/",
          "height": 472
        },
        "id": "tqJ3DdhtYVAt",
        "outputId": "386566dd-ec59-4e2c-812c-109fcb5b7a82"
      },
      "execution_count": null,
      "outputs": [
        {
          "output_type": "display_data",
          "data": {
            "text/plain": [
              "<Figure size 640x480 with 1 Axes>"
            ],
            "image/png": "[encoded data removed]"
          },
          "metadata": {}
        }
      ]
    },
    {
      "cell_type": "markdown",
      "source": [
        "#Question B : Expected Shorfall"
      ],
      "metadata": {
        "id": "AyuBK98RZPfv"
      }
    },
    {
      "cell_type": "code",
      "source": [
        "rdt_over_VaR = data2015_2016['returns'][data2015_2016['returns']<= Non_parametric_VaR]\n",
        "ES = round(sum(rdt_over_VaR) / len(rdt_over_VaR),5)\n",
        "print(\"Non parametric VaR :\",Non_parametric_VaR)\n",
        "print(\"The expected shorfall for the non_parametric VaR in sample (2015-2016) is : \",ES)"
      ],
      "metadata": {
        "colab": {
          "base_uri": "https://localhost:8080/"
        },
        "id": "W74KPl8UZbSC",
        "outputId": "12fa4aec-233a-4609-ee78-a8a8c8a49d10"
      },
      "execution_count": null,
      "outputs": [
        {
          "output_type": "stream",
          "name": "stdout",
          "text": [
            "Non parametric VaR : -0.03812\n",
            "The expected shorfall for the non_parametric VaR in sample (2015-2016) is :  -0.05336\n"
          ]
        }
      ]
    },
    {
      "cell_type": "markdown",
      "source": [
        "#Question C : GEV"
      ],
      "metadata": {
        "id": "w-ZWUxp7ccJe"
      }
    },
    {
      "cell_type": "markdown",
      "source": [
        "##1) Pickands estimator"
      ],
      "metadata": {
        "id": "7-lOJnHYdQIh"
      }
    },
    {
      "cell_type": "markdown",
      "source": [
        "###a)Gains and losses"
      ],
      "metadata": {
        "id": "PsIrY14VdXKF"
      }
    },
    {
      "cell_type": "markdown",
      "source": [
        "We have to work on the two tails of the distribution so we will consider the gains and the losses.\n",
        "\n",
        "For the negative returns (losses), we take the opposite in order to work only with positive values."
      ],
      "metadata": {
        "id": "Rz3e2zJ1dHgO"
      }
    },
    {
      "cell_type": "code",
      "source": [
        "gains = data_natixis['returns'][data_natixis['returns']>0]\n",
        "losses = -data_natixis['returns'][data_natixis['returns']<0]\n",
        "gains_sorted = sorted(gains)\n",
        "losses_sorted = sorted(losses)\n",
        "print(len(gains))\n",
        "print(len(losses))\n",
        "print(len(data_natixis['returns']))"
      ],
      "metadata": {
        "id": "CMHSam2gcZ_A",
        "colab": {
          "base_uri": "https://localhost:8080/"
        },
        "outputId": "01bee181-e628-49fa-de59-4b1fee169f6d"
      },
      "execution_count": null,
      "outputs": [
        {
          "output_type": "stream",
          "name": "stdout",
          "text": [
            "498\n",
            "519\n",
            "1023\n"
          ]
        }
      ]
    },
    {
      "cell_type": "markdown",
      "source": [
        "Let's plot the two series to check the distribution :"
      ],
      "metadata": {
        "id": "3mkNnq3odLhf"
      }
    },
    {
      "cell_type": "code",
      "source": [
        "plt.hist(gains_sorted, bins=40, density=True,edgecolor='dimgrey',label='gains',color='lightsteelblue')\n",
        "plt.hist(losses_sorted, bins=60, density=True,edgecolor='dimgrey', label='losses', alpha=0.6, color=\"violet\")\n",
        "plt.title(\"Gains and losses distribution\")\n",
        "plt.xlim(0,0.1)\n",
        "plt.grid(True)\n",
        "plt.legend()\n",
        "plt.show()"
      ],
      "metadata": {
        "colab": {
          "base_uri": "https://localhost:8080/",
          "height": 452
        },
        "id": "T1NGNKGTdC8i",
        "outputId": "948ec7e0-c8cd-48fb-a11b-d60af246f429"
      },
      "execution_count": null,
      "outputs": [
        {
          "output_type": "display_data",
          "data": {
            "text/plain": [
              "<Figure size 640x480 with 1 Axes>"
            ],
            "image/png": "[encoded data removed]"
          },
          "metadata": {}
        }
      ]
    },
    {
      "cell_type": "code",
      "source": [
        "len(gains)"
      ],
      "metadata": {
        "colab": {
          "base_uri": "https://localhost:8080/"
        },
        "id": "evlB9zw9hUkd",
        "outputId": "79312572-176a-403b-9999-715cd0771a1d"
      },
      "execution_count": null,
      "outputs": [
        {
          "output_type": "execute_result",
          "data": {
            "text/plain": [
              "498"
            ]
          },
          "metadata": {},
          "execution_count": 30
        }
      ]
    },
    {
      "cell_type": "markdown",
      "source": [
        "###b) Estimator"
      ],
      "metadata": {
        "id": "1j7HAFdYdaQI"
      }
    },
    {
      "cell_type": "code",
      "source": [
        "def pickands_estimator(data):\n",
        "    n = len(data)\n",
        "    k_n = np.log(n)\n",
        "    x1 = data[n-math.floor(k_n)]\n",
        "    x2 = data[n-2*math.floor(k_n)]\n",
        "    x3 = data[n-4*math.floor(k_n)]\n",
        "    pickands = (1/np.log(2)) * np.log((x1-x2)/(x2-x3))\n",
        "    return round(pickands,3)"
      ],
      "metadata": {
        "id": "WNDTaa_Idc9C"
      },
      "execution_count": null,
      "outputs": []
    },
    {
      "cell_type": "code",
      "source": [
        "pickands_gain = pickands_estimator(gains_sorted)\n",
        "pickands_losses = pickands_estimator(losses_sorted)\n",
        "print(\"Pickands estimator for extreme gain :\", pickands_gain)\n",
        "print(\"Pickands estimator for extreme losses :\", pickands_losses)"
      ],
      "metadata": {
        "colab": {
          "base_uri": "https://localhost:8080/"
        },
        "id": "XIUsQyMhdfFi",
        "outputId": "cc78dfd5-ea4b-4dbc-aaed-53691aba00af"
      },
      "execution_count": null,
      "outputs": [
        {
          "output_type": "stream",
          "name": "stdout",
          "text": [
            "Pickands estimator for extreme gain : 0.578\n",
            "Pickands estimator for extreme losses : -0.512\n"
          ]
        }
      ]
    },
    {
      "cell_type": "markdown",
      "source": [
        "###c) GEV of tail distributions"
      ],
      "metadata": {
        "id": "Z-WIqK9TeSpk"
      }
    },
    {
      "cell_type": "code",
      "source": [
        "def frechet_cdf(x, param):\n",
        "  if x <= 0 :\n",
        "    frechet = 0\n",
        "  else :\n",
        "    frechet = math.exp(-x**(-param))\n",
        "  return frechet"
      ],
      "metadata": {
        "id": "PVD4uKabeWdb"
      },
      "execution_count": null,
      "outputs": []
    },
    {
      "cell_type": "code",
      "source": [
        "def weibull_cdf(x, param):\n",
        "  if x <= 0 :\n",
        "    weibull = math.exp(-(-x)**(param))\n",
        "  else :\n",
        "    weibull = 1\n",
        "  return weibull"
      ],
      "metadata": {
        "id": "gz-JV_6OeYMH"
      },
      "execution_count": null,
      "outputs": []
    },
    {
      "cell_type": "code",
      "source": [
        "x_values = np.linspace(-10,50,1000)\n",
        "cdf_frechet = [frechet_cdf(x, pickands_gain) for x in x_values]\n",
        "cdf_weibull = [weibull_cdf(x, pickands_losses) for x in x_values]"
      ],
      "metadata": {
        "id": "xIE-FQ73ec6y"
      },
      "execution_count": null,
      "outputs": []
    },
    {
      "cell_type": "code",
      "source": [
        "fig, (ax1, ax2) = plt.subplots(1, 2, figsize=(15, 5))\n",
        "\n",
        "ax1.plot(x_values, cdf_frechet,color ='cornflowerblue')\n",
        "ax1.set_title(\"Gains extrem cdf (Frechet) with Pickands\")\n",
        "ax1.set_xlim(-2.5, 50)\n",
        "ax1.grid(True)\n",
        "\n",
        "ax2.plot(x_values, cdf_weibull,color ='firebrick')\n",
        "ax2.set_title(\"Losses extrem cdf (Weibull) with Pickands\")\n",
        "ax2.set_xlim(-10, 1)\n",
        "ax2.grid(True)\n",
        "\n",
        "plt.tight_layout()\n",
        "plt.show()"
      ],
      "metadata": {
        "colab": {
          "base_uri": "https://localhost:8080/",
          "height": 492
        },
        "id": "A4PWIA2PefK0",
        "outputId": "365fb31a-e28f-4065-c9c7-3a011d17d54c"
      },
      "execution_count": null,
      "outputs": [
        {
          "output_type": "display_data",
          "data": {
            "text/plain": [
              "<Figure size 1500x500 with 2 Axes>"
            ],
            "image/png": "[encoded data removed]"
          },
          "metadata": {}
        }
      ]
    },
    {
      "cell_type": "markdown",
      "source": [
        "##2) GEV VaR"
      ],
      "metadata": {
        "id": "SL64y-miem_S"
      }
    },
    {
      "cell_type": "code",
      "source": [
        "def VaR_GEV_Pickands(data, level):\n",
        "    n=len(data)\n",
        "    pickands=np.abs(pickands_estimator(data))\n",
        "    k_n = np.log(n)\n",
        "    x1=data[n-math.floor(k_n)]\n",
        "    x2=data[n-2*math.floor(k_n)]\n",
        "    num=((1/(n*(1-level)))**pickands) - 1\n",
        "    den=1-2**(-pickands)\n",
        "    return round((num/den)*(x1-x2) + x1,5)"
      ],
      "metadata": {
        "id": "GF-JOaBlepBQ"
      },
      "execution_count": null,
      "outputs": []
    },
    {
      "cell_type": "code",
      "source": [
        "VaR_GEV_P_gains = VaR_GEV_Pickands(gains_sorted, 0.95)\n",
        "VaR_GEV_P_losses = VaR_GEV_Pickands(losses_sorted, 0.95)\n",
        "print(\"GEV VaR at 95% for the gains :\", VaR_GEV_P_gains)\n",
        "print(\"GEV VaR at 95% for the losses :\", VaR_GEV_P_losses)"
      ],
      "metadata": {
        "colab": {
          "base_uri": "https://localhost:8080/"
        },
        "id": "nXsv5ANGerlC",
        "outputId": "960794b5-31e0-4863-b06a-a533a3cca909"
      },
      "execution_count": null,
      "outputs": [
        {
          "output_type": "stream",
          "name": "stdout",
          "text": [
            "GEV VaR at 95% for the gains : 0.03217\n",
            "GEV VaR at 95% for the losses : 0.043\n"
          ]
        }
      ]
    },
    {
      "cell_type": "code",
      "source": [
        "fig, (ax1, ax2) = plt.subplots(1, 2, figsize=(15, 5))\n",
        "\n",
        "ax1.hist(gains, bins=40, density=True,edgecolor='dimgrey', color='lightsteelblue')\n",
        "ax1.set_title('Gains distribution and GEV VaR with Pickands')\n",
        "ax1.axvline(VaR_GEV_P_gains, color=\"orange\", linestyle=\"--\",label=f\"GEV VaR 95% : {VaR_GEV_P_gains}\")\n",
        "ax1.set_xlim(0,0.09)\n",
        "ax1.grid(True)\n",
        "ax1.legend()\n",
        "\n",
        "ax2.hist(losses, bins=80, density=True,edgecolor='dimgrey', color='violet', alpha=0.7)\n",
        "ax2.axvline(VaR_GEV_P_losses, color=\"orange\", linestyle=\"--\",label=f\"GEV VaR 95% : {VaR_GEV_P_losses}\")\n",
        "ax2.set_title('Losses distribution and GEV VaR with Pickands')\n",
        "ax2.set_xlim(0,0.09)\n",
        "ax2.grid(True)\n",
        "ax2.legend()\n",
        "\n",
        "plt.tight_layout()\n",
        "plt.show()"
      ],
      "metadata": {
        "colab": {
          "base_uri": "https://localhost:8080/",
          "height": 491
        },
        "id": "N24hj0Etet0d",
        "outputId": "5431000d-d9a1-4099-c024-0881f88c93f9"
      },
      "execution_count": null,
      "outputs": [
        {
          "output_type": "display_data",
          "data": {
            "text/plain": [
              "<Figure size 1500x500 with 2 Axes>"
            ],
            "image/png": "[encoded data removed]"
          },
          "metadata": {}
        }
      ]
    },
    {
      "cell_type": "code",
      "source": [
        "NpVaR_exceeding2 = (gains >= VaR_GEV_P_gains).sum()\n",
        "NpVaR_proportion2 = round(NpVaR_exceeding2 / len(gains),5)\n",
        "print(\"With Non-parametric VaR:\")\n",
        "print(NpVaR_exceeding2,\" returns on \", len(gains), \" exceed the VaR threshold\")\n",
        "print(\"Corresponding to\",round(NpVaR_proportion2*100,5),\"%, for a risk level of 5%\")"
      ],
      "metadata": {
        "colab": {
          "base_uri": "https://localhost:8080/"
        },
        "id": "502MfKSTGa8X",
        "outputId": "0e3adea3-15ec-4d5a-9b2a-a37053725034"
      },
      "execution_count": null,
      "outputs": [
        {
          "output_type": "stream",
          "name": "stdout",
          "text": [
            "With Non-parametric VaR:\n",
            "46  returns on  498  exceed the VaR threshold\n",
            "Corresponding to 9.237 %, for a risk level of 5%\n"
          ]
        }
      ]
    },
    {
      "cell_type": "code",
      "source": [
        "NpVaR_exceeding2 = (losses >= VaR_GEV_P_losses).sum()\n",
        "NpVaR_proportion2 = round(NpVaR_exceeding2 / len(losses),5)\n",
        "print(\"With Non-parametric VaR:\")\n",
        "print(NpVaR_exceeding2,\" returns on \", len(gains), \" exceed the VaR threshold\")\n",
        "print(\"Corresponding to\",round(NpVaR_proportion2*100,5),\"%, for a risk level of 5%\")"
      ],
      "metadata": {
        "colab": {
          "base_uri": "https://localhost:8080/"
        },
        "id": "tIodaE9NGpBG",
        "outputId": "b6273ea5-f1e9-464a-ccf8-66f0e9f5f7de"
      },
      "execution_count": null,
      "outputs": [
        {
          "output_type": "stream",
          "name": "stdout",
          "text": [
            "With Non-parametric VaR:\n",
            "26  returns on  498  exceed the VaR threshold\n",
            "Corresponding to 5.01 %, for a risk level of 5%\n"
          ]
        }
      ]
    },
    {
      "cell_type": "markdown",
      "source": [
        "#Question D"
      ],
      "metadata": {
        "id": "8QQe8nFRfRDe"
      }
    },
    {
      "cell_type": "markdown",
      "source": [
        "##1) Algrem & Chriss model parameters"
      ],
      "metadata": {
        "id": "E0W0tlk8fSNk"
      }
    },
    {
      "cell_type": "code",
      "source": [
        "data = pd.read_excel(\"Dataset TD4.xlsx\")\n",
        "data.rename(columns={\"transaction date (1=1day=24 hours)\": \"Date\",\n",
        "                          \"bid-ask spread\": \"Bid-Ask Spread\",\n",
        "                          \"volume of the transaction (if known)\": \"Volume\",\n",
        "                          \"Sign of the transaction\": \"Sign\",\n",
        "                          \"Price (before transaction)\": \"Price\"}, inplace=True)\n",
        "data.info()"
      ],
      "metadata": {
        "id": "WI5wdehyi9sO",
        "colab": {
          "base_uri": "https://localhost:8080/"
        },
        "outputId": "e7aba989-9853-465e-c0a3-eb6e2f94abaf"
      },
      "execution_count": 35,
      "outputs": [
        {
          "output_type": "stream",
          "name": "stdout",
          "text": [
            "<class 'pandas.core.frame.DataFrame'>\n",
            "RangeIndex: 1001 entries, 0 to 1000\n",
            "Data columns (total 5 columns):\n",
            " #   Column          Non-Null Count  Dtype  \n",
            "---  ------          --------------  -----  \n",
            " 0   Date            1001 non-null   float64\n",
            " 1   Bid-Ask Spread  1001 non-null   float64\n",
            " 2   Volume          137 non-null    float64\n",
            " 3   Sign            1001 non-null   int64  \n",
            " 4   Price           1001 non-null   float64\n",
            "dtypes: float64(4), int64(1)\n",
            "memory usage: 39.2 KB\n"
          ]
        }
      ]
    },
    {
      "cell_type": "code",
      "source": [
        "import numpy as np\n",
        "data.loc[data['Volume'] == '', 'Volume'] = np.nan\n",
        "\n",
        "data['Volume'] = pd.to_numeric(data['Volume'])\n",
        "\n",
        "length_data = len(data['Volume']) - 2\n",
        "\n",
        "for i in range(length_data):\n",
        "    if not (np.isnan(data['Volume'].iloc[i]) and data['Volume'].iloc[i] != 0):\n",
        "        if np.isnan(data['Volume'].iloc[i + 1]):\n",
        "            data.at[i + 1, 'Volume'] = 0\n",
        "        if np.isnan(data['Volume'].iloc[i + 2]):\n",
        "            data.at[i + 2, 'Volume'] = 0\n",
        "\n",
        "\n",
        "data= data.dropna(subset=['Volume'])\n",
        "dataVolume = data[data['Volume'] != 0].copy()\n",
        "dataVolume.head()"
      ],
      "metadata": {
        "id": "Mv7fP_G-jZa3",
        "colab": {
          "base_uri": "https://localhost:8080/",
          "height": 206
        },
        "outputId": "dd8b270b-b25d-4c5f-e014-0918a13e5d9d"
      },
      "execution_count": 36,
      "outputs": [
        {
          "output_type": "execute_result",
          "data": {
            "text/plain": [
              "        Date  Bid-Ask Spread  Volume  Sign    Price\n",
              "0   0.000202          0.1100     8.0    -1  100.000\n",
              "6   0.004074          0.1294    32.0     1  100.164\n",
              "16  0.014393          0.1141     8.0    -1  100.048\n",
              "28  0.022861          0.0978   141.0    -1   99.876\n",
              "51  0.037864          0.1291   121.0    -1   99.608"
            ],
            "text/html": [
              "\n",
              "  <div id=\"df-0722a353-482e-4f63-852a-53ccac50bc66\" class=\"colab-df-container\">\n",
              "    <div>\n",
              "<style scoped>\n",
              "    .dataframe tbody tr th:only-of-type {\n",
              "        vertical-align: middle;\n",
              "    }\n",
              "\n",
              "    .dataframe tbody tr th {\n",
              "        vertical-align: top;\n",
              "    }\n",
              "\n",
              "    .dataframe thead th {\n",
              "        text-align: right;\n",
              "    }\n",
              "</style>\n",
              "<table border=\"1\" class=\"dataframe\">\n",
              "  <thead>\n",
              "    <tr style=\"text-align: right;\">\n",
              "      <th></th>\n",
              "      <th>Date</th>\n",
              "      <th>Bid-Ask Spread</th>\n",
              "      <th>Volume</th>\n",
              "      <th>Sign</th>\n",
              "      <th>Price</th>\n",
              "    </tr>\n",
              "  </thead>\n",
              "  <tbody>\n",
              "    <tr>\n",
              "      <th>0</th>\n",
              "      <td>0.000202</td>\n",
              "      <td>0.1100</td>\n",
              "      <td>8.0</td>\n",
              "      <td>-1</td>\n",
              "      <td>100.000</td>\n",
              "    </tr>\n",
              "    <tr>\n",
              "      <th>6</th>\n",
              "      <td>0.004074</td>\n",
              "      <td>0.1294</td>\n",
              "      <td>32.0</td>\n",
              "      <td>1</td>\n",
              "      <td>100.164</td>\n",
              "    </tr>\n",
              "    <tr>\n",
              "      <th>16</th>\n",
              "      <td>0.014393</td>\n",
              "      <td>0.1141</td>\n",
              "      <td>8.0</td>\n",
              "      <td>-1</td>\n",
              "      <td>100.048</td>\n",
              "    </tr>\n",
              "    <tr>\n",
              "      <th>28</th>\n",
              "      <td>0.022861</td>\n",
              "      <td>0.0978</td>\n",
              "      <td>141.0</td>\n",
              "      <td>-1</td>\n",
              "      <td>99.876</td>\n",
              "    </tr>\n",
              "    <tr>\n",
              "      <th>51</th>\n",
              "      <td>0.037864</td>\n",
              "      <td>0.1291</td>\n",
              "      <td>121.0</td>\n",
              "      <td>-1</td>\n",
              "      <td>99.608</td>\n",
              "    </tr>\n",
              "  </tbody>\n",
              "</table>\n",
              "</div>\n",
              "    <div class=\"colab-df-buttons\">\n",
              "\n",
              "  <div class=\"colab-df-container\">\n",
              "    <button class=\"colab-df-convert\" onclick=\"convertToInteractive('df-0722a353-482e-4f63-852a-53ccac50bc66')\"\n",
              "            title=\"Convert this dataframe to an interactive table.\"\n",
              "            style=\"display:none;\">\n",
              "\n",
              "  <svg xmlns=\"http://www.w3.org/2000/svg\" height=\"24px\" viewBox=\"0 -960 960 960\">\n",
              "    <path d=\"M120-120v-720h720v720H120Zm60-500h600v-160H180v160Zm220 220h160v-160H400v160Zm0 220h160v-160H400v160ZM180-400h160v-160H180v160Zm440 0h160v-160H620v160ZM180-180h160v-160H180v160Zm440 0h160v-160H620v160Z\"/>\n",
              "  </svg>\n",
              "    </button>\n",
              "\n",
              "  <style>\n",
              "    .colab-df-container {\n",
              "      display:flex;\n",
              "      gap: 12px;\n",
              "    }\n",
              "\n",
              "    .colab-df-convert {\n",
              "      background-color: #E8F0FE;\n",
              "      border: none;\n",
              "      border-radius: 50%;\n",
              "      cursor: pointer;\n",
              "      display: none;\n",
              "      fill: #1967D2;\n",
              "      height: 32px;\n",
              "      padding: 0 0 0 0;\n",
              "      width: 32px;\n",
              "    }\n",
              "\n",
              "    .colab-df-convert:hover {\n",
              "      background-color: #E2EBFA;\n",
              "      box-shadow: 0px 1px 2px rgba(60, 64, 67, 0.3), 0px 1px 3px 1px rgba(60, 64, 67, 0.15);\n",
              "      fill: #174EA6;\n",
              "    }\n",
              "\n",
              "    .colab-df-buttons div {\n",
              "      margin-bottom: 4px;\n",
              "    }\n",
              "\n",
              "    [theme=dark] .colab-df-convert {\n",
              "      background-color: #3B4455;\n",
              "      fill: #D2E3FC;\n",
              "    }\n",
              "\n",
              "    [theme=dark] .colab-df-convert:hover {\n",
              "      background-color: #434B5C;\n",
              "      box-shadow: 0px 1px 3px 1px rgba(0, 0, 0, 0.15);\n",
              "      filter: drop-shadow(0px 1px 2px rgba(0, 0, 0, 0.3));\n",
              "      fill: #FFFFFF;\n",
              "    }\n",
              "  </style>\n",
              "\n",
              "    <script>\n",
              "      const buttonEl =\n",
              "        document.querySelector('#df-0722a353-482e-4f63-852a-53ccac50bc66 button.colab-df-convert');\n",
              "      buttonEl.style.display =\n",
              "        google.colab.kernel.accessAllowed ? 'block' : 'none';\n",
              "\n",
              "      async function convertToInteractive(key) {\n",
              "        const element = document.querySelector('#df-0722a353-482e-4f63-852a-53ccac50bc66');\n",
              "        const dataTable =\n",
              "          await google.colab.kernel.invokeFunction('convertToInteractive',\n",
              "                                                    [key], {});\n",
              "        if (!dataTable) return;\n",
              "\n",
              "        const docLinkHtml = 'Like what you see? Visit the ' +\n",
              "          '<a target=\"_blank\" href=https://colab.research.google.com/notebooks/data_table.ipynb>data table notebook</a>'\n",
              "          + ' to learn more about interactive tables.';\n",
              "        element.innerHTML = '';\n",
              "        dataTable['output_type'] = 'display_data';\n",
              "        await google.colab.output.renderOutput(dataTable, element);\n",
              "        const docLink = document.createElement('div');\n",
              "        docLink.innerHTML = docLinkHtml;\n",
              "        element.appendChild(docLink);\n",
              "      }\n",
              "    </script>\n",
              "  </div>\n",
              "\n",
              "\n",
              "<div id=\"df-d7cb4959-d389-4137-86d8-987800fadbad\">\n",
              "  <button class=\"colab-df-quickchart\" onclick=\"quickchart('df-d7cb4959-d389-4137-86d8-987800fadbad')\"\n",
              "            title=\"Suggest charts\"\n",
              "            style=\"display:none;\">\n",
              "\n",
              "<svg xmlns=\"http://www.w3.org/2000/svg\" height=\"24px\"viewBox=\"0 0 24 24\"\n",
              "     width=\"24px\">\n",
              "    <g>\n",
              "        <path d=\"M19 3H5c-1.1 0-2 .9-2 2v14c0 1.1.9 2 2 2h14c1.1 0 2-.9 2-2V5c0-1.1-.9-2-2-2zM9 17H7v-7h2v7zm4 0h-2V7h2v10zm4 0h-2v-4h2v4z\"/>\n",
              "    </g>\n",
              "</svg>\n",
              "  </button>\n",
              "\n",
              "<style>\n",
              "  .colab-df-quickchart {\n",
              "      --bg-color: #E8F0FE;\n",
              "      --fill-color: #1967D2;\n",
              "      --hover-bg-color: #E2EBFA;\n",
              "      --hover-fill-color: #174EA6;\n",
              "      --disabled-fill-color: #AAA;\n",
              "      --disabled-bg-color: #DDD;\n",
              "  }\n",
              "\n",
              "  [theme=dark] .colab-df-quickchart {\n",
              "      --bg-color: #3B4455;\n",
              "      --fill-color: #D2E3FC;\n",
              "      --hover-bg-color: #434B5C;\n",
              "      --hover-fill-color: #FFFFFF;\n",
              "      --disabled-bg-color: #3B4455;\n",
              "      --disabled-fill-color: #666;\n",
              "  }\n",
              "\n",
              "  .colab-df-quickchart {\n",
              "    background-color: var(--bg-color);\n",
              "    border: none;\n",
              "    border-radius: 50%;\n",
              "    cursor: pointer;\n",
              "    display: none;\n",
              "    fill: var(--fill-color);\n",
              "    height: 32px;\n",
              "    padding: 0;\n",
              "    width: 32px;\n",
              "  }\n",
              "\n",
              "  .colab-df-quickchart:hover {\n",
              "    background-color: var(--hover-bg-color);\n",
              "    box-shadow: 0 1px 2px rgba(60, 64, 67, 0.3), 0 1px 3px 1px rgba(60, 64, 67, 0.15);\n",
              "    fill: var(--button-hover-fill-color);\n",
              "  }\n",
              "\n",
              "  .colab-df-quickchart-complete:disabled,\n",
              "  .colab-df-quickchart-complete:disabled:hover {\n",
              "    background-color: var(--disabled-bg-color);\n",
              "    fill: var(--disabled-fill-color);\n",
              "    box-shadow: none;\n",
              "  }\n",
              "\n",
              "  .colab-df-spinner {\n",
              "    border: 2px solid var(--fill-color);\n",
              "    border-color: transparent;\n",
              "    border-bottom-color: var(--fill-color);\n",
              "    animation:\n",
              "      spin 1s steps(1) infinite;\n",
              "  }\n",
              "\n",
              "  @keyframes spin {\n",
              "    0% {\n",
              "      border-color: transparent;\n",
              "      border-bottom-color: var(--fill-color);\n",
              "      border-left-color: var(--fill-color);\n",
              "    }\n",
              "    20% {\n",
              "      border-color: transparent;\n",
              "      border-left-color: var(--fill-color);\n",
              "      border-top-color: var(--fill-color);\n",
              "    }\n",
              "    30% {\n",
              "      border-color: transparent;\n",
              "      border-left-color: var(--fill-color);\n",
              "      border-top-color: var(--fill-color);\n",
              "      border-right-color: var(--fill-color);\n",
              "    }\n",
              "    40% {\n",
              "      border-color: transparent;\n",
              "      border-right-color: var(--fill-color);\n",
              "      border-top-color: var(--fill-color);\n",
              "    }\n",
              "    60% {\n",
              "      border-color: transparent;\n",
              "      border-right-color: var(--fill-color);\n",
              "    }\n",
              "    80% {\n",
              "      border-color: transparent;\n",
              "      border-right-color: var(--fill-color);\n",
              "      border-bottom-color: var(--fill-color);\n",
              "    }\n",
              "    90% {\n",
              "      border-color: transparent;\n",
              "      border-bottom-color: var(--fill-color);\n",
              "    }\n",
              "  }\n",
              "</style>\n",
              "\n",
              "  <script>\n",
              "    async function quickchart(key) {\n",
              "      const quickchartButtonEl =\n",
              "        document.querySelector('#' + key + ' button');\n",
              "      quickchartButtonEl.disabled = true;  // To prevent multiple clicks.\n",
              "      quickchartButtonEl.classList.add('colab-df-spinner');\n",
              "      try {\n",
              "        const charts = await google.colab.kernel.invokeFunction(\n",
              "            'suggestCharts', [key], {});\n",
              "      } catch (error) {\n",
              "        console.error('Error during call to suggestCharts:', error);\n",
              "      }\n",
              "      quickchartButtonEl.classList.remove('colab-df-spinner');\n",
              "      quickchartButtonEl.classList.add('colab-df-quickchart-complete');\n",
              "    }\n",
              "    (() => {\n",
              "      let quickchartButtonEl =\n",
              "        document.querySelector('#df-d7cb4959-d389-4137-86d8-987800fadbad button');\n",
              "      quickchartButtonEl.style.display =\n",
              "        google.colab.kernel.accessAllowed ? 'block' : 'none';\n",
              "    })();\n",
              "  </script>\n",
              "</div>\n",
              "    </div>\n",
              "  </div>\n"
            ]
          },
          "metadata": {},
          "execution_count": 36
        }
      ]
    },
    {
      "cell_type": "markdown",
      "source": [
        "###a) η"
      ],
      "metadata": {
        "id": "sIJw7-FHgLiK"
      }
    },
    {
      "cell_type": "code",
      "source": [
        "\n",
        "transientimpact = []\n",
        "t = []\n",
        "\n",
        "for i in range(len(dataVolume['Volume']) - 2):\n",
        "    if dataVolume['Volume'].iloc[i] != 0:\n",
        "        TI = dataVolume['Price'].iloc[i + 1] - dataVolume['Price'].iloc[i + 2] #Pt+1 - Pt+2\n",
        "        transientimpact.append(TI)\n",
        "        t.append(dataVolume['Date'].iloc[i + 2] - dataVolume['Date'].iloc[i + 1]) #diffence between two dates of Pt+1 - Pt+2\n",
        "\n",
        "print(transientimpact) #transient impact\n"
      ],
      "metadata": {
        "colab": {
          "base_uri": "https://localhost:8080/"
        },
        "id": "0FW92vgffZUW",
        "outputId": "36065b35-56cd-4616-d384-271ab3a42306"
      },
      "execution_count": 37,
      "outputs": [
        {
          "output_type": "stream",
          "name": "stdout",
          "text": [
            "[0.11599999999999966, 0.17199999999999704, 0.2680000000000007, 0.29400000000001114, 0.05699999999998795, 0.13400000000000034, -0.03699999999999193, -0.10500000000000398, 0.02200000000000557, 0.05699999999998795, -0.4019999999999868, 0.012000000000000455, -0.11400000000000432, 0.20000000000000284, -0.48499999999999943, -0.25200000000000955, -0.013999999999995794, -0.09900000000000375, 0.034000000000006025, 0.046999999999997044, 0.049000000000006594, 0.018000000000000682, -0.007000000000005002, 1.0829999999999984, -0.10299999999999443, -0.11599999999999966, 0.03999999999999204, 0.07600000000000762, -0.13500000000000512, 0.06300000000000239, 0.08199999999999363, -0.013999999999995794, -0.20199999999999818, 0.06199999999999761, -0.0799999999999983, 0.01999999999999602, -0.11499999999999488, 0.05499999999999261, 0.012000000000000455, -0.02400000000000091, 0.029000000000010573, -0.14100000000000534, -0.14100000000000534, 0.14300000000000068, -0.117999999999995, -0.08899999999999864, 0.012000000000000455, -0.058000000000006935, -0.22299999999999898, -0.25199999999999534, 0.257000000000005, 0.13700000000000045, -0.125, 0.08499999999999375, 0.3509999999999991, 0.43200000000000216, 0.0040000000000048885, 0.07899999999999352, -0.1110000000000042, -0.1419999999999959, -0.11700000000000443, -0.117999999999995, 0.15500000000000114, -0.14400000000000546, 0.13700000000000045, 0.12300000000000466, -0.36199999999999477, -0.04100000000001103, -0.1419999999999959, 0.007000000000005002, 0.19699999999998852, 0.1150000000000091, 0.24399999999999977, -0.15399999999999636, -0.3240000000000123, -0.07199999999998852, 0.11599999999999966, 0.03999999999999204, 0.049000000000006594, -0.39800000000001035, 0.060000000000002274, 0.07399999999999807, 0.2330000000000041, 0.007999999999995566, -0.14499999999999602, -0.030000000000001137, 0.16600000000001103, 0.11599999999999966, -0.1010000000000133, 0.010000000000005116, -0.11299999999999955, 0.20400000000000773, 0.012999999999991019, -0.1419999999999959, -0.018000000000000682, -0.01999999999999602, 0.06199999999999761, -0.11599999999999966, -0.3410000000000082, 0.09600000000000364, -0.10699999999999932, -0.1700000000000017, 0.4620000000000033, -0.016999999999995907, 0.045000000000001705, -0.08600000000001273, -0.5679999999999978, 0.2530000000000001, 0.14800000000001035, -0.1280000000000001, -0.2120000000000033, -0.1360000000000099, 0.11700000000000443, 0.18999999999999773, -0.0379999999999967, 0.382000000000005, -0.05100000000000193, 0.18099999999999739, -0.2079999999999984, -0.045000000000001705, -0.2079999999999984, -0.5310000000000059, -0.053999999999987836, 0.07099999999999795, -0.038000000000010914, 0.06700000000000728, -0.32500000000000284, 0.054000000000002046, 0.1599999999999966, -0.0589999999999975, -0.3160000000000025, 0.02200000000000557, 0.10099999999999909, 0.01300000000000523, 0.11199999999999477]\n"
          ]
        }
      ]
    },
    {
      "cell_type": "code",
      "source": [
        "\n",
        "Y = [] #NU * X = Y to solve the linear regression\n",
        "for i in range(len(dataVolume['Volume']) - 2):\n",
        "    Y.append(transientimpact[i] - (dataVolume['Bid-Ask Spread'].iloc[i]/2) * dataVolume['Sign'].iloc[i])\n",
        "print(Y)"
      ],
      "metadata": {
        "colab": {
          "base_uri": "https://localhost:8080/"
        },
        "id": "XoLCGCPwjeDO",
        "outputId": "78744352-1f33-4313-e668-0c359cc485f2"
      },
      "execution_count": 38,
      "outputs": [
        {
          "output_type": "stream",
          "name": "stdout",
          "text": [
            "[0.17099999999999965, 0.10729999999999705, 0.32505000000000067, 0.34290000000001114, 0.12154999999998795, 0.17885000000000034, 0.011800000000008075, -0.154050000000004, -0.023399999999994432, 0.005349999999987948, -0.3538499999999868, -0.03804999999999954, -0.17015000000000433, 0.14760000000000284, -0.5362999999999994, -0.3087000000000095, -0.05389999999999579, -0.15290000000000376, -0.008899999999993975, 0.007049999999997045, 0.0967500000000066, 0.06360000000000068, -0.057450000000005004, 1.1294499999999985, -0.05364999999999443, -0.17314999999999967, 0.09464999999999205, 0.12250000000000762, -0.09500000000000511, 0.009150000000002385, 0.13364999999999364, -0.0673999999999958, -0.24514999999999817, 0.017749999999997615, -0.028599999999998293, 0.06354999999999603, -0.1703499999999949, 0.1099999999999926, -0.030949999999999547, 0.019949999999999093, -0.024299999999989427, -0.19725000000000534, -0.19665000000000535, 0.09450000000000068, -0.061299999999995, -0.04204999999999864, -0.036199999999999545, -0.008250000000006932, -0.271399999999999, -0.19624999999999534, 0.205750000000005, 0.18110000000000046, -0.0784, 0.03999999999999375, 0.3988999999999991, 0.47930000000000217, -0.04944999999999511, 0.027999999999993523, -0.048500000000004206, -0.08729999999999591, -0.06900000000000443, -0.165899999999995, 0.22130000000000113, -0.19110000000000546, 0.08250000000000046, 0.07650000000000466, -0.3048499999999948, 0.01029999999998897, -0.09609999999999591, -0.047599999999995, 0.24534999999998852, 0.1583500000000091, 0.29309999999999975, -0.10189999999999635, -0.37710000000001226, -0.11939999999998852, 0.15619999999999967, 0.08449999999999204, 0.0955000000000066, -0.3533500000000103, 0.00975000000000227, 0.11384999999999806, 0.2872000000000041, 0.054499999999995566, -0.10469999999999602, -0.08760000000000114, 0.12300000000001103, 0.17219999999999966, -0.0520000000000133, -0.04679999999999489, -0.06949999999999955, 0.1537500000000077, -0.030450000000008984, -0.09119999999999591, -0.07240000000000069, 0.03365000000000398, 0.011799999999997611, -0.16274999999999967, -0.3874500000000082, 0.04825000000000364, -0.1498999999999993, -0.2241500000000017, 0.4059000000000033, 0.03015000000000409, -0.012549999999998292, -0.13515000000001273, -0.6152499999999979, 0.20605000000000012, 0.20520000000001035, -0.07550000000000012, -0.2660000000000033, -0.18650000000000988, 0.06070000000000443, 0.1381999999999977, 0.020600000000003296, 0.436350000000005, 0.0014999999999980654, 0.1348499999999974, -0.1628499999999984, 0.0025499999999982967, -0.2522499999999984, -0.4784500000000059, -0.10444999999998783, 0.024849999999997957, 0.016799999999989088, 0.014950000000007277, -0.27060000000000284, -0.002799999999997957, 0.20969999999999658, -0.011449999999997497, -0.3742500000000025, 0.07495000000000557, 0.1457999999999991, 0.06825000000000522, 0.15844999999999476]\n"
          ]
        }
      ]
    },
    {
      "cell_type": "code",
      "source": [
        "X = []\n",
        "for i in range(len(dataVolume['Volume']) - 2):\n",
        "    temp = dataVolume['Volume'].iloc[i] / t[i]\n",
        "\n",
        "    X.append(temp)\n",
        "print(X)\n",
        "\n"
      ],
      "metadata": {
        "colab": {
          "base_uri": "https://localhost:8080/"
        },
        "id": "_4nRVib4jfS6",
        "outputId": "a1de71ec-a59c-4d1a-c814-a86b6f447493"
      },
      "execution_count": 39,
      "outputs": [
        {
          "output_type": "stream",
          "name": "stdout",
          "text": [
            "[775.2689214071132, 3778.9324515824283, 533.2266879957341, 17317.61238025056, 1247422.6804123728, 43280.182232346226, 19722.097714029587, 253658.53658536117, 174148.60681114532, 6800000.000002637, 5528.749497386406, 18093.587521663787, 50832.90400137378, 24539.877300613505, 29721.815519765787, 95283.9268527419, 41146.711635750486, 24969.549330085298, 46007.403490216726, 50000.00000000046, 21118.012422360243, 6286.186931348227, 4274.156617310334, 628.3775292195546, 32378.580323785878, 15319.865319865317, 62276.30637079414, 26678.141135972546, 93846.1538461535, 27729.865994427535, 75064.26735218501, 28684.47082096979, 8530.710558008832, 396588.48614070384, 89120.37037037285, 2168.9733526130913, 9499.882232864884, 1420.4545454545437, 1383.7638376383802, 13051.17926726949, 131.72627280511097, 20130.25458851396, 11120.61591103504, 3650.846332558926, 20022.342528143025, 22271.71492204895, 110236.22047244152, 4444.444444444452, 80208.9735709887, 638.1213706847046, 4565.112926477656, 2866.242038216557, 152046.78362573523, 34448.22751852576, 22443.219997312262, 26517.173874354674, 437086.0927152767, 5285.971032878742, 60244.5571130327, 13007.354944156928, 11751.15207373269, 28381.24054462933, 13021.741657946795, 2031.281738777164, 16370.18443741137, 6957.731779439898, 19103.85550538386, 84825.6361922687, 2445945.9459471693, 632812.5000000075, 135315.98513010744, 45094.93670886093, 284.59217940690985, 54433.413214652384, 5724.077584949685, 1325.0883392226056, 10245.632470773702, 16940.17998941212, 114525.13966481424, 6702.148630001979, 51724.137931034486, 27726.432532346804, 10213.277260438603, 6497.341996455995, 6314.344543582716, 12162.675788673534, 1633.9869281045626, 3530.8467612505724, 252619.32479629145, 14437.537597753944, 3577.9102929738146, 22570.415967170517, 32499.99999999907, 506.90660245849824, 38834.951456306226, 9253.731343283682, 202.06102242877427, 9691.096305269453, 8131.776480400295, 90988.62642169688, 12181.303116147386, 12789.768185451618, 4030.78050567974, 9996.028068317182, 19856.043683296353, 20154.517971111807, 9515.867955069387, 54593.874833555135, 23128.995863106236, 46557.37704918037, 11761.07831909083, 31273.268801191756, 17427.752040591186, 52008.35848618588, 9507.042253521096, 1192.3392205082382, 5250.029694738093, 3052.103771528227, 1964.716957963245, 8971.460864650995, 16095.577864432118, 2634.4862751763344, 15995.260663507945, 112903.22580643979, 53982.88347596933, 1542.8378573839332, 1552.795031055887, 79486.88580918526, 17880.505887483727, 76839.82683982693, 16813.243662700308, 135922.33009708574, 5055.976886962763, 15692.017993513991, 1736.2884281483005]\n"
          ]
        }
      ]
    },
    {
      "cell_type": "code",
      "source": [
        "def LinearRegression(x,y):\n",
        "  num = np.sum((x-np.mean(x))*(y-np.mean(y)))\n",
        "  den = np.sum((x-np.mean(x))**2)\n",
        "  slope = num/den\n",
        "  return slope\n",
        "\n",
        "print(\"ŋ =\", LinearRegression(X,Y))\n",
        "nu =  LinearRegression(X,Y)\n"
      ],
      "metadata": {
        "colab": {
          "base_uri": "https://localhost:8080/"
        },
        "id": "3LHkREISjlWG",
        "outputId": "b21d0051-a91b-433b-b340-4308b4f5e6a9"
      },
      "execution_count": 40,
      "outputs": [
        {
          "output_type": "stream",
          "name": "stdout",
          "text": [
            "ŋ = -1.4168633631897502e-09\n"
          ]
        }
      ]
    },
    {
      "cell_type": "markdown",
      "source": [
        "###b) σ"
      ],
      "metadata": {
        "id": "dJAYP_z3gemT"
      }
    },
    {
      "cell_type": "code",
      "source": [
        "#compute the returns\n",
        "dataVolume['return'] = pd.Series(index=dataVolume.index)\n",
        "for i in range(1, len(dataVolume)):\n",
        "  previous_price = dataVolume['Price'].iloc[i - 1]\n",
        "  current_price = dataVolume['Price'].iloc[i]\n",
        "  return_value = ((current_price - previous_price) / previous_price)# * (1/((dataVolume['Date'].iloc[i] -dataVolume['Date'].iloc[i-1])**(1/2))) #dont need to do that because we are with same time step\n",
        "  dataVolume['return'].iloc[i] = return_value\n",
        "print(dataVolume)\n",
        "\n",
        "mean_return = sum(dataVolume['return'][1:]) / len(dataVolume['return']-1)\n",
        "print(\"The mean return is \", mean_return)\n",
        "\n",
        "squaredSum = 0\n",
        "for i in range(2, len(dataVolume['return'])):\n",
        "    squaredSum += ( dataVolume['return'].iloc[i] - mean_return) ** 2\n",
        "\n",
        "sigma =(squaredSum / (len( dataVolume['return']) - 1))**(1/2)\n",
        "print(\"The standard deviation is\", sigma)\n",
        "\n",
        "\n",
        "\n"
      ],
      "metadata": {
        "colab": {
          "base_uri": "https://localhost:8080/"
        },
        "id": "4GmZUQM8giPt",
        "outputId": "9c58eb97-4548-40bf-df63-0349c93789a6"
      },
      "execution_count": 41,
      "outputs": [
        {
          "output_type": "stream",
          "name": "stdout",
          "text": [
            "         Date  Bid-Ask Spread  Volume  Sign    Price    return\n",
            "0    0.000202          0.1100     8.0    -1  100.000       NaN\n",
            "6    0.004074          0.1294    32.0     1  100.164  0.001640\n",
            "16   0.014393          0.1141     8.0    -1  100.048 -0.001158\n",
            "28   0.022861          0.0978   141.0    -1   99.876 -0.001719\n",
            "51   0.037864          0.1291   121.0    -1   99.608 -0.002683\n",
            "..        ...             ...     ...   ...      ...       ...\n",
            "988  0.968804          0.0896    14.0    -1  101.206  0.003132\n",
            "989  0.969113          0.1105   150.0    -1  101.184 -0.000217\n",
            "990  0.971882          0.0929    17.0    -1  101.083 -0.000998\n",
            "996  0.981441          0.0834    79.0     1  101.070 -0.000129\n",
            "999  0.991232          0.1153     3.0    -1  100.958 -0.001108\n",
            "\n",
            "[137 rows x 6 columns]\n",
            "The mean return is  7.157547543057469e-05\n",
            "The standard deviation is 0.001991064949250777\n"
          ]
        },
        {
          "output_type": "stream",
          "name": "stderr",
          "text": [
            "<ipython-input-41-e7a164091634>:2: FutureWarning: The default dtype for empty Series will be 'object' instead of 'float64' in a future version. Specify a dtype explicitly to silence this warning.\n",
            "  dataVolume['return'] = pd.Series(index=dataVolume.index)\n",
            "<ipython-input-41-e7a164091634>:7: SettingWithCopyWarning: \n",
            "A value is trying to be set on a copy of a slice from a DataFrame\n",
            "\n",
            "See the caveats in the documentation: https://pandas.pydata.org/pandas-docs/stable/user_guide/indexing.html#returning-a-view-versus-a-copy\n",
            "  dataVolume['return'].iloc[i] = return_value\n"
          ]
        }
      ]
    },
    {
      "cell_type": "markdown",
      "source": [
        "###c) γ"
      ],
      "metadata": {
        "id": "bU6gkZ5LkWK4"
      }
    },
    {
      "cell_type": "code",
      "source": [
        "permanentimpact = []\n",
        "t = []\n",
        "for i in range(len(dataVolume['Volume']) - 2):\n",
        "      TI = dataVolume['Price'].iloc[i +2] - dataVolume['Price'].iloc[i] #Pt+2 - Pt\n",
        "      permanentimpact.append(TI)\n",
        "      t.append(dataVolume['Date'].iloc[i + 2] - dataVolume['Date'].iloc[i]) #difference between two dates of Pt+2 - Pt\n",
        "\n",
        "print(permanentimpact)\n",
        "\n"
      ],
      "metadata": {
        "colab": {
          "base_uri": "https://localhost:8080/"
        },
        "id": "W4R-zxn3kE3K",
        "outputId": "38abb93d-c83c-4c80-8133-1e5427171674"
      },
      "execution_count": 42,
      "outputs": [
        {
          "output_type": "stream",
          "name": "stdout",
          "text": [
            "[0.04800000000000182, -0.2879999999999967, -0.4399999999999977, -0.5620000000000118, -0.3509999999999991, -0.1909999999999883, -0.09700000000000841, 0.1419999999999959, 0.08299999999999841, -0.07899999999999352, 0.34499999999999886, 0.38999999999998636, 0.10200000000000387, -0.08599999999999852, 0.2849999999999966, 0.737000000000009, 0.26600000000000534, 0.11299999999999955, 0.06499999999999773, -0.08100000000000307, -0.09600000000000364, -0.06700000000000728, -0.01099999999999568, -1.0759999999999934, -0.980000000000004, 0.2189999999999941, 0.07600000000000762, -0.11599999999999966, 0.0589999999999975, 0.07200000000000273, -0.14499999999999602, -0.06799999999999784, 0.21599999999999397, 0.14000000000000057, 0.018000000000000682, 0.060000000000002274, 0.09499999999999886, 0.060000000000002274, -0.06699999999999307, 0.012000000000000455, -0.005000000000009663, 0.11199999999999477, 0.2820000000000107, -0.001999999999995339, -0.025000000000005684, 0.20699999999999363, 0.07699999999999818, 0.04600000000000648, 0.2810000000000059, 0.4749999999999943, -0.005000000000009663, -0.39400000000000546, -0.012000000000000455, 0.04000000000000625, -0.43599999999999284, -0.7830000000000013, -0.43600000000000705, -0.08299999999999841, 0.03200000000001069, 0.2530000000000001, 0.25900000000000034, 0.23499999999999943, -0.03700000000000614, -0.01099999999999568, 0.007000000000005002, -0.2600000000000051, 0.2389999999999901, 0.4030000000000058, 0.18300000000000693, 0.1349999999999909, -0.20399999999999352, -0.3119999999999976, -0.35900000000000887, -0.09000000000000341, 0.47800000000000864, 0.3960000000000008, -0.04400000000001114, -0.1559999999999917, -0.08899999999999864, 0.34900000000000375, 0.33800000000000807, -0.13400000000000034, -0.30700000000000216, -0.24099999999999966, 0.13700000000000045, 0.17499999999999716, -0.1360000000000099, -0.2820000000000107, -0.014999999999986358, 0.09100000000000819, 0.10299999999999443, -0.09100000000000819, -0.21699999999999875, 0.1290000000000049, 0.1599999999999966, 0.0379999999999967, -0.04200000000000159, 0.054000000000002046, 0.45700000000000784, 0.24500000000000455, 0.01099999999999568, 0.277000000000001, -0.2920000000000016, -0.4450000000000074, -0.028000000000005798, 0.04100000000001103, 0.6540000000000106, 0.3149999999999977, -0.40100000000001046, -0.020000000000010232, 0.3400000000000034, 0.3480000000000132, 0.019000000000005457, -0.30700000000000216, -0.15200000000000102, -0.3440000000000083, -0.33100000000000307, -0.12999999999999545, 0.027000000000001023, 0.2530000000000001, 0.2530000000000001, 0.7390000000000043, 0.5849999999999937, -0.017000000000010118, -0.03299999999998704, -0.028999999999996362, 0.25799999999999557, 0.2710000000000008, -0.21399999999999864, -0.10099999999999909, 0.375, 0.29399999999999693, -0.12300000000000466, -0.11400000000000432, -0.125]\n"
          ]
        }
      ]
    },
    {
      "cell_type": "code",
      "source": [
        "X = [] #gamma * X = Y here Y = permanent impact\n",
        "\n",
        "for i in range(len(dataVolume['Volume']) - 2):\n",
        "    temp = dataVolume['Volume'].iloc[i] / t[i]\n",
        "    X.append(temp)\n",
        "print(X)"
      ],
      "metadata": {
        "colab": {
          "base_uri": "https://localhost:8080/"
        },
        "id": "iDOBN6UFkH-G",
        "outputId": "2b9667ce-91d9-4f64-e814-ab47b4beb6f4"
      },
      "execution_count": 43,
      "outputs": [
        {
          "output_type": "stream",
          "name": "stdout",
          "text": [
            "[563.7375801564373, 1703.3054771916752, 340.846150568787, 6092.02851587816, 14686.24833110815, 41014.57096600107, 17039.73356052978, 4577.464788732394, 150300.60120240427, 52227.34254992329, 5523.197429202651, 10708.570959668486, 14618.727775582773, 2471.0424710424677, 27131.782945736475, 12581.01410598551, 30469.53046953041, 13122.099535925769, 24624.964619303697, 2748.625687156418, 19354.83870967743, 4491.725768321516, 2222.927913623373, 445.1368795904738, 8451.358254005108, 7871.291410777622, 11857.707509881406, 12114.107073075393, 58804.627249357254, 22030.146516285455, 15397.595443999171, 9810.55480378895, 7744.87471526197, 17828.045624460803, 57764.441110277534, 1991.27631329414, 5397.207725589896, 202.0338069903697, 1044.5682451253501, 8124.891184493066, 77.19027402547275, 3663.5957114379626, 5664.488017429192, 1687.1165644171783, 15904.436860068294, 4736.129905277406, 31724.450487196915, 3625.8158085569335, 29395.202162405592, 528.401585204755, 2024.3633909862565, 959.1814984546518, 21352.313167259847, 28576.175444426, 13430.915232427215, 11408.882082695238, 22293.531498057724, 5122.425980944594, 24992.267244045714, 8929.406264609623, 2680.824222035326, 22477.83369278694, 4457.534028496381, 1283.6970474967907, 6267.758649506934, 4543.733434305189, 7648.715363487819, 7155.9195356603295, 159471.36563876693, 530567.6855895678, 105263.15789473464, 39144.5109388796, 189.27205965855345, 7759.88286969253, 5173.152327918545, 187.75816748028515, 6424.5119841858095, 3367.712060618813, 18246.55095683134, 6473.724295506499, 17441.860465116293, 4804.612427930792, 9214.924564097935, 1645.1058102146155, 4310.7487583169395, 5100.820913365755, 1085.152559683386, 2116.9316038643597, 13202.725724020527, 12316.11358193633, 2842.781806196432, 4909.518786009911, 4220.094140561616, 482.4508503196241, 1696.6612131127627, 7614.836649471787, 150.96618357488006, 3878.317779663067, 3421.0526315789243, 29370.234397062843, 9201.797560453704, 1925.1594272650802, 3783.0401886607087, 4414.0430880762315, 6907.269901571415, 5437.245129134618, 8303.372710152353, 7011.2436407165, 14780.100937274601, 10375.566272102813, 11020.76195979692, 1746.7248908296956, 15179.171870496682, 16750.168249457904, 5407.02913787926, 837.7401958217717, 3980.9777713729904, 299.9014609485455, 1654.1457026673106, 3291.2638971674364, 7402.037468045317, 1742.2092337089368, 1070.494013163113, 20388.349514563593, 43363.299841351785, 1437.55615453729, 171.54865548741319, 61377.907490934456, 10150.524856407214, 14961.01706820263, 9792.106056040928, 10059.880239520862, 4548.4080571799495, 12167.423750811156, 878.5529715762284]\n"
          ]
        }
      ]
    },
    {
      "cell_type": "code",
      "source": [
        "print(\"γ =\", LinearRegression(X,permanentimpact))\n",
        "gamma =  LinearRegression(X,permanentimpact)"
      ],
      "metadata": {
        "colab": {
          "base_uri": "https://localhost:8080/"
        },
        "id": "94B3WeuGkKAD",
        "outputId": "669fa44b-76d4-4565-bfe4-80da2f26714b"
      },
      "execution_count": 44,
      "outputs": [
        {
          "output_type": "stream",
          "name": "stdout",
          "text": [
            "γ = 2.714276160923749e-07\n"
          ]
        }
      ]
    },
    {
      "cell_type": "markdown",
      "source": [
        "##2) Liquidation strategy"
      ],
      "metadata": {
        "id": "GpWhmTuTfZc7"
      }
    },
    {
      "cell_type": "code",
      "source": [
        "def calculate_xk(sigma, nu,lmbda):\n",
        "    xk = np.zeros(24)\n",
        "    M = np.sqrt(lmbda * (sigma**2) / abs(nu))\n",
        "    if(lmbda==0):\n",
        "      M = 0\n",
        "\n",
        "    for i in range(24):\n",
        "        xk[i] = (np.sinh(M*(24- (i - 1/2*1/24)))/np.sinh(M*24))*100000 # 100000 is the initial capital\n",
        "    return xk\n",
        "#define here lambda\n",
        "lmbda = 0.9\n",
        "xk = calculate_xk(sigma, mean_return, lmbda) #we put mean_return instead of nu\n",
        "print(xk)\n"
      ],
      "metadata": {
        "colab": {
          "base_uri": "https://localhost:8080/"
        },
        "id": "dIF-ohSNg2CW",
        "outputId": "3b60a592-4018-4a90-ab4e-8e42dc0dee45"
      },
      "execution_count": 45,
      "outputs": [
        {
          "output_type": "stream",
          "name": "stdout",
          "text": [
            "[100466.24368663  80362.07906547  64280.48437026  51416.48616161\n",
            "  41126.16963637  32894.44710313  26309.27497261  21041.02867961\n",
            "  16826.00313651  13453.212824    10753.83078989   8592.73791937\n",
            "   6861.75947021   5474.25032404   4360.75791532   3465.54574337\n",
            "   2743.80344982   2159.40381052   1683.09436659   1291.03317582\n",
            "    963.5953906     684.39092492    439.44403925    216.49377681]\n"
          ]
        }
      ]
    },
    {
      "cell_type": "code",
      "source": [
        "import matplotlib.pyplot as plt\n",
        "plt.plot(range(1, 25), xk, 'bo-')\n",
        "plt.xlabel('Times')\n",
        "plt.ylabel('Remaining amount')\n",
        "plt.title('Liquidation strategy with λ = '+ str(lmbda)+' (aversion) for the Almsgreen model')\n",
        "plt.grid(True)\n",
        "plt.show()"
      ],
      "metadata": {
        "colab": {
          "base_uri": "https://localhost:8080/",
          "height": 472
        },
        "id": "HfOr4aj-kcdN",
        "outputId": "97f1d5e0-0d84-4269-c4e1-ff52f3bc1474"
      },
      "execution_count": 46,
      "outputs": [
        {
          "output_type": "display_data",
          "data": {
            "text/plain": [
              "<Figure size 640x480 with 1 Axes>"
            ],
            "image/png": "[encoded data removed]"
          },
          "metadata": {}
        }
      ]
    },
    {
      "cell_type": "markdown",
      "source": [
        "# Question E"
      ],
      "metadata": {
        "id": "RzPI9z_gg5zH"
      }
    },
    {
      "cell_type": "code",
      "source": [
        "GBPEUR = pd.read_excel('Dataset TD5.xlsx', header=2, usecols=\"A:C\", names=[\"Date\", \"High\", \"Low\"])\n",
        "SEKEUR = pd.read_excel('Dataset TD5.xlsx', header=2, usecols=\"E:G\", names=[\"Date\", \"High\", \"Low\"])\n",
        "CADEUR = pd.read_excel('Dataset TD5.xlsx', header=2, usecols=\"I:K\", names=[\"Date\", \"High\", \"Low\"])"
      ],
      "metadata": {
        "id": "e5PQAck_hAsG"
      },
      "execution_count": null,
      "outputs": []
    },
    {
      "cell_type": "code",
      "source": [
        "def mid_prices(list_data):\n",
        "  for data in list_data :\n",
        "    data['Mid'] = (data['High'] + data['Low'])/2\n",
        "    returns = np.zeros(len(data['Mid']))\n",
        "    log_returns = np.zeros(len(data['Mid']))\n",
        "    for i in range(1, len(data['Mid'])):\n",
        "      returns[i] = (data['Mid'].iloc[i] - data['Mid'].iloc[i-1]) / data['Mid'].iloc[i-1]\n",
        "      log_returns[i] = np.log(data['Mid'].iloc[i]/data['Mid'].iloc[i-1])\n",
        "    data['Returns'] = returns\n",
        "    data['Log_returns'] = log_returns"
      ],
      "metadata": {
        "id": "NEf13bSahRUE"
      },
      "execution_count": null,
      "outputs": []
    },
    {
      "cell_type": "code",
      "source": [
        "mid_prices([GBPEUR, SEKEUR, CADEUR])"
      ],
      "metadata": {
        "id": "9JXomcDIhXnd"
      },
      "execution_count": null,
      "outputs": []
    },
    {
      "cell_type": "code",
      "source": [
        "GBPEUR.head()"
      ],
      "metadata": {
        "colab": {
          "base_uri": "https://localhost:8080/",
          "height": 206
        },
        "id": "8BRp6WW5hbos",
        "outputId": "9925a6c5-dff8-44ee-f1a4-6825719fbaa7"
      },
      "execution_count": null,
      "outputs": [
        {
          "output_type": "execute_result",
          "data": {
            "text/plain": [
              "                     Date    High     Low      Mid   Returns  Log_returns\n",
              "0 2016-03-07 08:59:59.990  1.2932  1.2917  1.29245  0.000000     0.000000\n",
              "1 2016-03-07 09:15:00.000  1.2940  1.2930  1.29350  0.000812     0.000812\n",
              "2 2016-03-07 09:30:00.000  1.2943  1.2922  1.29325 -0.000193    -0.000193\n",
              "3 2016-03-07 09:45:00.000  1.2930  1.2913  1.29215 -0.000851    -0.000851\n",
              "4 2016-03-07 10:00:00.000  1.2931  1.2921  1.29260  0.000348     0.000348"
            ],
            "text/html": [
              "\n",
              "  <div id=\"df-e7f66e24-a89d-4c89-80c0-00fb0d342ff0\" class=\"colab-df-container\">\n",
              "    <div>\n",
              "<style scoped>\n",
              "    .dataframe tbody tr th:only-of-type {\n",
              "        vertical-align: middle;\n",
              "    }\n",
              "\n",
              "    .dataframe tbody tr th {\n",
              "        vertical-align: top;\n",
              "    }\n",
              "\n",
              "    .dataframe thead th {\n",
              "        text-align: right;\n",
              "    }\n",
              "</style>\n",
              "<table border=\"1\" class=\"dataframe\">\n",
              "  <thead>\n",
              "    <tr style=\"text-align: right;\">\n",
              "      <th></th>\n",
              "      <th>Date</th>\n",
              "      <th>High</th>\n",
              "      <th>Low</th>\n",
              "      <th>Mid</th>\n",
              "      <th>Returns</th>\n",
              "      <th>Log_returns</th>\n",
              "    </tr>\n",
              "  </thead>\n",
              "  <tbody>\n",
              "    <tr>\n",
              "      <th>0</th>\n",
              "      <td>2016-03-07 08:59:59.990</td>\n",
              "      <td>1.2932</td>\n",
              "      <td>1.2917</td>\n",
              "      <td>1.29245</td>\n",
              "      <td>0.000000</td>\n",
              "      <td>0.000000</td>\n",
              "    </tr>\n",
              "    <tr>\n",
              "      <th>1</th>\n",
              "      <td>2016-03-07 09:15:00.000</td>\n",
              "      <td>1.2940</td>\n",
              "      <td>1.2930</td>\n",
              "      <td>1.29350</td>\n",
              "      <td>0.000812</td>\n",
              "      <td>0.000812</td>\n",
              "    </tr>\n",
              "    <tr>\n",
              "      <th>2</th>\n",
              "      <td>2016-03-07 09:30:00.000</td>\n",
              "      <td>1.2943</td>\n",
              "      <td>1.2922</td>\n",
              "      <td>1.29325</td>\n",
              "      <td>-0.000193</td>\n",
              "      <td>-0.000193</td>\n",
              "    </tr>\n",
              "    <tr>\n",
              "      <th>3</th>\n",
              "      <td>2016-03-07 09:45:00.000</td>\n",
              "      <td>1.2930</td>\n",
              "      <td>1.2913</td>\n",
              "      <td>1.29215</td>\n",
              "      <td>-0.000851</td>\n",
              "      <td>-0.000851</td>\n",
              "    </tr>\n",
              "    <tr>\n",
              "      <th>4</th>\n",
              "      <td>2016-03-07 10:00:00.000</td>\n",
              "      <td>1.2931</td>\n",
              "      <td>1.2921</td>\n",
              "      <td>1.29260</td>\n",
              "      <td>0.000348</td>\n",
              "      <td>0.000348</td>\n",
              "    </tr>\n",
              "  </tbody>\n",
              "</table>\n",
              "</div>\n",
              "    <div class=\"colab-df-buttons\">\n",
              "\n",
              "  <div class=\"colab-df-container\">\n",
              "    <button class=\"colab-df-convert\" onclick=\"convertToInteractive('df-e7f66e24-a89d-4c89-80c0-00fb0d342ff0')\"\n",
              "            title=\"Convert this dataframe to an interactive table.\"\n",
              "            style=\"display:none;\">\n",
              "\n",
              "  <svg xmlns=\"http://www.w3.org/2000/svg\" height=\"24px\" viewBox=\"0 -960 960 960\">\n",
              "    <path d=\"M120-120v-720h720v720H120Zm60-500h600v-160H180v160Zm220 220h160v-160H400v160Zm0 220h160v-160H400v160ZM180-400h160v-160H180v160Zm440 0h160v-160H620v160ZM180-180h160v-160H180v160Zm440 0h160v-160H620v160Z\"/>\n",
              "  </svg>\n",
              "    </button>\n",
              "\n",
              "  <style>\n",
              "    .colab-df-container {\n",
              "      display:flex;\n",
              "      gap: 12px;\n",
              "    }\n",
              "\n",
              "    .colab-df-convert {\n",
              "      background-color: #E8F0FE;\n",
              "      border: none;\n",
              "      border-radius: 50%;\n",
              "      cursor: pointer;\n",
              "      display: none;\n",
              "      fill: #1967D2;\n",
              "      height: 32px;\n",
              "      padding: 0 0 0 0;\n",
              "      width: 32px;\n",
              "    }\n",
              "\n",
              "    .colab-df-convert:hover {\n",
              "      background-color: #E2EBFA;\n",
              "      box-shadow: 0px 1px 2px rgba(60, 64, 67, 0.3), 0px 1px 3px 1px rgba(60, 64, 67, 0.15);\n",
              "      fill: #174EA6;\n",
              "    }\n",
              "\n",
              "    .colab-df-buttons div {\n",
              "      margin-bottom: 4px;\n",
              "    }\n",
              "\n",
              "    [theme=dark] .colab-df-convert {\n",
              "      background-color: #3B4455;\n",
              "      fill: #D2E3FC;\n",
              "    }\n",
              "\n",
              "    [theme=dark] .colab-df-convert:hover {\n",
              "      background-color: #434B5C;\n",
              "      box-shadow: 0px 1px 3px 1px rgba(0, 0, 0, 0.15);\n",
              "      filter: drop-shadow(0px 1px 2px rgba(0, 0, 0, 0.3));\n",
              "      fill: #FFFFFF;\n",
              "    }\n",
              "  </style>\n",
              "\n",
              "    <script>\n",
              "      const buttonEl =\n",
              "        document.querySelector('#df-e7f66e24-a89d-4c89-80c0-00fb0d342ff0 button.colab-df-convert');\n",
              "      buttonEl.style.display =\n",
              "        google.colab.kernel.accessAllowed ? 'block' : 'none';\n",
              "\n",
              "      async function convertToInteractive(key) {\n",
              "        const element = document.querySelector('#df-e7f66e24-a89d-4c89-80c0-00fb0d342ff0');\n",
              "        const dataTable =\n",
              "          await google.colab.kernel.invokeFunction('convertToInteractive',\n",
              "                                                    [key], {});\n",
              "        if (!dataTable) return;\n",
              "\n",
              "        const docLinkHtml = 'Like what you see? Visit the ' +\n",
              "          '<a target=\"_blank\" href=https://colab.research.google.com/notebooks/data_table.ipynb>data table notebook</a>'\n",
              "          + ' to learn more about interactive tables.';\n",
              "        element.innerHTML = '';\n",
              "        dataTable['output_type'] = 'display_data';\n",
              "        await google.colab.output.renderOutput(dataTable, element);\n",
              "        const docLink = document.createElement('div');\n",
              "        docLink.innerHTML = docLinkHtml;\n",
              "        element.appendChild(docLink);\n",
              "      }\n",
              "    </script>\n",
              "  </div>\n",
              "\n",
              "\n",
              "<div id=\"df-7589c6a5-71be-472f-908d-d9bf4918ff8f\">\n",
              "  <button class=\"colab-df-quickchart\" onclick=\"quickchart('df-7589c6a5-71be-472f-908d-d9bf4918ff8f')\"\n",
              "            title=\"Suggest charts\"\n",
              "            style=\"display:none;\">\n",
              "\n",
              "<svg xmlns=\"http://www.w3.org/2000/svg\" height=\"24px\"viewBox=\"0 0 24 24\"\n",
              "     width=\"24px\">\n",
              "    <g>\n",
              "        <path d=\"M19 3H5c-1.1 0-2 .9-2 2v14c0 1.1.9 2 2 2h14c1.1 0 2-.9 2-2V5c0-1.1-.9-2-2-2zM9 17H7v-7h2v7zm4 0h-2V7h2v10zm4 0h-2v-4h2v4z\"/>\n",
              "    </g>\n",
              "</svg>\n",
              "  </button>\n",
              "\n",
              "<style>\n",
              "  .colab-df-quickchart {\n",
              "      --bg-color: #E8F0FE;\n",
              "      --fill-color: #1967D2;\n",
              "      --hover-bg-color: #E2EBFA;\n",
              "      --hover-fill-color: #174EA6;\n",
              "      --disabled-fill-color: #AAA;\n",
              "      --disabled-bg-color: #DDD;\n",
              "  }\n",
              "\n",
              "  [theme=dark] .colab-df-quickchart {\n",
              "      --bg-color: #3B4455;\n",
              "      --fill-color: #D2E3FC;\n",
              "      --hover-bg-color: #434B5C;\n",
              "      --hover-fill-color: #FFFFFF;\n",
              "      --disabled-bg-color: #3B4455;\n",
              "      --disabled-fill-color: #666;\n",
              "  }\n",
              "\n",
              "  .colab-df-quickchart {\n",
              "    background-color: var(--bg-color);\n",
              "    border: none;\n",
              "    border-radius: 50%;\n",
              "    cursor: pointer;\n",
              "    display: none;\n",
              "    fill: var(--fill-color);\n",
              "    height: 32px;\n",
              "    padding: 0;\n",
              "    width: 32px;\n",
              "  }\n",
              "\n",
              "  .colab-df-quickchart:hover {\n",
              "    background-color: var(--hover-bg-color);\n",
              "    box-shadow: 0 1px 2px rgba(60, 64, 67, 0.3), 0 1px 3px 1px rgba(60, 64, 67, 0.15);\n",
              "    fill: var(--button-hover-fill-color);\n",
              "  }\n",
              "\n",
              "  .colab-df-quickchart-complete:disabled,\n",
              "  .colab-df-quickchart-complete:disabled:hover {\n",
              "    background-color: var(--disabled-bg-color);\n",
              "    fill: var(--disabled-fill-color);\n",
              "    box-shadow: none;\n",
              "  }\n",
              "\n",
              "  .colab-df-spinner {\n",
              "    border: 2px solid var(--fill-color);\n",
              "    border-color: transparent;\n",
              "    border-bottom-color: var(--fill-color);\n",
              "    animation:\n",
              "      spin 1s steps(1) infinite;\n",
              "  }\n",
              "\n",
              "  @keyframes spin {\n",
              "    0% {\n",
              "      border-color: transparent;\n",
              "      border-bottom-color: var(--fill-color);\n",
              "      border-left-color: var(--fill-color);\n",
              "    }\n",
              "    20% {\n",
              "      border-color: transparent;\n",
              "      border-left-color: var(--fill-color);\n",
              "      border-top-color: var(--fill-color);\n",
              "    }\n",
              "    30% {\n",
              "      border-color: transparent;\n",
              "      border-left-color: var(--fill-color);\n",
              "      border-top-color: var(--fill-color);\n",
              "      border-right-color: var(--fill-color);\n",
              "    }\n",
              "    40% {\n",
              "      border-color: transparent;\n",
              "      border-right-color: var(--fill-color);\n",
              "      border-top-color: var(--fill-color);\n",
              "    }\n",
              "    60% {\n",
              "      border-color: transparent;\n",
              "      border-right-color: var(--fill-color);\n",
              "    }\n",
              "    80% {\n",
              "      border-color: transparent;\n",
              "      border-right-color: var(--fill-color);\n",
              "      border-bottom-color: var(--fill-color);\n",
              "    }\n",
              "    90% {\n",
              "      border-color: transparent;\n",
              "      border-bottom-color: var(--fill-color);\n",
              "    }\n",
              "  }\n",
              "</style>\n",
              "\n",
              "  <script>\n",
              "    async function quickchart(key) {\n",
              "      const quickchartButtonEl =\n",
              "        document.querySelector('#' + key + ' button');\n",
              "      quickchartButtonEl.disabled = true;  // To prevent multiple clicks.\n",
              "      quickchartButtonEl.classList.add('colab-df-spinner');\n",
              "      try {\n",
              "        const charts = await google.colab.kernel.invokeFunction(\n",
              "            'suggestCharts', [key], {});\n",
              "      } catch (error) {\n",
              "        console.error('Error during call to suggestCharts:', error);\n",
              "      }\n",
              "      quickchartButtonEl.classList.remove('colab-df-spinner');\n",
              "      quickchartButtonEl.classList.add('colab-df-quickchart-complete');\n",
              "    }\n",
              "    (() => {\n",
              "      let quickchartButtonEl =\n",
              "        document.querySelector('#df-7589c6a5-71be-472f-908d-d9bf4918ff8f button');\n",
              "      quickchartButtonEl.style.display =\n",
              "        google.colab.kernel.accessAllowed ? 'block' : 'none';\n",
              "    })();\n",
              "  </script>\n",
              "</div>\n",
              "    </div>\n",
              "  </div>\n"
            ]
          },
          "metadata": {},
          "execution_count": 61
        }
      ]
    },
    {
      "cell_type": "code",
      "source": [
        "SEKEUR.head()"
      ],
      "metadata": {
        "colab": {
          "base_uri": "https://localhost:8080/",
          "height": 206
        },
        "id": "wNO70s3PhdHD",
        "outputId": "1db391a3-cdc6-49df-e667-4d47f26b7fa3"
      },
      "execution_count": null,
      "outputs": [
        {
          "output_type": "execute_result",
          "data": {
            "text/plain": [
              "                     Date     High      Low       Mid       Returns  \\\n",
              "0 2016-03-07 08:59:59.990  0.10725  0.10720  0.107225  0.000000e+00   \n",
              "1 2016-03-07 09:15:00.000  0.10728  0.10717  0.107225  0.000000e+00   \n",
              "2 2016-03-07 09:30:00.000  0.10726  0.10719  0.107225 -1.294268e-16   \n",
              "3 2016-03-07 09:45:00.000  0.10728  0.10721  0.107245  1.865237e-04   \n",
              "4 2016-03-07 10:00:00.000  0.10725  0.10719  0.107220 -2.331111e-04   \n",
              "\n",
              "    Log_returns  \n",
              "0  0.000000e+00  \n",
              "1  0.000000e+00  \n",
              "2 -1.110223e-16  \n",
              "3  1.865063e-04  \n",
              "4 -2.331383e-04  "
            ],
            "text/html": [
              "\n",
              "  <div id=\"df-92e9f283-eb27-4f94-b785-7baf8b6e61b8\" class=\"colab-df-container\">\n",
              "    <div>\n",
              "<style scoped>\n",
              "    .dataframe tbody tr th:only-of-type {\n",
              "        vertical-align: middle;\n",
              "    }\n",
              "\n",
              "    .dataframe tbody tr th {\n",
              "        vertical-align: top;\n",
              "    }\n",
              "\n",
              "    .dataframe thead th {\n",
              "        text-align: right;\n",
              "    }\n",
              "</style>\n",
              "<table border=\"1\" class=\"dataframe\">\n",
              "  <thead>\n",
              "    <tr style=\"text-align: right;\">\n",
              "      <th></th>\n",
              "      <th>Date</th>\n",
              "      <th>High</th>\n",
              "      <th>Low</th>\n",
              "      <th>Mid</th>\n",
              "      <th>Returns</th>\n",
              "      <th>Log_returns</th>\n",
              "    </tr>\n",
              "  </thead>\n",
              "  <tbody>\n",
              "    <tr>\n",
              "      <th>0</th>\n",
              "      <td>2016-03-07 08:59:59.990</td>\n",
              "      <td>0.10725</td>\n",
              "      <td>0.10720</td>\n",
              "      <td>0.107225</td>\n",
              "      <td>0.000000e+00</td>\n",
              "      <td>0.000000e+00</td>\n",
              "    </tr>\n",
              "    <tr>\n",
              "      <th>1</th>\n",
              "      <td>2016-03-07 09:15:00.000</td>\n",
              "      <td>0.10728</td>\n",
              "      <td>0.10717</td>\n",
              "      <td>0.107225</td>\n",
              "      <td>0.000000e+00</td>\n",
              "      <td>0.000000e+00</td>\n",
              "    </tr>\n",
              "    <tr>\n",
              "      <th>2</th>\n",
              "      <td>2016-03-07 09:30:00.000</td>\n",
              "      <td>0.10726</td>\n",
              "      <td>0.10719</td>\n",
              "      <td>0.107225</td>\n",
              "      <td>-1.294268e-16</td>\n",
              "      <td>-1.110223e-16</td>\n",
              "    </tr>\n",
              "    <tr>\n",
              "      <th>3</th>\n",
              "      <td>2016-03-07 09:45:00.000</td>\n",
              "      <td>0.10728</td>\n",
              "      <td>0.10721</td>\n",
              "      <td>0.107245</td>\n",
              "      <td>1.865237e-04</td>\n",
              "      <td>1.865063e-04</td>\n",
              "    </tr>\n",
              "    <tr>\n",
              "      <th>4</th>\n",
              "      <td>2016-03-07 10:00:00.000</td>\n",
              "      <td>0.10725</td>\n",
              "      <td>0.10719</td>\n",
              "      <td>0.107220</td>\n",
              "      <td>-2.331111e-04</td>\n",
              "      <td>-2.331383e-04</td>\n",
              "    </tr>\n",
              "  </tbody>\n",
              "</table>\n",
              "</div>\n",
              "    <div class=\"colab-df-buttons\">\n",
              "\n",
              "  <div class=\"colab-df-container\">\n",
              "    <button class=\"colab-df-convert\" onclick=\"convertToInteractive('df-92e9f283-eb27-4f94-b785-7baf8b6e61b8')\"\n",
              "            title=\"Convert this dataframe to an interactive table.\"\n",
              "            style=\"display:none;\">\n",
              "\n",
              "  <svg xmlns=\"http://www.w3.org/2000/svg\" height=\"24px\" viewBox=\"0 -960 960 960\">\n",
              "    <path d=\"M120-120v-720h720v720H120Zm60-500h600v-160H180v160Zm220 220h160v-160H400v160Zm0 220h160v-160H400v160ZM180-400h160v-160H180v160Zm440 0h160v-160H620v160ZM180-180h160v-160H180v160Zm440 0h160v-160H620v160Z\"/>\n",
              "  </svg>\n",
              "    </button>\n",
              "\n",
              "  <style>\n",
              "    .colab-df-container {\n",
              "      display:flex;\n",
              "      gap: 12px;\n",
              "    }\n",
              "\n",
              "    .colab-df-convert {\n",
              "      background-color: #E8F0FE;\n",
              "      border: none;\n",
              "      border-radius: 50%;\n",
              "      cursor: pointer;\n",
              "      display: none;\n",
              "      fill: #1967D2;\n",
              "      height: 32px;\n",
              "      padding: 0 0 0 0;\n",
              "      width: 32px;\n",
              "    }\n",
              "\n",
              "    .colab-df-convert:hover {\n",
              "      background-color: #E2EBFA;\n",
              "      box-shadow: 0px 1px 2px rgba(60, 64, 67, 0.3), 0px 1px 3px 1px rgba(60, 64, 67, 0.15);\n",
              "      fill: #174EA6;\n",
              "    }\n",
              "\n",
              "    .colab-df-buttons div {\n",
              "      margin-bottom: 4px;\n",
              "    }\n",
              "\n",
              "    [theme=dark] .colab-df-convert {\n",
              "      background-color: #3B4455;\n",
              "      fill: #D2E3FC;\n",
              "    }\n",
              "\n",
              "    [theme=dark] .colab-df-convert:hover {\n",
              "      background-color: #434B5C;\n",
              "      box-shadow: 0px 1px 3px 1px rgba(0, 0, 0, 0.15);\n",
              "      filter: drop-shadow(0px 1px 2px rgba(0, 0, 0, 0.3));\n",
              "      fill: #FFFFFF;\n",
              "    }\n",
              "  </style>\n",
              "\n",
              "    <script>\n",
              "      const buttonEl =\n",
              "        document.querySelector('#df-92e9f283-eb27-4f94-b785-7baf8b6e61b8 button.colab-df-convert');\n",
              "      buttonEl.style.display =\n",
              "        google.colab.kernel.accessAllowed ? 'block' : 'none';\n",
              "\n",
              "      async function convertToInteractive(key) {\n",
              "        const element = document.querySelector('#df-92e9f283-eb27-4f94-b785-7baf8b6e61b8');\n",
              "        const dataTable =\n",
              "          await google.colab.kernel.invokeFunction('convertToInteractive',\n",
              "                                                    [key], {});\n",
              "        if (!dataTable) return;\n",
              "\n",
              "        const docLinkHtml = 'Like what you see? Visit the ' +\n",
              "          '<a target=\"_blank\" href=https://colab.research.google.com/notebooks/data_table.ipynb>data table notebook</a>'\n",
              "          + ' to learn more about interactive tables.';\n",
              "        element.innerHTML = '';\n",
              "        dataTable['output_type'] = 'display_data';\n",
              "        await google.colab.output.renderOutput(dataTable, element);\n",
              "        const docLink = document.createElement('div');\n",
              "        docLink.innerHTML = docLinkHtml;\n",
              "        element.appendChild(docLink);\n",
              "      }\n",
              "    </script>\n",
              "  </div>\n",
              "\n",
              "\n",
              "<div id=\"df-cda61180-b2d3-4a67-ab88-8f89530276c7\">\n",
              "  <button class=\"colab-df-quickchart\" onclick=\"quickchart('df-cda61180-b2d3-4a67-ab88-8f89530276c7')\"\n",
              "            title=\"Suggest charts\"\n",
              "            style=\"display:none;\">\n",
              "\n",
              "<svg xmlns=\"http://www.w3.org/2000/svg\" height=\"24px\"viewBox=\"0 0 24 24\"\n",
              "     width=\"24px\">\n",
              "    <g>\n",
              "        <path d=\"M19 3H5c-1.1 0-2 .9-2 2v14c0 1.1.9 2 2 2h14c1.1 0 2-.9 2-2V5c0-1.1-.9-2-2-2zM9 17H7v-7h2v7zm4 0h-2V7h2v10zm4 0h-2v-4h2v4z\"/>\n",
              "    </g>\n",
              "</svg>\n",
              "  </button>\n",
              "\n",
              "<style>\n",
              "  .colab-df-quickchart {\n",
              "      --bg-color: #E8F0FE;\n",
              "      --fill-color: #1967D2;\n",
              "      --hover-bg-color: #E2EBFA;\n",
              "      --hover-fill-color: #174EA6;\n",
              "      --disabled-fill-color: #AAA;\n",
              "      --disabled-bg-color: #DDD;\n",
              "  }\n",
              "\n",
              "  [theme=dark] .colab-df-quickchart {\n",
              "      --bg-color: #3B4455;\n",
              "      --fill-color: #D2E3FC;\n",
              "      --hover-bg-color: #434B5C;\n",
              "      --hover-fill-color: #FFFFFF;\n",
              "      --disabled-bg-color: #3B4455;\n",
              "      --disabled-fill-color: #666;\n",
              "  }\n",
              "\n",
              "  .colab-df-quickchart {\n",
              "    background-color: var(--bg-color);\n",
              "    border: none;\n",
              "    border-radius: 50%;\n",
              "    cursor: pointer;\n",
              "    display: none;\n",
              "    fill: var(--fill-color);\n",
              "    height: 32px;\n",
              "    padding: 0;\n",
              "    width: 32px;\n",
              "  }\n",
              "\n",
              "  .colab-df-quickchart:hover {\n",
              "    background-color: var(--hover-bg-color);\n",
              "    box-shadow: 0 1px 2px rgba(60, 64, 67, 0.3), 0 1px 3px 1px rgba(60, 64, 67, 0.15);\n",
              "    fill: var(--button-hover-fill-color);\n",
              "  }\n",
              "\n",
              "  .colab-df-quickchart-complete:disabled,\n",
              "  .colab-df-quickchart-complete:disabled:hover {\n",
              "    background-color: var(--disabled-bg-color);\n",
              "    fill: var(--disabled-fill-color);\n",
              "    box-shadow: none;\n",
              "  }\n",
              "\n",
              "  .colab-df-spinner {\n",
              "    border: 2px solid var(--fill-color);\n",
              "    border-color: transparent;\n",
              "    border-bottom-color: var(--fill-color);\n",
              "    animation:\n",
              "      spin 1s steps(1) infinite;\n",
              "  }\n",
              "\n",
              "  @keyframes spin {\n",
              "    0% {\n",
              "      border-color: transparent;\n",
              "      border-bottom-color: var(--fill-color);\n",
              "      border-left-color: var(--fill-color);\n",
              "    }\n",
              "    20% {\n",
              "      border-color: transparent;\n",
              "      border-left-color: var(--fill-color);\n",
              "      border-top-color: var(--fill-color);\n",
              "    }\n",
              "    30% {\n",
              "      border-color: transparent;\n",
              "      border-left-color: var(--fill-color);\n",
              "      border-top-color: var(--fill-color);\n",
              "      border-right-color: var(--fill-color);\n",
              "    }\n",
              "    40% {\n",
              "      border-color: transparent;\n",
              "      border-right-color: var(--fill-color);\n",
              "      border-top-color: var(--fill-color);\n",
              "    }\n",
              "    60% {\n",
              "      border-color: transparent;\n",
              "      border-right-color: var(--fill-color);\n",
              "    }\n",
              "    80% {\n",
              "      border-color: transparent;\n",
              "      border-right-color: var(--fill-color);\n",
              "      border-bottom-color: var(--fill-color);\n",
              "    }\n",
              "    90% {\n",
              "      border-color: transparent;\n",
              "      border-bottom-color: var(--fill-color);\n",
              "    }\n",
              "  }\n",
              "</style>\n",
              "\n",
              "  <script>\n",
              "    async function quickchart(key) {\n",
              "      const quickchartButtonEl =\n",
              "        document.querySelector('#' + key + ' button');\n",
              "      quickchartButtonEl.disabled = true;  // To prevent multiple clicks.\n",
              "      quickchartButtonEl.classList.add('colab-df-spinner');\n",
              "      try {\n",
              "        const charts = await google.colab.kernel.invokeFunction(\n",
              "            'suggestCharts', [key], {});\n",
              "      } catch (error) {\n",
              "        console.error('Error during call to suggestCharts:', error);\n",
              "      }\n",
              "      quickchartButtonEl.classList.remove('colab-df-spinner');\n",
              "      quickchartButtonEl.classList.add('colab-df-quickchart-complete');\n",
              "    }\n",
              "    (() => {\n",
              "      let quickchartButtonEl =\n",
              "        document.querySelector('#df-cda61180-b2d3-4a67-ab88-8f89530276c7 button');\n",
              "      quickchartButtonEl.style.display =\n",
              "        google.colab.kernel.accessAllowed ? 'block' : 'none';\n",
              "    })();\n",
              "  </script>\n",
              "</div>\n",
              "    </div>\n",
              "  </div>\n"
            ]
          },
          "metadata": {},
          "execution_count": 147
        }
      ]
    },
    {
      "cell_type": "code",
      "source": [
        "CADEUR.head()"
      ],
      "metadata": {
        "colab": {
          "base_uri": "https://localhost:8080/",
          "height": 206
        },
        "id": "mrW9Iw-Xhedd",
        "outputId": "dd4c04c8-6503-4b5c-b45b-d3f60c45a5ab"
      },
      "execution_count": null,
      "outputs": [
        {
          "output_type": "execute_result",
          "data": {
            "text/plain": [
              "                     Date    High     Low      Mid   Returns  Log_returns\n",
              "0 2016-03-07 08:59:59.990  0.6842  0.6829  0.68355  0.000000     0.000000\n",
              "1 2016-03-07 09:15:00.000  0.6849  0.6841  0.68450  0.001390     0.001389\n",
              "2 2016-03-07 09:30:00.000  0.6844  0.6837  0.68405 -0.000657    -0.000658\n",
              "3 2016-03-07 09:45:00.000  0.6844  0.6839  0.68415  0.000146     0.000146\n",
              "4 2016-03-07 10:00:00.000  0.6840  0.6835  0.68375 -0.000585    -0.000585"
            ],
            "text/html": [
              "\n",
              "  <div id=\"df-be4efef8-e727-445a-9a1b-e03c742c9747\" class=\"colab-df-container\">\n",
              "    <div>\n",
              "<style scoped>\n",
              "    .dataframe tbody tr th:only-of-type {\n",
              "        vertical-align: middle;\n",
              "    }\n",
              "\n",
              "    .dataframe tbody tr th {\n",
              "        vertical-align: top;\n",
              "    }\n",
              "\n",
              "    .dataframe thead th {\n",
              "        text-align: right;\n",
              "    }\n",
              "</style>\n",
              "<table border=\"1\" class=\"dataframe\">\n",
              "  <thead>\n",
              "    <tr style=\"text-align: right;\">\n",
              "      <th></th>\n",
              "      <th>Date</th>\n",
              "      <th>High</th>\n",
              "      <th>Low</th>\n",
              "      <th>Mid</th>\n",
              "      <th>Returns</th>\n",
              "      <th>Log_returns</th>\n",
              "    </tr>\n",
              "  </thead>\n",
              "  <tbody>\n",
              "    <tr>\n",
              "      <th>0</th>\n",
              "      <td>2016-03-07 08:59:59.990</td>\n",
              "      <td>0.6842</td>\n",
              "      <td>0.6829</td>\n",
              "      <td>0.68355</td>\n",
              "      <td>0.000000</td>\n",
              "      <td>0.000000</td>\n",
              "    </tr>\n",
              "    <tr>\n",
              "      <th>1</th>\n",
              "      <td>2016-03-07 09:15:00.000</td>\n",
              "      <td>0.6849</td>\n",
              "      <td>0.6841</td>\n",
              "      <td>0.68450</td>\n",
              "      <td>0.001390</td>\n",
              "      <td>0.001389</td>\n",
              "    </tr>\n",
              "    <tr>\n",
              "      <th>2</th>\n",
              "      <td>2016-03-07 09:30:00.000</td>\n",
              "      <td>0.6844</td>\n",
              "      <td>0.6837</td>\n",
              "      <td>0.68405</td>\n",
              "      <td>-0.000657</td>\n",
              "      <td>-0.000658</td>\n",
              "    </tr>\n",
              "    <tr>\n",
              "      <th>3</th>\n",
              "      <td>2016-03-07 09:45:00.000</td>\n",
              "      <td>0.6844</td>\n",
              "      <td>0.6839</td>\n",
              "      <td>0.68415</td>\n",
              "      <td>0.000146</td>\n",
              "      <td>0.000146</td>\n",
              "    </tr>\n",
              "    <tr>\n",
              "      <th>4</th>\n",
              "      <td>2016-03-07 10:00:00.000</td>\n",
              "      <td>0.6840</td>\n",
              "      <td>0.6835</td>\n",
              "      <td>0.68375</td>\n",
              "      <td>-0.000585</td>\n",
              "      <td>-0.000585</td>\n",
              "    </tr>\n",
              "  </tbody>\n",
              "</table>\n",
              "</div>\n",
              "    <div class=\"colab-df-buttons\">\n",
              "\n",
              "  <div class=\"colab-df-container\">\n",
              "    <button class=\"colab-df-convert\" onclick=\"convertToInteractive('df-be4efef8-e727-445a-9a1b-e03c742c9747')\"\n",
              "            title=\"Convert this dataframe to an interactive table.\"\n",
              "            style=\"display:none;\">\n",
              "\n",
              "  <svg xmlns=\"http://www.w3.org/2000/svg\" height=\"24px\" viewBox=\"0 -960 960 960\">\n",
              "    <path d=\"M120-120v-720h720v720H120Zm60-500h600v-160H180v160Zm220 220h160v-160H400v160Zm0 220h160v-160H400v160ZM180-400h160v-160H180v160Zm440 0h160v-160H620v160ZM180-180h160v-160H180v160Zm440 0h160v-160H620v160Z\"/>\n",
              "  </svg>\n",
              "    </button>\n",
              "\n",
              "  <style>\n",
              "    .colab-df-container {\n",
              "      display:flex;\n",
              "      gap: 12px;\n",
              "    }\n",
              "\n",
              "    .colab-df-convert {\n",
              "      background-color: #E8F0FE;\n",
              "      border: none;\n",
              "      border-radius: 50%;\n",
              "      cursor: pointer;\n",
              "      display: none;\n",
              "      fill: #1967D2;\n",
              "      height: 32px;\n",
              "      padding: 0 0 0 0;\n",
              "      width: 32px;\n",
              "    }\n",
              "\n",
              "    .colab-df-convert:hover {\n",
              "      background-color: #E2EBFA;\n",
              "      box-shadow: 0px 1px 2px rgba(60, 64, 67, 0.3), 0px 1px 3px 1px rgba(60, 64, 67, 0.15);\n",
              "      fill: #174EA6;\n",
              "    }\n",
              "\n",
              "    .colab-df-buttons div {\n",
              "      margin-bottom: 4px;\n",
              "    }\n",
              "\n",
              "    [theme=dark] .colab-df-convert {\n",
              "      background-color: #3B4455;\n",
              "      fill: #D2E3FC;\n",
              "    }\n",
              "\n",
              "    [theme=dark] .colab-df-convert:hover {\n",
              "      background-color: #434B5C;\n",
              "      box-shadow: 0px 1px 3px 1px rgba(0, 0, 0, 0.15);\n",
              "      filter: drop-shadow(0px 1px 2px rgba(0, 0, 0, 0.3));\n",
              "      fill: #FFFFFF;\n",
              "    }\n",
              "  </style>\n",
              "\n",
              "    <script>\n",
              "      const buttonEl =\n",
              "        document.querySelector('#df-be4efef8-e727-445a-9a1b-e03c742c9747 button.colab-df-convert');\n",
              "      buttonEl.style.display =\n",
              "        google.colab.kernel.accessAllowed ? 'block' : 'none';\n",
              "\n",
              "      async function convertToInteractive(key) {\n",
              "        const element = document.querySelector('#df-be4efef8-e727-445a-9a1b-e03c742c9747');\n",
              "        const dataTable =\n",
              "          await google.colab.kernel.invokeFunction('convertToInteractive',\n",
              "                                                    [key], {});\n",
              "        if (!dataTable) return;\n",
              "\n",
              "        const docLinkHtml = 'Like what you see? Visit the ' +\n",
              "          '<a target=\"_blank\" href=https://colab.research.google.com/notebooks/data_table.ipynb>data table notebook</a>'\n",
              "          + ' to learn more about interactive tables.';\n",
              "        element.innerHTML = '';\n",
              "        dataTable['output_type'] = 'display_data';\n",
              "        await google.colab.output.renderOutput(dataTable, element);\n",
              "        const docLink = document.createElement('div');\n",
              "        docLink.innerHTML = docLinkHtml;\n",
              "        element.appendChild(docLink);\n",
              "      }\n",
              "    </script>\n",
              "  </div>\n",
              "\n",
              "\n",
              "<div id=\"df-77e25953-6f6a-4e32-9f30-72055132d70b\">\n",
              "  <button class=\"colab-df-quickchart\" onclick=\"quickchart('df-77e25953-6f6a-4e32-9f30-72055132d70b')\"\n",
              "            title=\"Suggest charts\"\n",
              "            style=\"display:none;\">\n",
              "\n",
              "<svg xmlns=\"http://www.w3.org/2000/svg\" height=\"24px\"viewBox=\"0 0 24 24\"\n",
              "     width=\"24px\">\n",
              "    <g>\n",
              "        <path d=\"M19 3H5c-1.1 0-2 .9-2 2v14c0 1.1.9 2 2 2h14c1.1 0 2-.9 2-2V5c0-1.1-.9-2-2-2zM9 17H7v-7h2v7zm4 0h-2V7h2v10zm4 0h-2v-4h2v4z\"/>\n",
              "    </g>\n",
              "</svg>\n",
              "  </button>\n",
              "\n",
              "<style>\n",
              "  .colab-df-quickchart {\n",
              "      --bg-color: #E8F0FE;\n",
              "      --fill-color: #1967D2;\n",
              "      --hover-bg-color: #E2EBFA;\n",
              "      --hover-fill-color: #174EA6;\n",
              "      --disabled-fill-color: #AAA;\n",
              "      --disabled-bg-color: #DDD;\n",
              "  }\n",
              "\n",
              "  [theme=dark] .colab-df-quickchart {\n",
              "      --bg-color: #3B4455;\n",
              "      --fill-color: #D2E3FC;\n",
              "      --hover-bg-color: #434B5C;\n",
              "      --hover-fill-color: #FFFFFF;\n",
              "      --disabled-bg-color: #3B4455;\n",
              "      --disabled-fill-color: #666;\n",
              "  }\n",
              "\n",
              "  .colab-df-quickchart {\n",
              "    background-color: var(--bg-color);\n",
              "    border: none;\n",
              "    border-radius: 50%;\n",
              "    cursor: pointer;\n",
              "    display: none;\n",
              "    fill: var(--fill-color);\n",
              "    height: 32px;\n",
              "    padding: 0;\n",
              "    width: 32px;\n",
              "  }\n",
              "\n",
              "  .colab-df-quickchart:hover {\n",
              "    background-color: var(--hover-bg-color);\n",
              "    box-shadow: 0 1px 2px rgba(60, 64, 67, 0.3), 0 1px 3px 1px rgba(60, 64, 67, 0.15);\n",
              "    fill: var(--button-hover-fill-color);\n",
              "  }\n",
              "\n",
              "  .colab-df-quickchart-complete:disabled,\n",
              "  .colab-df-quickchart-complete:disabled:hover {\n",
              "    background-color: var(--disabled-bg-color);\n",
              "    fill: var(--disabled-fill-color);\n",
              "    box-shadow: none;\n",
              "  }\n",
              "\n",
              "  .colab-df-spinner {\n",
              "    border: 2px solid var(--fill-color);\n",
              "    border-color: transparent;\n",
              "    border-bottom-color: var(--fill-color);\n",
              "    animation:\n",
              "      spin 1s steps(1) infinite;\n",
              "  }\n",
              "\n",
              "  @keyframes spin {\n",
              "    0% {\n",
              "      border-color: transparent;\n",
              "      border-bottom-color: var(--fill-color);\n",
              "      border-left-color: var(--fill-color);\n",
              "    }\n",
              "    20% {\n",
              "      border-color: transparent;\n",
              "      border-left-color: var(--fill-color);\n",
              "      border-top-color: var(--fill-color);\n",
              "    }\n",
              "    30% {\n",
              "      border-color: transparent;\n",
              "      border-left-color: var(--fill-color);\n",
              "      border-top-color: var(--fill-color);\n",
              "      border-right-color: var(--fill-color);\n",
              "    }\n",
              "    40% {\n",
              "      border-color: transparent;\n",
              "      border-right-color: var(--fill-color);\n",
              "      border-top-color: var(--fill-color);\n",
              "    }\n",
              "    60% {\n",
              "      border-color: transparent;\n",
              "      border-right-color: var(--fill-color);\n",
              "    }\n",
              "    80% {\n",
              "      border-color: transparent;\n",
              "      border-right-color: var(--fill-color);\n",
              "      border-bottom-color: var(--fill-color);\n",
              "    }\n",
              "    90% {\n",
              "      border-color: transparent;\n",
              "      border-bottom-color: var(--fill-color);\n",
              "    }\n",
              "  }\n",
              "</style>\n",
              "\n",
              "  <script>\n",
              "    async function quickchart(key) {\n",
              "      const quickchartButtonEl =\n",
              "        document.querySelector('#' + key + ' button');\n",
              "      quickchartButtonEl.disabled = true;  // To prevent multiple clicks.\n",
              "      quickchartButtonEl.classList.add('colab-df-spinner');\n",
              "      try {\n",
              "        const charts = await google.colab.kernel.invokeFunction(\n",
              "            'suggestCharts', [key], {});\n",
              "      } catch (error) {\n",
              "        console.error('Error during call to suggestCharts:', error);\n",
              "      }\n",
              "      quickchartButtonEl.classList.remove('colab-df-spinner');\n",
              "      quickchartButtonEl.classList.add('colab-df-quickchart-complete');\n",
              "    }\n",
              "    (() => {\n",
              "      let quickchartButtonEl =\n",
              "        document.querySelector('#df-77e25953-6f6a-4e32-9f30-72055132d70b button');\n",
              "      quickchartButtonEl.style.display =\n",
              "        google.colab.kernel.accessAllowed ? 'block' : 'none';\n",
              "    })();\n",
              "  </script>\n",
              "</div>\n",
              "    </div>\n",
              "  </div>\n"
            ]
          },
          "metadata": {},
          "execution_count": 148
        }
      ]
    },
    {
      "cell_type": "markdown",
      "source": [
        "##a) Covariance and Correlation"
      ],
      "metadata": {
        "id": "roe-QaHgwPSx"
      }
    },
    {
      "cell_type": "markdown",
      "source": [
        "###1) Father and son wavelets"
      ],
      "metadata": {
        "id": "e2OX_j5exwR0"
      }
    },
    {
      "cell_type": "code",
      "source": [
        "def father_wavelet(x):\n",
        "  if x >= 0 and x<1:\n",
        "    father = 1\n",
        "  else:\n",
        "    father = 0\n",
        "  return father"
      ],
      "metadata": {
        "id": "gtDodGmgiboC"
      },
      "execution_count": null,
      "outputs": []
    },
    {
      "cell_type": "code",
      "source": [
        "def son_wavelet(x, k, j):\n",
        "  return 2**(j/2) * father_wavelet((x * (2)**j) - k)"
      ],
      "metadata": {
        "id": "eITvot3Cx2rK"
      },
      "execution_count": null,
      "outputs": []
    },
    {
      "cell_type": "code",
      "source": [
        "x_values = np.linspace(-2,2,1000)\n",
        "haar_father_wavelet = [father_wavelet(x) for x in x_values]\n",
        "haar_son_wavelet = [son_wavelet(x, 0.75, 0) for x in x_values]\n",
        "haar_son_wavelet2 = [son_wavelet(x, 0, 1) for x in x_values]\n",
        "haar_son_wavelet3 = [son_wavelet(x, 0, -0.5) for x in x_values]"
      ],
      "metadata": {
        "id": "qqNyLj-za62H"
      },
      "execution_count": null,
      "outputs": []
    },
    {
      "cell_type": "code",
      "source": [
        "fig, (ax1, ax2) = plt.subplots(1, 2, figsize=(15, 5))\n",
        "\n",
        "ax1.plot(x_values, haar_father_wavelet, color='firebrick', linewidth=2, label='father')\n",
        "ax1.plot(x_values, haar_son_wavelet, color='cornflowerblue', label='son : k=0.75, j=0')\n",
        "ax1.set_title('Haar father and son (translated) wavelets')\n",
        "ax1.set_xlim(-1,2)\n",
        "ax1.legend()\n",
        "ax1.grid(True)\n",
        "\n",
        "ax2.plot(x_values, haar_father_wavelet, color='firebrick', linewidth=2, label='father')\n",
        "ax2.plot(x_values, haar_son_wavelet2, color='cornflowerblue', label='son : k=0, j=1')\n",
        "ax2.plot(x_values, haar_son_wavelet3, color='violet', label='son : k=0, j=-0.5')\n",
        "ax2.set_title('Haar father and son (compressed and dilated) wavelets')\n",
        "ax2.legend()\n",
        "ax2.set_xlim(-0.5,2)\n",
        "ax2.grid(True)\n",
        "\n",
        "plt.tight_layout()\n",
        "plt.show()"
      ],
      "metadata": {
        "colab": {
          "base_uri": "https://localhost:8080/",
          "height": 391
        },
        "id": "MQePTQYfa8V8",
        "outputId": "99dd2c92-1726-4045-fda2-94a39de96dfe"
      },
      "execution_count": null,
      "outputs": [
        {
          "output_type": "display_data",
          "data": {
            "text/plain": [
              "<Figure size 1500x500 with 2 Axes>"
            ],
            "image/png": "[encoded data removed]"
          },
          "metadata": {}
        }
      ]
    },
    {
      "cell_type": "markdown",
      "source": [
        "###2) Scale coefficient, Covariance and Correlation"
      ],
      "metadata": {
        "id": "4y8HK01rrkgx"
      }
    },
    {
      "cell_type": "code",
      "source": [
        "def coefficient_c(signal, j, k):\n",
        "    return sum(son_wavelet(i, k, j) * signal[::(2**j)][i]for i in range(int(len(signal)/(2**j))))"
      ],
      "metadata": {
        "id": "ge13yobUyxd2"
      },
      "execution_count": null,
      "outputs": []
    },
    {
      "cell_type": "code",
      "source": [
        "def cov(j, signal1, signal2):\n",
        "  T = len(signal1)\n",
        "  cov = 0\n",
        "  division = int(T/(2**j))\n",
        "  for i in range(division):\n",
        "    m1 = sum(coefficient_c(signal1,j,k) for k in range(division))/division\n",
        "    m2 = sum(coefficient_c(signal2,j,k) for k in range(division))/division\n",
        "    cov += (coefficient_c(signal1,j,i) - m1) * (coefficient_c(signal2,j,i) - m2)\n",
        "  return cov/division"
      ],
      "metadata": {
        "id": "mVZZG5CrsQLJ"
      },
      "execution_count": null,
      "outputs": []
    },
    {
      "cell_type": "code",
      "source": [
        "def correlation(j, signal1, signal2):\n",
        "  covariance = cov(j, signal1, signal2)\n",
        "  v1 = cov(j, signal1, signal1)\n",
        "  v2 = cov(j, signal2, signal2)\n",
        "  return covariance / ((v1**0.5) * (v2**0.5))"
      ],
      "metadata": {
        "id": "O4hNbEMDtHgD"
      },
      "execution_count": null,
      "outputs": []
    },
    {
      "cell_type": "markdown",
      "source": [
        "###3) Covariance and Correlation matrices\n"
      ],
      "metadata": {
        "id": "ss7-qS75rptx"
      }
    },
    {
      "cell_type": "code",
      "source": [
        "def cov_matrix(j, signaux):\n",
        "  cov_matrix = np.zeros((3, 3))\n",
        "  for i in range(3):\n",
        "    for k in range(3):\n",
        "      cov_matrix[i,k] = cov(j, signaux[i], signaux[k])\n",
        "  return cov_matrix"
      ],
      "metadata": {
        "id": "dF9kEWzksSfW"
      },
      "execution_count": null,
      "outputs": []
    },
    {
      "cell_type": "code",
      "source": [
        "def correl_matrix(j, signaux):\n",
        "  correl_matrix = np.zeros((3, 3))\n",
        "  for i in range(3):\n",
        "    for k in range(3):\n",
        "      correl_matrix[i,k] = correlation(j, signaux[i], signaux[k])\n",
        "  return correl_matrix"
      ],
      "metadata": {
        "id": "hiO_7h_c_Jqs"
      },
      "execution_count": null,
      "outputs": []
    },
    {
      "cell_type": "markdown",
      "source": [
        "###4) Hurst Exponent and volatility"
      ],
      "metadata": {
        "id": "SUSDDdl7wSEe"
      }
    },
    {
      "cell_type": "markdown",
      "source": [
        "We calculate the Hurst exponent thanks to the second order moment for the signal and the signal with another scale :"
      ],
      "metadata": {
        "id": "WUEAsiYPwu1_"
      }
    },
    {
      "cell_type": "code",
      "source": [
        "def hurst_exponent(signal):\n",
        "  M1 = np.mean((abs(signal[1:]-signal[:-1]))**2)\n",
        "  M2 = np.mean((abs(signal[2:]-signal[:-2]))**2)\n",
        "  return round(0.5*math.log2(M2/M1),5)"
      ],
      "metadata": {
        "id": "r8hMiB6KZaUW"
      },
      "execution_count": null,
      "outputs": []
    },
    {
      "cell_type": "code",
      "source": [
        "print(hurst_exponent(GBPEUR['Mid'].values))\n",
        "print(hurst_exponent(SEKEUR['Mid'].values))\n",
        "print(hurst_exponent(CADEUR['Mid'].values))"
      ],
      "metadata": {
        "colab": {
          "base_uri": "https://localhost:8080/"
        },
        "id": "DKlHsuPDdRqt",
        "outputId": "fbd1b5a0-9bae-4935-a6db-f8619dd2be3f"
      },
      "execution_count": null,
      "outputs": [
        {
          "output_type": "stream",
          "name": "stdout",
          "text": [
            "0.67955\n",
            "0.66729\n",
            "0.66774\n"
          ]
        }
      ]
    },
    {
      "cell_type": "markdown",
      "source": [
        "Now that we defined the Hurst exponent for each FX rate, we can transpose the volatility from the smallest internal (j=0) to another scalre :"
      ],
      "metadata": {
        "id": "QJSR-BJgw57o"
      }
    },
    {
      "cell_type": "code",
      "source": [
        "def vol_vector(j, signal1, signal2, signal3):\n",
        "  v1 = (cov(j, signal1, signal1))**0.5\n",
        "  v2 = (cov(j, signal2, signal2))**0.5\n",
        "  v3 = (cov(j, signal3, signal3))**0.5\n",
        "  return [v1,v2,v3]"
      ],
      "metadata": {
        "id": "6k-AFHFbx5n2"
      },
      "execution_count": null,
      "outputs": []
    },
    {
      "cell_type": "code",
      "source": [
        "def transpose_vol(j, signal1, signal2, signal3):\n",
        "  volatilities = (vol_vector(j, signal1, signal2, signal3))\n",
        "  h1 = hurst_exponent(signal1)\n",
        "  h2 = hurst_exponent(signal2)\n",
        "  h3 = hurst_exponent(signal3)\n",
        "  return [volatilities[1] * 2**(h1*j), volatilities[2] * 2**(h2*j), volatilities[3] * 2**(h3*j)]"
      ],
      "metadata": {
        "id": "tJrgSjg4wqkZ"
      },
      "execution_count": null,
      "outputs": []
    },
    {
      "cell_type": "markdown",
      "source": [
        "###5)Volatility of the portfolio"
      ],
      "metadata": {
        "id": "BwOl1tBIF73S"
      }
    },
    {
      "cell_type": "code",
      "source": [
        "weights = np.array([1/3, 1/3, 1/3])"
      ],
      "metadata": {
        "id": "czjFkEgmGOqJ"
      },
      "execution_count": null,
      "outputs": []
    },
    {
      "cell_type": "code",
      "source": [
        "cov_m = cov_matrix(0, [GBPEUR['Returns'].tolist(), SEKEUR['Returns'].tolist(), CADEUR['Returns'].tolist()])"
      ],
      "metadata": {
        "colab": {
          "base_uri": "https://localhost:8080/",
          "height": 274
        },
        "id": "EGP2KvI0zqFR",
        "outputId": "ffbbf022-4d38-4b56-cc6f-130d3af3048f"
      },
      "execution_count": null,
      "outputs": [
        {
          "output_type": "error",
          "ename": "KeyboardInterrupt",
          "evalue": "ignored",
          "traceback": [
            "\u001b[0;31m---------------------------------------------------------------------------\u001b[0m",
            "\u001b[0;31mKeyboardInterrupt\u001b[0m                         Traceback (most recent call last)",
            "\u001b[0;32m<ipython-input-163-b59fb044638c>\u001b[0m in \u001b[0;36m<cell line: 1>\u001b[0;34m()\u001b[0m\n\u001b[0;32m----> 1\u001b[0;31m \u001b[0mcov_m\u001b[0m \u001b[0;34m=\u001b[0m \u001b[0mcov_matrix\u001b[0m\u001b[0;34m(\u001b[0m\u001b[0;36m0\u001b[0m\u001b[0;34m,\u001b[0m \u001b[0;34m[\u001b[0m\u001b[0mGBPEUR\u001b[0m\u001b[0;34m[\u001b[0m\u001b[0;34m'Returns'\u001b[0m\u001b[0;34m]\u001b[0m\u001b[0;34m.\u001b[0m\u001b[0mtolist\u001b[0m\u001b[0;34m(\u001b[0m\u001b[0;34m)\u001b[0m\u001b[0;34m,\u001b[0m \u001b[0mSEKEUR\u001b[0m\u001b[0;34m[\u001b[0m\u001b[0;34m'Returns'\u001b[0m\u001b[0;34m]\u001b[0m\u001b[0;34m.\u001b[0m\u001b[0mtolist\u001b[0m\u001b[0;34m(\u001b[0m\u001b[0;34m)\u001b[0m\u001b[0;34m,\u001b[0m \u001b[0mCADEUR\u001b[0m\u001b[0;34m[\u001b[0m\u001b[0;34m'Returns'\u001b[0m\u001b[0;34m]\u001b[0m\u001b[0;34m.\u001b[0m\u001b[0mtolist\u001b[0m\u001b[0;34m(\u001b[0m\u001b[0;34m)\u001b[0m\u001b[0;34m]\u001b[0m\u001b[0;34m)\u001b[0m\u001b[0;34m\u001b[0m\u001b[0;34m\u001b[0m\u001b[0m\n\u001b[0m",
            "\u001b[0;32m<ipython-input-156-cfafdaf50f6a>\u001b[0m in \u001b[0;36mcov_matrix\u001b[0;34m(j, signaux)\u001b[0m\n\u001b[1;32m      3\u001b[0m   \u001b[0;32mfor\u001b[0m \u001b[0mi\u001b[0m \u001b[0;32min\u001b[0m \u001b[0mrange\u001b[0m\u001b[0;34m(\u001b[0m\u001b[0;36m3\u001b[0m\u001b[0;34m)\u001b[0m\u001b[0;34m:\u001b[0m\u001b[0;34m\u001b[0m\u001b[0;34m\u001b[0m\u001b[0m\n\u001b[1;32m      4\u001b[0m     \u001b[0;32mfor\u001b[0m \u001b[0mk\u001b[0m \u001b[0;32min\u001b[0m \u001b[0mrange\u001b[0m\u001b[0;34m(\u001b[0m\u001b[0;36m3\u001b[0m\u001b[0;34m)\u001b[0m\u001b[0;34m:\u001b[0m\u001b[0;34m\u001b[0m\u001b[0;34m\u001b[0m\u001b[0m\n\u001b[0;32m----> 5\u001b[0;31m       \u001b[0mcov_matrix\u001b[0m\u001b[0;34m[\u001b[0m\u001b[0mi\u001b[0m\u001b[0;34m,\u001b[0m\u001b[0mk\u001b[0m\u001b[0;34m]\u001b[0m \u001b[0;34m=\u001b[0m \u001b[0mcov\u001b[0m\u001b[0;34m(\u001b[0m\u001b[0mj\u001b[0m\u001b[0;34m,\u001b[0m \u001b[0msignaux\u001b[0m\u001b[0;34m[\u001b[0m\u001b[0mi\u001b[0m\u001b[0;34m]\u001b[0m\u001b[0;34m,\u001b[0m \u001b[0msignaux\u001b[0m\u001b[0;34m[\u001b[0m\u001b[0mk\u001b[0m\u001b[0;34m]\u001b[0m\u001b[0;34m)\u001b[0m\u001b[0;34m\u001b[0m\u001b[0;34m\u001b[0m\u001b[0m\n\u001b[0m\u001b[1;32m      6\u001b[0m   \u001b[0;32mreturn\u001b[0m \u001b[0mcov_matrix\u001b[0m\u001b[0;34m\u001b[0m\u001b[0;34m\u001b[0m\u001b[0m\n",
            "\u001b[0;32m<ipython-input-154-6546c227fa15>\u001b[0m in \u001b[0;36mcov\u001b[0;34m(j, signal1, signal2)\u001b[0m\n\u001b[1;32m      4\u001b[0m   \u001b[0mdivision\u001b[0m \u001b[0;34m=\u001b[0m \u001b[0mint\u001b[0m\u001b[0;34m(\u001b[0m\u001b[0mT\u001b[0m\u001b[0;34m/\u001b[0m\u001b[0;34m(\u001b[0m\u001b[0;36m2\u001b[0m\u001b[0;34m**\u001b[0m\u001b[0mj\u001b[0m\u001b[0;34m)\u001b[0m\u001b[0;34m)\u001b[0m\u001b[0;34m\u001b[0m\u001b[0;34m\u001b[0m\u001b[0m\n\u001b[1;32m      5\u001b[0m   \u001b[0;32mfor\u001b[0m \u001b[0mi\u001b[0m \u001b[0;32min\u001b[0m \u001b[0mrange\u001b[0m\u001b[0;34m(\u001b[0m\u001b[0mdivision\u001b[0m\u001b[0;34m)\u001b[0m\u001b[0;34m:\u001b[0m\u001b[0;34m\u001b[0m\u001b[0;34m\u001b[0m\u001b[0m\n\u001b[0;32m----> 6\u001b[0;31m     \u001b[0mm1\u001b[0m \u001b[0;34m=\u001b[0m \u001b[0msum\u001b[0m\u001b[0;34m(\u001b[0m\u001b[0mcoefficient_c\u001b[0m\u001b[0;34m(\u001b[0m\u001b[0msignal1\u001b[0m\u001b[0;34m,\u001b[0m\u001b[0mj\u001b[0m\u001b[0;34m,\u001b[0m\u001b[0mk\u001b[0m\u001b[0;34m)\u001b[0m \u001b[0;32mfor\u001b[0m \u001b[0mk\u001b[0m \u001b[0;32min\u001b[0m \u001b[0mrange\u001b[0m\u001b[0;34m(\u001b[0m\u001b[0mdivision\u001b[0m\u001b[0;34m)\u001b[0m\u001b[0;34m)\u001b[0m\u001b[0;34m/\u001b[0m\u001b[0mdivision\u001b[0m\u001b[0;34m\u001b[0m\u001b[0;34m\u001b[0m\u001b[0m\n\u001b[0m\u001b[1;32m      7\u001b[0m     \u001b[0mm2\u001b[0m \u001b[0;34m=\u001b[0m \u001b[0msum\u001b[0m\u001b[0;34m(\u001b[0m\u001b[0mcoefficient_c\u001b[0m\u001b[0;34m(\u001b[0m\u001b[0msignal2\u001b[0m\u001b[0;34m,\u001b[0m\u001b[0mj\u001b[0m\u001b[0;34m,\u001b[0m\u001b[0mk\u001b[0m\u001b[0;34m)\u001b[0m \u001b[0;32mfor\u001b[0m \u001b[0mk\u001b[0m \u001b[0;32min\u001b[0m \u001b[0mrange\u001b[0m\u001b[0;34m(\u001b[0m\u001b[0mdivision\u001b[0m\u001b[0;34m)\u001b[0m\u001b[0;34m)\u001b[0m\u001b[0;34m/\u001b[0m\u001b[0mdivision\u001b[0m\u001b[0;34m\u001b[0m\u001b[0;34m\u001b[0m\u001b[0m\n\u001b[1;32m      8\u001b[0m     \u001b[0mcov\u001b[0m \u001b[0;34m+=\u001b[0m \u001b[0;34m(\u001b[0m\u001b[0mcoefficient_c\u001b[0m\u001b[0;34m(\u001b[0m\u001b[0msignal1\u001b[0m\u001b[0;34m,\u001b[0m\u001b[0mj\u001b[0m\u001b[0;34m,\u001b[0m\u001b[0mi\u001b[0m\u001b[0;34m)\u001b[0m \u001b[0;34m-\u001b[0m \u001b[0mm1\u001b[0m\u001b[0;34m)\u001b[0m \u001b[0;34m*\u001b[0m \u001b[0;34m(\u001b[0m\u001b[0mcoefficient_c\u001b[0m\u001b[0;34m(\u001b[0m\u001b[0msignal2\u001b[0m\u001b[0;34m,\u001b[0m\u001b[0mj\u001b[0m\u001b[0;34m,\u001b[0m\u001b[0mi\u001b[0m\u001b[0;34m)\u001b[0m \u001b[0;34m-\u001b[0m \u001b[0mm2\u001b[0m\u001b[0;34m)\u001b[0m\u001b[0;34m\u001b[0m\u001b[0;34m\u001b[0m\u001b[0m\n",
            "\u001b[0;32m<ipython-input-154-6546c227fa15>\u001b[0m in \u001b[0;36m<genexpr>\u001b[0;34m(.0)\u001b[0m\n\u001b[1;32m      4\u001b[0m   \u001b[0mdivision\u001b[0m \u001b[0;34m=\u001b[0m \u001b[0mint\u001b[0m\u001b[0;34m(\u001b[0m\u001b[0mT\u001b[0m\u001b[0;34m/\u001b[0m\u001b[0;34m(\u001b[0m\u001b[0;36m2\u001b[0m\u001b[0;34m**\u001b[0m\u001b[0mj\u001b[0m\u001b[0;34m)\u001b[0m\u001b[0;34m)\u001b[0m\u001b[0;34m\u001b[0m\u001b[0;34m\u001b[0m\u001b[0m\n\u001b[1;32m      5\u001b[0m   \u001b[0;32mfor\u001b[0m \u001b[0mi\u001b[0m \u001b[0;32min\u001b[0m \u001b[0mrange\u001b[0m\u001b[0;34m(\u001b[0m\u001b[0mdivision\u001b[0m\u001b[0;34m)\u001b[0m\u001b[0;34m:\u001b[0m\u001b[0;34m\u001b[0m\u001b[0;34m\u001b[0m\u001b[0m\n\u001b[0;32m----> 6\u001b[0;31m     \u001b[0mm1\u001b[0m \u001b[0;34m=\u001b[0m \u001b[0msum\u001b[0m\u001b[0;34m(\u001b[0m\u001b[0mcoefficient_c\u001b[0m\u001b[0;34m(\u001b[0m\u001b[0msignal1\u001b[0m\u001b[0;34m,\u001b[0m\u001b[0mj\u001b[0m\u001b[0;34m,\u001b[0m\u001b[0mk\u001b[0m\u001b[0;34m)\u001b[0m \u001b[0;32mfor\u001b[0m \u001b[0mk\u001b[0m \u001b[0;32min\u001b[0m \u001b[0mrange\u001b[0m\u001b[0;34m(\u001b[0m\u001b[0mdivision\u001b[0m\u001b[0;34m)\u001b[0m\u001b[0;34m)\u001b[0m\u001b[0;34m/\u001b[0m\u001b[0mdivision\u001b[0m\u001b[0;34m\u001b[0m\u001b[0;34m\u001b[0m\u001b[0m\n\u001b[0m\u001b[1;32m      7\u001b[0m     \u001b[0mm2\u001b[0m \u001b[0;34m=\u001b[0m \u001b[0msum\u001b[0m\u001b[0;34m(\u001b[0m\u001b[0mcoefficient_c\u001b[0m\u001b[0;34m(\u001b[0m\u001b[0msignal2\u001b[0m\u001b[0;34m,\u001b[0m\u001b[0mj\u001b[0m\u001b[0;34m,\u001b[0m\u001b[0mk\u001b[0m\u001b[0;34m)\u001b[0m \u001b[0;32mfor\u001b[0m \u001b[0mk\u001b[0m \u001b[0;32min\u001b[0m \u001b[0mrange\u001b[0m\u001b[0;34m(\u001b[0m\u001b[0mdivision\u001b[0m\u001b[0;34m)\u001b[0m\u001b[0;34m)\u001b[0m\u001b[0;34m/\u001b[0m\u001b[0mdivision\u001b[0m\u001b[0;34m\u001b[0m\u001b[0;34m\u001b[0m\u001b[0m\n\u001b[1;32m      8\u001b[0m     \u001b[0mcov\u001b[0m \u001b[0;34m+=\u001b[0m \u001b[0;34m(\u001b[0m\u001b[0mcoefficient_c\u001b[0m\u001b[0;34m(\u001b[0m\u001b[0msignal1\u001b[0m\u001b[0;34m,\u001b[0m\u001b[0mj\u001b[0m\u001b[0;34m,\u001b[0m\u001b[0mi\u001b[0m\u001b[0;34m)\u001b[0m \u001b[0;34m-\u001b[0m \u001b[0mm1\u001b[0m\u001b[0;34m)\u001b[0m \u001b[0;34m*\u001b[0m \u001b[0;34m(\u001b[0m\u001b[0mcoefficient_c\u001b[0m\u001b[0;34m(\u001b[0m\u001b[0msignal2\u001b[0m\u001b[0;34m,\u001b[0m\u001b[0mj\u001b[0m\u001b[0;34m,\u001b[0m\u001b[0mi\u001b[0m\u001b[0;34m)\u001b[0m \u001b[0;34m-\u001b[0m \u001b[0mm2\u001b[0m\u001b[0;34m)\u001b[0m\u001b[0;34m\u001b[0m\u001b[0;34m\u001b[0m\u001b[0m\n",
            "\u001b[0;32m<ipython-input-153-a52df40fc244>\u001b[0m in \u001b[0;36mcoefficient_c\u001b[0;34m(signal, j, k)\u001b[0m\n\u001b[1;32m      1\u001b[0m \u001b[0;32mdef\u001b[0m \u001b[0mcoefficient_c\u001b[0m\u001b[0;34m(\u001b[0m\u001b[0msignal\u001b[0m\u001b[0;34m,\u001b[0m \u001b[0mj\u001b[0m\u001b[0;34m,\u001b[0m \u001b[0mk\u001b[0m\u001b[0;34m)\u001b[0m\u001b[0;34m:\u001b[0m\u001b[0;34m\u001b[0m\u001b[0;34m\u001b[0m\u001b[0m\n\u001b[0;32m----> 2\u001b[0;31m     \u001b[0;32mreturn\u001b[0m \u001b[0msum\u001b[0m\u001b[0;34m(\u001b[0m\u001b[0mson_wavelet\u001b[0m\u001b[0;34m(\u001b[0m\u001b[0mi\u001b[0m\u001b[0;34m,\u001b[0m \u001b[0mk\u001b[0m\u001b[0;34m,\u001b[0m \u001b[0mj\u001b[0m\u001b[0;34m)\u001b[0m \u001b[0;34m*\u001b[0m \u001b[0msignal\u001b[0m\u001b[0;34m[\u001b[0m\u001b[0;34m:\u001b[0m\u001b[0;34m:\u001b[0m\u001b[0;34m(\u001b[0m\u001b[0;36m2\u001b[0m\u001b[0;34m**\u001b[0m\u001b[0mj\u001b[0m\u001b[0;34m)\u001b[0m\u001b[0;34m]\u001b[0m\u001b[0;34m[\u001b[0m\u001b[0mi\u001b[0m\u001b[0;34m]\u001b[0m\u001b[0;32mfor\u001b[0m \u001b[0mi\u001b[0m \u001b[0;32min\u001b[0m \u001b[0mrange\u001b[0m\u001b[0;34m(\u001b[0m\u001b[0mint\u001b[0m\u001b[0;34m(\u001b[0m\u001b[0mlen\u001b[0m\u001b[0;34m(\u001b[0m\u001b[0msignal\u001b[0m\u001b[0;34m)\u001b[0m\u001b[0;34m/\u001b[0m\u001b[0;34m(\u001b[0m\u001b[0;36m2\u001b[0m\u001b[0;34m**\u001b[0m\u001b[0mj\u001b[0m\u001b[0;34m)\u001b[0m\u001b[0;34m)\u001b[0m\u001b[0;34m)\u001b[0m\u001b[0;34m)\u001b[0m\u001b[0;34m\u001b[0m\u001b[0;34m\u001b[0m\u001b[0m\n\u001b[0m",
            "\u001b[0;32m<ipython-input-153-a52df40fc244>\u001b[0m in \u001b[0;36m<genexpr>\u001b[0;34m(.0)\u001b[0m\n\u001b[1;32m      1\u001b[0m \u001b[0;32mdef\u001b[0m \u001b[0mcoefficient_c\u001b[0m\u001b[0;34m(\u001b[0m\u001b[0msignal\u001b[0m\u001b[0;34m,\u001b[0m \u001b[0mj\u001b[0m\u001b[0;34m,\u001b[0m \u001b[0mk\u001b[0m\u001b[0;34m)\u001b[0m\u001b[0;34m:\u001b[0m\u001b[0;34m\u001b[0m\u001b[0;34m\u001b[0m\u001b[0m\n\u001b[0;32m----> 2\u001b[0;31m     \u001b[0;32mreturn\u001b[0m \u001b[0msum\u001b[0m\u001b[0;34m(\u001b[0m\u001b[0mson_wavelet\u001b[0m\u001b[0;34m(\u001b[0m\u001b[0mi\u001b[0m\u001b[0;34m,\u001b[0m \u001b[0mk\u001b[0m\u001b[0;34m,\u001b[0m \u001b[0mj\u001b[0m\u001b[0;34m)\u001b[0m \u001b[0;34m*\u001b[0m \u001b[0msignal\u001b[0m\u001b[0;34m[\u001b[0m\u001b[0;34m:\u001b[0m\u001b[0;34m:\u001b[0m\u001b[0;34m(\u001b[0m\u001b[0;36m2\u001b[0m\u001b[0;34m**\u001b[0m\u001b[0mj\u001b[0m\u001b[0;34m)\u001b[0m\u001b[0;34m]\u001b[0m\u001b[0;34m[\u001b[0m\u001b[0mi\u001b[0m\u001b[0;34m]\u001b[0m\u001b[0;32mfor\u001b[0m \u001b[0mi\u001b[0m \u001b[0;32min\u001b[0m \u001b[0mrange\u001b[0m\u001b[0;34m(\u001b[0m\u001b[0mint\u001b[0m\u001b[0;34m(\u001b[0m\u001b[0mlen\u001b[0m\u001b[0;34m(\u001b[0m\u001b[0msignal\u001b[0m\u001b[0;34m)\u001b[0m\u001b[0;34m/\u001b[0m\u001b[0;34m(\u001b[0m\u001b[0;36m2\u001b[0m\u001b[0;34m**\u001b[0m\u001b[0mj\u001b[0m\u001b[0;34m)\u001b[0m\u001b[0;34m)\u001b[0m\u001b[0;34m)\u001b[0m\u001b[0;34m)\u001b[0m\u001b[0;34m\u001b[0m\u001b[0;34m\u001b[0m\u001b[0m\n\u001b[0m",
            "\u001b[0;31mKeyboardInterrupt\u001b[0m: "
          ]
        }
      ]
    },
    {
      "cell_type": "code",
      "source": [
        "vol_portfolio = (weights@cov_m@weights.T)**0.5"
      ],
      "metadata": {
        "id": "UnKSgrY9GGRb"
      },
      "execution_count": null,
      "outputs": []
    },
    {
      "cell_type": "markdown",
      "source": [
        "##b) Empirical volatility of the portfolio"
      ],
      "metadata": {
        "id": "2GEEjWNLwdQi"
      }
    },
    {
      "cell_type": "markdown",
      "source": [
        "###1) Returns of the portfolio"
      ],
      "metadata": {
        "id": "5XTuDibXwi3Q"
      }
    },
    {
      "cell_type": "markdown",
      "source": [
        "First let's create the portfolio midprices (assuming the weight of each FX rate is equal) :"
      ],
      "metadata": {
        "id": "1ySaHymOyfGx"
      }
    },
    {
      "cell_type": "code",
      "source": [
        "portfolio = pd.DataFrame(columns=[\"MidPrices\",\"Returns\"])\n",
        "portfolio[\"MidPrices\"] = GBPEUR['Mid']*1/3 + SEKEUR['Mid']*1/3 + CADEUR['Mid']*1/3\n",
        "portfolio.head()"
      ],
      "metadata": {
        "colab": {
          "base_uri": "https://localhost:8080/",
          "height": 206
        },
        "id": "SEc4ltTSwzk0",
        "outputId": "ea16e993-4aaa-4d2e-d16e-661eb7af5385"
      },
      "execution_count": null,
      "outputs": [
        {
          "output_type": "execute_result",
          "data": {
            "text/plain": [
              "   MidPrices Returns\n",
              "0   0.694408     NaN\n",
              "1   0.695075     NaN\n",
              "2   0.694842     NaN\n",
              "3   0.694515     NaN\n",
              "4   0.694523     NaN"
            ],
            "text/html": [
              "\n",
              "  <div id=\"df-86672d3b-5c64-4109-969b-88971abf86bd\" class=\"colab-df-container\">\n",
              "    <div>\n",
              "<style scoped>\n",
              "    .dataframe tbody tr th:only-of-type {\n",
              "        vertical-align: middle;\n",
              "    }\n",
              "\n",
              "    .dataframe tbody tr th {\n",
              "        vertical-align: top;\n",
              "    }\n",
              "\n",
              "    .dataframe thead th {\n",
              "        text-align: right;\n",
              "    }\n",
              "</style>\n",
              "<table border=\"1\" class=\"dataframe\">\n",
              "  <thead>\n",
              "    <tr style=\"text-align: right;\">\n",
              "      <th></th>\n",
              "      <th>MidPrices</th>\n",
              "      <th>Returns</th>\n",
              "    </tr>\n",
              "  </thead>\n",
              "  <tbody>\n",
              "    <tr>\n",
              "      <th>0</th>\n",
              "      <td>0.694408</td>\n",
              "      <td>NaN</td>\n",
              "    </tr>\n",
              "    <tr>\n",
              "      <th>1</th>\n",
              "      <td>0.695075</td>\n",
              "      <td>NaN</td>\n",
              "    </tr>\n",
              "    <tr>\n",
              "      <th>2</th>\n",
              "      <td>0.694842</td>\n",
              "      <td>NaN</td>\n",
              "    </tr>\n",
              "    <tr>\n",
              "      <th>3</th>\n",
              "      <td>0.694515</td>\n",
              "      <td>NaN</td>\n",
              "    </tr>\n",
              "    <tr>\n",
              "      <th>4</th>\n",
              "      <td>0.694523</td>\n",
              "      <td>NaN</td>\n",
              "    </tr>\n",
              "  </tbody>\n",
              "</table>\n",
              "</div>\n",
              "    <div class=\"colab-df-buttons\">\n",
              "\n",
              "  <div class=\"colab-df-container\">\n",
              "    <button class=\"colab-df-convert\" onclick=\"convertToInteractive('df-86672d3b-5c64-4109-969b-88971abf86bd')\"\n",
              "            title=\"Convert this dataframe to an interactive table.\"\n",
              "            style=\"display:none;\">\n",
              "\n",
              "  <svg xmlns=\"http://www.w3.org/2000/svg\" height=\"24px\" viewBox=\"0 -960 960 960\">\n",
              "    <path d=\"M120-120v-720h720v720H120Zm60-500h600v-160H180v160Zm220 220h160v-160H400v160Zm0 220h160v-160H400v160ZM180-400h160v-160H180v160Zm440 0h160v-160H620v160ZM180-180h160v-160H180v160Zm440 0h160v-160H620v160Z\"/>\n",
              "  </svg>\n",
              "    </button>\n",
              "\n",
              "  <style>\n",
              "    .colab-df-container {\n",
              "      display:flex;\n",
              "      gap: 12px;\n",
              "    }\n",
              "\n",
              "    .colab-df-convert {\n",
              "      background-color: #E8F0FE;\n",
              "      border: none;\n",
              "      border-radius: 50%;\n",
              "      cursor: pointer;\n",
              "      display: none;\n",
              "      fill: #1967D2;\n",
              "      height: 32px;\n",
              "      padding: 0 0 0 0;\n",
              "      width: 32px;\n",
              "    }\n",
              "\n",
              "    .colab-df-convert:hover {\n",
              "      background-color: #E2EBFA;\n",
              "      box-shadow: 0px 1px 2px rgba(60, 64, 67, 0.3), 0px 1px 3px 1px rgba(60, 64, 67, 0.15);\n",
              "      fill: #174EA6;\n",
              "    }\n",
              "\n",
              "    .colab-df-buttons div {\n",
              "      margin-bottom: 4px;\n",
              "    }\n",
              "\n",
              "    [theme=dark] .colab-df-convert {\n",
              "      background-color: #3B4455;\n",
              "      fill: #D2E3FC;\n",
              "    }\n",
              "\n",
              "    [theme=dark] .colab-df-convert:hover {\n",
              "      background-color: #434B5C;\n",
              "      box-shadow: 0px 1px 3px 1px rgba(0, 0, 0, 0.15);\n",
              "      filter: drop-shadow(0px 1px 2px rgba(0, 0, 0, 0.3));\n",
              "      fill: #FFFFFF;\n",
              "    }\n",
              "  </style>\n",
              "\n",
              "    <script>\n",
              "      const buttonEl =\n",
              "        document.querySelector('#df-86672d3b-5c64-4109-969b-88971abf86bd button.colab-df-convert');\n",
              "      buttonEl.style.display =\n",
              "        google.colab.kernel.accessAllowed ? 'block' : 'none';\n",
              "\n",
              "      async function convertToInteractive(key) {\n",
              "        const element = document.querySelector('#df-86672d3b-5c64-4109-969b-88971abf86bd');\n",
              "        const dataTable =\n",
              "          await google.colab.kernel.invokeFunction('convertToInteractive',\n",
              "                                                    [key], {});\n",
              "        if (!dataTable) return;\n",
              "\n",
              "        const docLinkHtml = 'Like what you see? Visit the ' +\n",
              "          '<a target=\"_blank\" href=https://colab.research.google.com/notebooks/data_table.ipynb>data table notebook</a>'\n",
              "          + ' to learn more about interactive tables.';\n",
              "        element.innerHTML = '';\n",
              "        dataTable['output_type'] = 'display_data';\n",
              "        await google.colab.output.renderOutput(dataTable, element);\n",
              "        const docLink = document.createElement('div');\n",
              "        docLink.innerHTML = docLinkHtml;\n",
              "        element.appendChild(docLink);\n",
              "      }\n",
              "    </script>\n",
              "  </div>\n",
              "\n",
              "\n",
              "<div id=\"df-3000cc31-b661-410e-a4e5-909a559b65de\">\n",
              "  <button class=\"colab-df-quickchart\" onclick=\"quickchart('df-3000cc31-b661-410e-a4e5-909a559b65de')\"\n",
              "            title=\"Suggest charts\"\n",
              "            style=\"display:none;\">\n",
              "\n",
              "<svg xmlns=\"http://www.w3.org/2000/svg\" height=\"24px\"viewBox=\"0 0 24 24\"\n",
              "     width=\"24px\">\n",
              "    <g>\n",
              "        <path d=\"M19 3H5c-1.1 0-2 .9-2 2v14c0 1.1.9 2 2 2h14c1.1 0 2-.9 2-2V5c0-1.1-.9-2-2-2zM9 17H7v-7h2v7zm4 0h-2V7h2v10zm4 0h-2v-4h2v4z\"/>\n",
              "    </g>\n",
              "</svg>\n",
              "  </button>\n",
              "\n",
              "<style>\n",
              "  .colab-df-quickchart {\n",
              "      --bg-color: #E8F0FE;\n",
              "      --fill-color: #1967D2;\n",
              "      --hover-bg-color: #E2EBFA;\n",
              "      --hover-fill-color: #174EA6;\n",
              "      --disabled-fill-color: #AAA;\n",
              "      --disabled-bg-color: #DDD;\n",
              "  }\n",
              "\n",
              "  [theme=dark] .colab-df-quickchart {\n",
              "      --bg-color: #3B4455;\n",
              "      --fill-color: #D2E3FC;\n",
              "      --hover-bg-color: #434B5C;\n",
              "      --hover-fill-color: #FFFFFF;\n",
              "      --disabled-bg-color: #3B4455;\n",
              "      --disabled-fill-color: #666;\n",
              "  }\n",
              "\n",
              "  .colab-df-quickchart {\n",
              "    background-color: var(--bg-color);\n",
              "    border: none;\n",
              "    border-radius: 50%;\n",
              "    cursor: pointer;\n",
              "    display: none;\n",
              "    fill: var(--fill-color);\n",
              "    height: 32px;\n",
              "    padding: 0;\n",
              "    width: 32px;\n",
              "  }\n",
              "\n",
              "  .colab-df-quickchart:hover {\n",
              "    background-color: var(--hover-bg-color);\n",
              "    box-shadow: 0 1px 2px rgba(60, 64, 67, 0.3), 0 1px 3px 1px rgba(60, 64, 67, 0.15);\n",
              "    fill: var(--button-hover-fill-color);\n",
              "  }\n",
              "\n",
              "  .colab-df-quickchart-complete:disabled,\n",
              "  .colab-df-quickchart-complete:disabled:hover {\n",
              "    background-color: var(--disabled-bg-color);\n",
              "    fill: var(--disabled-fill-color);\n",
              "    box-shadow: none;\n",
              "  }\n",
              "\n",
              "  .colab-df-spinner {\n",
              "    border: 2px solid var(--fill-color);\n",
              "    border-color: transparent;\n",
              "    border-bottom-color: var(--fill-color);\n",
              "    animation:\n",
              "      spin 1s steps(1) infinite;\n",
              "  }\n",
              "\n",
              "  @keyframes spin {\n",
              "    0% {\n",
              "      border-color: transparent;\n",
              "      border-bottom-color: var(--fill-color);\n",
              "      border-left-color: var(--fill-color);\n",
              "    }\n",
              "    20% {\n",
              "      border-color: transparent;\n",
              "      border-left-color: var(--fill-color);\n",
              "      border-top-color: var(--fill-color);\n",
              "    }\n",
              "    30% {\n",
              "      border-color: transparent;\n",
              "      border-left-color: var(--fill-color);\n",
              "      border-top-color: var(--fill-color);\n",
              "      border-right-color: var(--fill-color);\n",
              "    }\n",
              "    40% {\n",
              "      border-color: transparent;\n",
              "      border-right-color: var(--fill-color);\n",
              "      border-top-color: var(--fill-color);\n",
              "    }\n",
              "    60% {\n",
              "      border-color: transparent;\n",
              "      border-right-color: var(--fill-color);\n",
              "    }\n",
              "    80% {\n",
              "      border-color: transparent;\n",
              "      border-right-color: var(--fill-color);\n",
              "      border-bottom-color: var(--fill-color);\n",
              "    }\n",
              "    90% {\n",
              "      border-color: transparent;\n",
              "      border-bottom-color: var(--fill-color);\n",
              "    }\n",
              "  }\n",
              "</style>\n",
              "\n",
              "  <script>\n",
              "    async function quickchart(key) {\n",
              "      const quickchartButtonEl =\n",
              "        document.querySelector('#' + key + ' button');\n",
              "      quickchartButtonEl.disabled = true;  // To prevent multiple clicks.\n",
              "      quickchartButtonEl.classList.add('colab-df-spinner');\n",
              "      try {\n",
              "        const charts = await google.colab.kernel.invokeFunction(\n",
              "            'suggestCharts', [key], {});\n",
              "      } catch (error) {\n",
              "        console.error('Error during call to suggestCharts:', error);\n",
              "      }\n",
              "      quickchartButtonEl.classList.remove('colab-df-spinner');\n",
              "      quickchartButtonEl.classList.add('colab-df-quickchart-complete');\n",
              "    }\n",
              "    (() => {\n",
              "      let quickchartButtonEl =\n",
              "        document.querySelector('#df-3000cc31-b661-410e-a4e5-909a559b65de button');\n",
              "      quickchartButtonEl.style.display =\n",
              "        google.colab.kernel.accessAllowed ? 'block' : 'none';\n",
              "    })();\n",
              "  </script>\n",
              "</div>\n",
              "    </div>\n",
              "  </div>\n"
            ]
          },
          "metadata": {},
          "execution_count": 220
        }
      ]
    },
    {
      "cell_type": "markdown",
      "source": [
        "Then we'll calculate the returns of the portfolio at the smallest scale (j=0, one return every 15 min):"
      ],
      "metadata": {
        "id": "ZlpapuwL1I4_"
      }
    },
    {
      "cell_type": "code",
      "source": [
        "mid = portfolio[\"MidPrices\"]\n",
        "returns = np.zeros(len(mid))\n",
        "for i in range(1, len(mid)):\n",
        "    returns[i] = (mid[i] - mid[i-1]) / mid[i-1]\n",
        "portfolio[\"Returns\"] = returns"
      ],
      "metadata": {
        "id": "yvH3yySaz24n"
      },
      "execution_count": null,
      "outputs": []
    },
    {
      "cell_type": "code",
      "source": [
        "portfolio.head()"
      ],
      "metadata": {
        "colab": {
          "base_uri": "https://localhost:8080/",
          "height": 206
        },
        "id": "ML7NNJZo0C06",
        "outputId": "6e20d47d-73c5-4994-a361-8366e1c8ac16"
      },
      "execution_count": null,
      "outputs": [
        {
          "output_type": "execute_result",
          "data": {
            "text/plain": [
              "   MidPrices   Returns\n",
              "0   0.694408  0.000000\n",
              "1   0.695075  0.000960\n",
              "2   0.694842 -0.000336\n",
              "3   0.694515 -0.000470\n",
              "4   0.694523  0.000012"
            ],
            "text/html": [
              "\n",
              "  <div id=\"df-c3efa46f-6971-40cc-9384-88a1282b319c\" class=\"colab-df-container\">\n",
              "    <div>\n",
              "<style scoped>\n",
              "    .dataframe tbody tr th:only-of-type {\n",
              "        vertical-align: middle;\n",
              "    }\n",
              "\n",
              "    .dataframe tbody tr th {\n",
              "        vertical-align: top;\n",
              "    }\n",
              "\n",
              "    .dataframe thead th {\n",
              "        text-align: right;\n",
              "    }\n",
              "</style>\n",
              "<table border=\"1\" class=\"dataframe\">\n",
              "  <thead>\n",
              "    <tr style=\"text-align: right;\">\n",
              "      <th></th>\n",
              "      <th>MidPrices</th>\n",
              "      <th>Returns</th>\n",
              "    </tr>\n",
              "  </thead>\n",
              "  <tbody>\n",
              "    <tr>\n",
              "      <th>0</th>\n",
              "      <td>0.694408</td>\n",
              "      <td>0.000000</td>\n",
              "    </tr>\n",
              "    <tr>\n",
              "      <th>1</th>\n",
              "      <td>0.695075</td>\n",
              "      <td>0.000960</td>\n",
              "    </tr>\n",
              "    <tr>\n",
              "      <th>2</th>\n",
              "      <td>0.694842</td>\n",
              "      <td>-0.000336</td>\n",
              "    </tr>\n",
              "    <tr>\n",
              "      <th>3</th>\n",
              "      <td>0.694515</td>\n",
              "      <td>-0.000470</td>\n",
              "    </tr>\n",
              "    <tr>\n",
              "      <th>4</th>\n",
              "      <td>0.694523</td>\n",
              "      <td>0.000012</td>\n",
              "    </tr>\n",
              "  </tbody>\n",
              "</table>\n",
              "</div>\n",
              "    <div class=\"colab-df-buttons\">\n",
              "\n",
              "  <div class=\"colab-df-container\">\n",
              "    <button class=\"colab-df-convert\" onclick=\"convertToInteractive('df-c3efa46f-6971-40cc-9384-88a1282b319c')\"\n",
              "            title=\"Convert this dataframe to an interactive table.\"\n",
              "            style=\"display:none;\">\n",
              "\n",
              "  <svg xmlns=\"http://www.w3.org/2000/svg\" height=\"24px\" viewBox=\"0 -960 960 960\">\n",
              "    <path d=\"M120-120v-720h720v720H120Zm60-500h600v-160H180v160Zm220 220h160v-160H400v160Zm0 220h160v-160H400v160ZM180-400h160v-160H180v160Zm440 0h160v-160H620v160ZM180-180h160v-160H180v160Zm440 0h160v-160H620v160Z\"/>\n",
              "  </svg>\n",
              "    </button>\n",
              "\n",
              "  <style>\n",
              "    .colab-df-container {\n",
              "      display:flex;\n",
              "      gap: 12px;\n",
              "    }\n",
              "\n",
              "    .colab-df-convert {\n",
              "      background-color: #E8F0FE;\n",
              "      border: none;\n",
              "      border-radius: 50%;\n",
              "      cursor: pointer;\n",
              "      display: none;\n",
              "      fill: #1967D2;\n",
              "      height: 32px;\n",
              "      padding: 0 0 0 0;\n",
              "      width: 32px;\n",
              "    }\n",
              "\n",
              "    .colab-df-convert:hover {\n",
              "      background-color: #E2EBFA;\n",
              "      box-shadow: 0px 1px 2px rgba(60, 64, 67, 0.3), 0px 1px 3px 1px rgba(60, 64, 67, 0.15);\n",
              "      fill: #174EA6;\n",
              "    }\n",
              "\n",
              "    .colab-df-buttons div {\n",
              "      margin-bottom: 4px;\n",
              "    }\n",
              "\n",
              "    [theme=dark] .colab-df-convert {\n",
              "      background-color: #3B4455;\n",
              "      fill: #D2E3FC;\n",
              "    }\n",
              "\n",
              "    [theme=dark] .colab-df-convert:hover {\n",
              "      background-color: #434B5C;\n",
              "      box-shadow: 0px 1px 3px 1px rgba(0, 0, 0, 0.15);\n",
              "      filter: drop-shadow(0px 1px 2px rgba(0, 0, 0, 0.3));\n",
              "      fill: #FFFFFF;\n",
              "    }\n",
              "  </style>\n",
              "\n",
              "    <script>\n",
              "      const buttonEl =\n",
              "        document.querySelector('#df-c3efa46f-6971-40cc-9384-88a1282b319c button.colab-df-convert');\n",
              "      buttonEl.style.display =\n",
              "        google.colab.kernel.accessAllowed ? 'block' : 'none';\n",
              "\n",
              "      async function convertToInteractive(key) {\n",
              "        const element = document.querySelector('#df-c3efa46f-6971-40cc-9384-88a1282b319c');\n",
              "        const dataTable =\n",
              "          await google.colab.kernel.invokeFunction('convertToInteractive',\n",
              "                                                    [key], {});\n",
              "        if (!dataTable) return;\n",
              "\n",
              "        const docLinkHtml = 'Like what you see? Visit the ' +\n",
              "          '<a target=\"_blank\" href=https://colab.research.google.com/notebooks/data_table.ipynb>data table notebook</a>'\n",
              "          + ' to learn more about interactive tables.';\n",
              "        element.innerHTML = '';\n",
              "        dataTable['output_type'] = 'display_data';\n",
              "        await google.colab.output.renderOutput(dataTable, element);\n",
              "        const docLink = document.createElement('div');\n",
              "        docLink.innerHTML = docLinkHtml;\n",
              "        element.appendChild(docLink);\n",
              "      }\n",
              "    </script>\n",
              "  </div>\n",
              "\n",
              "\n",
              "<div id=\"df-f2f4e3bb-3f43-4448-9933-e0eb86609673\">\n",
              "  <button class=\"colab-df-quickchart\" onclick=\"quickchart('df-f2f4e3bb-3f43-4448-9933-e0eb86609673')\"\n",
              "            title=\"Suggest charts\"\n",
              "            style=\"display:none;\">\n",
              "\n",
              "<svg xmlns=\"http://www.w3.org/2000/svg\" height=\"24px\"viewBox=\"0 0 24 24\"\n",
              "     width=\"24px\">\n",
              "    <g>\n",
              "        <path d=\"M19 3H5c-1.1 0-2 .9-2 2v14c0 1.1.9 2 2 2h14c1.1 0 2-.9 2-2V5c0-1.1-.9-2-2-2zM9 17H7v-7h2v7zm4 0h-2V7h2v10zm4 0h-2v-4h2v4z\"/>\n",
              "    </g>\n",
              "</svg>\n",
              "  </button>\n",
              "\n",
              "<style>\n",
              "  .colab-df-quickchart {\n",
              "      --bg-color: #E8F0FE;\n",
              "      --fill-color: #1967D2;\n",
              "      --hover-bg-color: #E2EBFA;\n",
              "      --hover-fill-color: #174EA6;\n",
              "      --disabled-fill-color: #AAA;\n",
              "      --disabled-bg-color: #DDD;\n",
              "  }\n",
              "\n",
              "  [theme=dark] .colab-df-quickchart {\n",
              "      --bg-color: #3B4455;\n",
              "      --fill-color: #D2E3FC;\n",
              "      --hover-bg-color: #434B5C;\n",
              "      --hover-fill-color: #FFFFFF;\n",
              "      --disabled-bg-color: #3B4455;\n",
              "      --disabled-fill-color: #666;\n",
              "  }\n",
              "\n",
              "  .colab-df-quickchart {\n",
              "    background-color: var(--bg-color);\n",
              "    border: none;\n",
              "    border-radius: 50%;\n",
              "    cursor: pointer;\n",
              "    display: none;\n",
              "    fill: var(--fill-color);\n",
              "    height: 32px;\n",
              "    padding: 0;\n",
              "    width: 32px;\n",
              "  }\n",
              "\n",
              "  .colab-df-quickchart:hover {\n",
              "    background-color: var(--hover-bg-color);\n",
              "    box-shadow: 0 1px 2px rgba(60, 64, 67, 0.3), 0 1px 3px 1px rgba(60, 64, 67, 0.15);\n",
              "    fill: var(--button-hover-fill-color);\n",
              "  }\n",
              "\n",
              "  .colab-df-quickchart-complete:disabled,\n",
              "  .colab-df-quickchart-complete:disabled:hover {\n",
              "    background-color: var(--disabled-bg-color);\n",
              "    fill: var(--disabled-fill-color);\n",
              "    box-shadow: none;\n",
              "  }\n",
              "\n",
              "  .colab-df-spinner {\n",
              "    border: 2px solid var(--fill-color);\n",
              "    border-color: transparent;\n",
              "    border-bottom-color: var(--fill-color);\n",
              "    animation:\n",
              "      spin 1s steps(1) infinite;\n",
              "  }\n",
              "\n",
              "  @keyframes spin {\n",
              "    0% {\n",
              "      border-color: transparent;\n",
              "      border-bottom-color: var(--fill-color);\n",
              "      border-left-color: var(--fill-color);\n",
              "    }\n",
              "    20% {\n",
              "      border-color: transparent;\n",
              "      border-left-color: var(--fill-color);\n",
              "      border-top-color: var(--fill-color);\n",
              "    }\n",
              "    30% {\n",
              "      border-color: transparent;\n",
              "      border-left-color: var(--fill-color);\n",
              "      border-top-color: var(--fill-color);\n",
              "      border-right-color: var(--fill-color);\n",
              "    }\n",
              "    40% {\n",
              "      border-color: transparent;\n",
              "      border-right-color: var(--fill-color);\n",
              "      border-top-color: var(--fill-color);\n",
              "    }\n",
              "    60% {\n",
              "      border-color: transparent;\n",
              "      border-right-color: var(--fill-color);\n",
              "    }\n",
              "    80% {\n",
              "      border-color: transparent;\n",
              "      border-right-color: var(--fill-color);\n",
              "      border-bottom-color: var(--fill-color);\n",
              "    }\n",
              "    90% {\n",
              "      border-color: transparent;\n",
              "      border-bottom-color: var(--fill-color);\n",
              "    }\n",
              "  }\n",
              "</style>\n",
              "\n",
              "  <script>\n",
              "    async function quickchart(key) {\n",
              "      const quickchartButtonEl =\n",
              "        document.querySelector('#' + key + ' button');\n",
              "      quickchartButtonEl.disabled = true;  // To prevent multiple clicks.\n",
              "      quickchartButtonEl.classList.add('colab-df-spinner');\n",
              "      try {\n",
              "        const charts = await google.colab.kernel.invokeFunction(\n",
              "            'suggestCharts', [key], {});\n",
              "      } catch (error) {\n",
              "        console.error('Error during call to suggestCharts:', error);\n",
              "      }\n",
              "      quickchartButtonEl.classList.remove('colab-df-spinner');\n",
              "      quickchartButtonEl.classList.add('colab-df-quickchart-complete');\n",
              "    }\n",
              "    (() => {\n",
              "      let quickchartButtonEl =\n",
              "        document.querySelector('#df-f2f4e3bb-3f43-4448-9933-e0eb86609673 button');\n",
              "      quickchartButtonEl.style.display =\n",
              "        google.colab.kernel.accessAllowed ? 'block' : 'none';\n",
              "    })();\n",
              "  </script>\n",
              "</div>\n",
              "    </div>\n",
              "  </div>\n"
            ]
          },
          "metadata": {},
          "execution_count": 222
        }
      ]
    },
    {
      "cell_type": "code",
      "source": [
        "plt.hist(portfolio[\"Returns\"] , bins=80, color='lightsteelblue', edgecolor=\"grey\")\n",
        "plt.title(\"Portfolio returns distribution\")\n",
        "plt.xlim(-0.002,0.002)\n",
        "plt.xlabel(\"Return\")\n",
        "plt.grid(True)\n",
        "plt.ylabel(\"Frequency\")\n",
        "plt.show()"
      ],
      "metadata": {
        "colab": {
          "base_uri": "https://localhost:8080/",
          "height": 472
        },
        "id": "dRAK5ffh0vLR",
        "outputId": "b0b37325-35c3-4868-aa08-e6b4ba20379a"
      },
      "execution_count": null,
      "outputs": [
        {
          "output_type": "display_data",
          "data": {
            "text/plain": [
              "<Figure size 640x480 with 1 Axes>"
            ],
            "image/png": "[encoded data removed]"
          },
          "metadata": {}
        }
      ]
    },
    {
      "cell_type": "markdown",
      "source": [
        "###2) Volatility of the Portfolio at scale j"
      ],
      "metadata": {
        "id": "KgaePM1j15yB"
      }
    },
    {
      "cell_type": "markdown",
      "source": [
        "The idea is to calculate the volatility of the portfolio for each scale j. To do that, we need the returns at the smallest scale (j=0) and we will compute the returns at the scale j wanted by taking a step of 2^j. When there is no dilatation : j=0 and 2^j = 1 so we take every returns. When j=1, 2^j=2 so we take one return over two, etc.\n",
        "\n",
        "Then we simply calculate the volatility at the wanted scale j :\n"
      ],
      "metadata": {
        "id": "KGcxMDnr2dlo"
      }
    },
    {
      "cell_type": "code",
      "source": [
        "def vol_j(j, returns):\n",
        "  rdt = returns[::(2**j)].tolist()\n",
        "  n = len(rdt)\n",
        "  mean = sum(rdt)/len(rdt)\n",
        "  std = (sum((rdt[i] - mean)**2 for i in range(n))/n) ** 0.5\n",
        "  return std"
      ],
      "metadata": {
        "id": "uCoOQCUO15RO"
      },
      "execution_count": null,
      "outputs": []
    },
    {
      "cell_type": "markdown",
      "source": [
        "Let's store the volatilities in a DataFrame for j from 0 (15 min) to 480 (5 days = 1 market week) :"
      ],
      "metadata": {
        "id": "wLlXVCcP6TJo"
      }
    },
    {
      "cell_type": "code",
      "source": [
        "stds = pd.DataFrame(columns=[\"j\",\"std\"])\n",
        "stds['j'] = [i for i in range(480)]\n",
        "stds['std'] = [vol_j(i, portfolio[\"Returns\"]) for i in range(480)]\n",
        "stds.head(-10)"
      ],
      "metadata": {
        "colab": {
          "base_uri": "https://localhost:8080/",
          "height": 423
        },
        "id": "voKmq65L3a57",
        "outputId": "629d1e4a-cc64-4210-9553-ef9ba1f1dd3a"
      },
      "execution_count": null,
      "outputs": [
        {
          "output_type": "execute_result",
          "data": {
            "text/plain": [
              "       j       std\n",
              "0      0  0.000457\n",
              "1      1  0.000461\n",
              "2      2  0.000478\n",
              "3      3  0.000472\n",
              "4      4  0.000440\n",
              "..   ...       ...\n",
              "465  465  0.000000\n",
              "466  466  0.000000\n",
              "467  467  0.000000\n",
              "468  468  0.000000\n",
              "469  469  0.000000\n",
              "\n",
              "[470 rows x 2 columns]"
            ],
            "text/html": [
              "\n",
              "  <div id=\"df-2cace2aa-c80c-401f-ba9a-721c07d1cc34\" class=\"colab-df-container\">\n",
              "    <div>\n",
              "<style scoped>\n",
              "    .dataframe tbody tr th:only-of-type {\n",
              "        vertical-align: middle;\n",
              "    }\n",
              "\n",
              "    .dataframe tbody tr th {\n",
              "        vertical-align: top;\n",
              "    }\n",
              "\n",
              "    .dataframe thead th {\n",
              "        text-align: right;\n",
              "    }\n",
              "</style>\n",
              "<table border=\"1\" class=\"dataframe\">\n",
              "  <thead>\n",
              "    <tr style=\"text-align: right;\">\n",
              "      <th></th>\n",
              "      <th>j</th>\n",
              "      <th>std</th>\n",
              "    </tr>\n",
              "  </thead>\n",
              "  <tbody>\n",
              "    <tr>\n",
              "      <th>0</th>\n",
              "      <td>0</td>\n",
              "      <td>0.000457</td>\n",
              "    </tr>\n",
              "    <tr>\n",
              "      <th>1</th>\n",
              "      <td>1</td>\n",
              "      <td>0.000461</td>\n",
              "    </tr>\n",
              "    <tr>\n",
              "      <th>2</th>\n",
              "      <td>2</td>\n",
              "      <td>0.000478</td>\n",
              "    </tr>\n",
              "    <tr>\n",
              "      <th>3</th>\n",
              "      <td>3</td>\n",
              "      <td>0.000472</td>\n",
              "    </tr>\n",
              "    <tr>\n",
              "      <th>4</th>\n",
              "      <td>4</td>\n",
              "      <td>0.000440</td>\n",
              "    </tr>\n",
              "    <tr>\n",
              "      <th>...</th>\n",
              "      <td>...</td>\n",
              "      <td>...</td>\n",
              "    </tr>\n",
              "    <tr>\n",
              "      <th>465</th>\n",
              "      <td>465</td>\n",
              "      <td>0.000000</td>\n",
              "    </tr>\n",
              "    <tr>\n",
              "      <th>466</th>\n",
              "      <td>466</td>\n",
              "      <td>0.000000</td>\n",
              "    </tr>\n",
              "    <tr>\n",
              "      <th>467</th>\n",
              "      <td>467</td>\n",
              "      <td>0.000000</td>\n",
              "    </tr>\n",
              "    <tr>\n",
              "      <th>468</th>\n",
              "      <td>468</td>\n",
              "      <td>0.000000</td>\n",
              "    </tr>\n",
              "    <tr>\n",
              "      <th>469</th>\n",
              "      <td>469</td>\n",
              "      <td>0.000000</td>\n",
              "    </tr>\n",
              "  </tbody>\n",
              "</table>\n",
              "<p>470 rows × 2 columns</p>\n",
              "</div>\n",
              "    <div class=\"colab-df-buttons\">\n",
              "\n",
              "  <div class=\"colab-df-container\">\n",
              "    <button class=\"colab-df-convert\" onclick=\"convertToInteractive('df-2cace2aa-c80c-401f-ba9a-721c07d1cc34')\"\n",
              "            title=\"Convert this dataframe to an interactive table.\"\n",
              "            style=\"display:none;\">\n",
              "\n",
              "  <svg xmlns=\"http://www.w3.org/2000/svg\" height=\"24px\" viewBox=\"0 -960 960 960\">\n",
              "    <path d=\"M120-120v-720h720v720H120Zm60-500h600v-160H180v160Zm220 220h160v-160H400v160Zm0 220h160v-160H400v160ZM180-400h160v-160H180v160Zm440 0h160v-160H620v160ZM180-180h160v-160H180v160Zm440 0h160v-160H620v160Z\"/>\n",
              "  </svg>\n",
              "    </button>\n",
              "\n",
              "  <style>\n",
              "    .colab-df-container {\n",
              "      display:flex;\n",
              "      gap: 12px;\n",
              "    }\n",
              "\n",
              "    .colab-df-convert {\n",
              "      background-color: #E8F0FE;\n",
              "      border: none;\n",
              "      border-radius: 50%;\n",
              "      cursor: pointer;\n",
              "      display: none;\n",
              "      fill: #1967D2;\n",
              "      height: 32px;\n",
              "      padding: 0 0 0 0;\n",
              "      width: 32px;\n",
              "    }\n",
              "\n",
              "    .colab-df-convert:hover {\n",
              "      background-color: #E2EBFA;\n",
              "      box-shadow: 0px 1px 2px rgba(60, 64, 67, 0.3), 0px 1px 3px 1px rgba(60, 64, 67, 0.15);\n",
              "      fill: #174EA6;\n",
              "    }\n",
              "\n",
              "    .colab-df-buttons div {\n",
              "      margin-bottom: 4px;\n",
              "    }\n",
              "\n",
              "    [theme=dark] .colab-df-convert {\n",
              "      background-color: #3B4455;\n",
              "      fill: #D2E3FC;\n",
              "    }\n",
              "\n",
              "    [theme=dark] .colab-df-convert:hover {\n",
              "      background-color: #434B5C;\n",
              "      box-shadow: 0px 1px 3px 1px rgba(0, 0, 0, 0.15);\n",
              "      filter: drop-shadow(0px 1px 2px rgba(0, 0, 0, 0.3));\n",
              "      fill: #FFFFFF;\n",
              "    }\n",
              "  </style>\n",
              "\n",
              "    <script>\n",
              "      const buttonEl =\n",
              "        document.querySelector('#df-2cace2aa-c80c-401f-ba9a-721c07d1cc34 button.colab-df-convert');\n",
              "      buttonEl.style.display =\n",
              "        google.colab.kernel.accessAllowed ? 'block' : 'none';\n",
              "\n",
              "      async function convertToInteractive(key) {\n",
              "        const element = document.querySelector('#df-2cace2aa-c80c-401f-ba9a-721c07d1cc34');\n",
              "        const dataTable =\n",
              "          await google.colab.kernel.invokeFunction('convertToInteractive',\n",
              "                                                    [key], {});\n",
              "        if (!dataTable) return;\n",
              "\n",
              "        const docLinkHtml = 'Like what you see? Visit the ' +\n",
              "          '<a target=\"_blank\" href=https://colab.research.google.com/notebooks/data_table.ipynb>data table notebook</a>'\n",
              "          + ' to learn more about interactive tables.';\n",
              "        element.innerHTML = '';\n",
              "        dataTable['output_type'] = 'display_data';\n",
              "        await google.colab.output.renderOutput(dataTable, element);\n",
              "        const docLink = document.createElement('div');\n",
              "        docLink.innerHTML = docLinkHtml;\n",
              "        element.appendChild(docLink);\n",
              "      }\n",
              "    </script>\n",
              "  </div>\n",
              "\n",
              "\n",
              "<div id=\"df-16d7fdae-977b-43df-895a-956bbfc85e16\">\n",
              "  <button class=\"colab-df-quickchart\" onclick=\"quickchart('df-16d7fdae-977b-43df-895a-956bbfc85e16')\"\n",
              "            title=\"Suggest charts\"\n",
              "            style=\"display:none;\">\n",
              "\n",
              "<svg xmlns=\"http://www.w3.org/2000/svg\" height=\"24px\"viewBox=\"0 0 24 24\"\n",
              "     width=\"24px\">\n",
              "    <g>\n",
              "        <path d=\"M19 3H5c-1.1 0-2 .9-2 2v14c0 1.1.9 2 2 2h14c1.1 0 2-.9 2-2V5c0-1.1-.9-2-2-2zM9 17H7v-7h2v7zm4 0h-2V7h2v10zm4 0h-2v-4h2v4z\"/>\n",
              "    </g>\n",
              "</svg>\n",
              "  </button>\n",
              "\n",
              "<style>\n",
              "  .colab-df-quickchart {\n",
              "      --bg-color: #E8F0FE;\n",
              "      --fill-color: #1967D2;\n",
              "      --hover-bg-color: #E2EBFA;\n",
              "      --hover-fill-color: #174EA6;\n",
              "      --disabled-fill-color: #AAA;\n",
              "      --disabled-bg-color: #DDD;\n",
              "  }\n",
              "\n",
              "  [theme=dark] .colab-df-quickchart {\n",
              "      --bg-color: #3B4455;\n",
              "      --fill-color: #D2E3FC;\n",
              "      --hover-bg-color: #434B5C;\n",
              "      --hover-fill-color: #FFFFFF;\n",
              "      --disabled-bg-color: #3B4455;\n",
              "      --disabled-fill-color: #666;\n",
              "  }\n",
              "\n",
              "  .colab-df-quickchart {\n",
              "    background-color: var(--bg-color);\n",
              "    border: none;\n",
              "    border-radius: 50%;\n",
              "    cursor: pointer;\n",
              "    display: none;\n",
              "    fill: var(--fill-color);\n",
              "    height: 32px;\n",
              "    padding: 0;\n",
              "    width: 32px;\n",
              "  }\n",
              "\n",
              "  .colab-df-quickchart:hover {\n",
              "    background-color: var(--hover-bg-color);\n",
              "    box-shadow: 0 1px 2px rgba(60, 64, 67, 0.3), 0 1px 3px 1px rgba(60, 64, 67, 0.15);\n",
              "    fill: var(--button-hover-fill-color);\n",
              "  }\n",
              "\n",
              "  .colab-df-quickchart-complete:disabled,\n",
              "  .colab-df-quickchart-complete:disabled:hover {\n",
              "    background-color: var(--disabled-bg-color);\n",
              "    fill: var(--disabled-fill-color);\n",
              "    box-shadow: none;\n",
              "  }\n",
              "\n",
              "  .colab-df-spinner {\n",
              "    border: 2px solid var(--fill-color);\n",
              "    border-color: transparent;\n",
              "    border-bottom-color: var(--fill-color);\n",
              "    animation:\n",
              "      spin 1s steps(1) infinite;\n",
              "  }\n",
              "\n",
              "  @keyframes spin {\n",
              "    0% {\n",
              "      border-color: transparent;\n",
              "      border-bottom-color: var(--fill-color);\n",
              "      border-left-color: var(--fill-color);\n",
              "    }\n",
              "    20% {\n",
              "      border-color: transparent;\n",
              "      border-left-color: var(--fill-color);\n",
              "      border-top-color: var(--fill-color);\n",
              "    }\n",
              "    30% {\n",
              "      border-color: transparent;\n",
              "      border-left-color: var(--fill-color);\n",
              "      border-top-color: var(--fill-color);\n",
              "      border-right-color: var(--fill-color);\n",
              "    }\n",
              "    40% {\n",
              "      border-color: transparent;\n",
              "      border-right-color: var(--fill-color);\n",
              "      border-top-color: var(--fill-color);\n",
              "    }\n",
              "    60% {\n",
              "      border-color: transparent;\n",
              "      border-right-color: var(--fill-color);\n",
              "    }\n",
              "    80% {\n",
              "      border-color: transparent;\n",
              "      border-right-color: var(--fill-color);\n",
              "      border-bottom-color: var(--fill-color);\n",
              "    }\n",
              "    90% {\n",
              "      border-color: transparent;\n",
              "      border-bottom-color: var(--fill-color);\n",
              "    }\n",
              "  }\n",
              "</style>\n",
              "\n",
              "  <script>\n",
              "    async function quickchart(key) {\n",
              "      const quickchartButtonEl =\n",
              "        document.querySelector('#' + key + ' button');\n",
              "      quickchartButtonEl.disabled = true;  // To prevent multiple clicks.\n",
              "      quickchartButtonEl.classList.add('colab-df-spinner');\n",
              "      try {\n",
              "        const charts = await google.colab.kernel.invokeFunction(\n",
              "            'suggestCharts', [key], {});\n",
              "      } catch (error) {\n",
              "        console.error('Error during call to suggestCharts:', error);\n",
              "      }\n",
              "      quickchartButtonEl.classList.remove('colab-df-spinner');\n",
              "      quickchartButtonEl.classList.add('colab-df-quickchart-complete');\n",
              "    }\n",
              "    (() => {\n",
              "      let quickchartButtonEl =\n",
              "        document.querySelector('#df-16d7fdae-977b-43df-895a-956bbfc85e16 button');\n",
              "      quickchartButtonEl.style.display =\n",
              "        google.colab.kernel.accessAllowed ? 'block' : 'none';\n",
              "    })();\n",
              "  </script>\n",
              "</div>\n",
              "    </div>\n",
              "  </div>\n"
            ]
          },
          "metadata": {},
          "execution_count": 225
        }
      ]
    }
  ]
}